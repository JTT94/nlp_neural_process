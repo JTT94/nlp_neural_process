{
  "nbformat": 4,
  "nbformat_minor": 0,
  "metadata": {
    "colab": {
      "name": "Copy of BERT_NeuralProcesses_notebook.ipynb",
      "version": "0.3.2",
      "provenance": [],
      "collapsed_sections": []
    },
    "language_info": {
      "codemirror_mode": {
        "name": "ipython",
        "version": 3
      },
      "file_extension": ".py",
      "mimetype": "text/x-python",
      "name": "python",
      "nbconvert_exporter": "python",
      "pygments_lexer": "ipython3",
      "version": "3.6.8"
    },
    "kernelspec": {
      "name": "python3",
      "display_name": "Python 3"
    },
    "accelerator": "GPU"
  },
  "cells": [
    {
      "cell_type": "code",
      "metadata": {
        "colab_type": "code",
        "id": "SZKAwmizhzHo",
        "outputId": "7f088ecd-0ce9-487a-ff55-a620108b1740",
        "colab": {
          "base_uri": "https://localhost:8080/",
          "height": 323
        }
      },
      "source": [
        "import tensorflow as tf\n",
        "import pandas as pd\n",
        "import tensorflow_hub as hub\n",
        "import os\n",
        "import re\n",
        "import pickle\n",
        "\n",
        "from keras import backend as K\n",
        "import numpy as np\n",
        "import string\n",
        "from datetime import datetime \n",
        "import tensorflow_probability as tfp\n",
        "from tensorflow_probability import distributions as tfd"
      ],
      "execution_count": 1,
      "outputs": [
        {
          "output_type": "stream",
          "text": [
            "WARNING: Logging before flag parsing goes to stderr.\n",
            "W0520 20:46:49.698101 140341070206848 __init__.py:56] Some hub symbols are not available because TensorFlow version is less than 1.14\n",
            "Using TensorFlow backend.\n"
          ],
          "name": "stderr"
        },
        {
          "output_type": "stream",
          "text": [
            "\n",
            "WARNING: The TensorFlow contrib module will not be included in TensorFlow 2.0.\n",
            "For more information, please see:\n",
            "  * https://github.com/tensorflow/community/blob/master/rfcs/20180907-contrib-sunset.md\n",
            "  * https://github.com/tensorflow/addons\n",
            "If you depend on functionality not listed there, please file an issue.\n",
            "\n"
          ],
          "name": "stdout"
        }
      ]
    },
    {
      "cell_type": "code",
      "metadata": {
        "colab_type": "code",
        "id": "pgB8X8dti3qc",
        "outputId": "88844320-ef3d-4dec-feaa-51268841028c",
        "colab": {
          "base_uri": "https://localhost:8080/",
          "height": 326
        }
      },
      "source": [
        "!pip install bert-tensorflow\n",
        "import bert\n",
        "from bert import run_classifier\n",
        "from bert import optimization\n",
        "from bert import tokenization\n"
      ],
      "execution_count": 2,
      "outputs": [
        {
          "output_type": "stream",
          "text": [
            "Collecting bert-tensorflow\n",
            "\u001b[?25l  Downloading https://files.pythonhosted.org/packages/a6/66/7eb4e8b6ea35b7cc54c322c816f976167a43019750279a8473d355800a93/bert_tensorflow-1.0.1-py2.py3-none-any.whl (67kB)\n",
            "\u001b[K     |████████████████████████████████| 71kB 3.3MB/s \n",
            "\u001b[?25hRequirement already satisfied: six in /usr/local/lib/python3.6/dist-packages (from bert-tensorflow) (1.12.0)\n",
            "Installing collected packages: bert-tensorflow\n",
            "Successfully installed bert-tensorflow-1.0.1\n"
          ],
          "name": "stdout"
        }
      ]
    },
    {
      "cell_type": "code",
      "metadata": {
        "id": "ZCJDPOgQOsqJ",
        "colab_type": "code",
        "colab": {
          "base_uri": "https://localhost:8080/",
          "height": 467
        },
        "outputId": "82dfc30d-fbfd-4c52-bd8a-7dfbf91d3304"
      },
      "source": [
        "# initialiase tensorboard \n",
        "# from https://stackoverflow.com/questions/47818822/can-i-use-tensorboard-with-google-colab\n",
        "\n",
        "# Get TensorBoard running in the background. \n",
        "LOG_DIR = './test_output'\n",
        "get_ipython().system_raw(\n",
        "    'tensorboard --logdir {} --host 0.0.0.0 --port 6006 &'\n",
        "    .format(LOG_DIR)\n",
        ")\n",
        "\n",
        "# # #Download and unzip ngrok. \n",
        "! wget https://bin.equinox.io/c/4VmDzA7iaHb/ngrok-stable-linux-amd64.zip\n",
        "! unzip ngrok-stable-linux-amd64.zip\n",
        "\n",
        "# #Launch ngrok background process...\n",
        "get_ipython().system_raw('./ngrok http 6006 &')\n"
      ],
      "execution_count": 3,
      "outputs": [
        {
          "output_type": "stream",
          "text": [
            "--2019-05-20 20:46:56--  https://bin.equinox.io/c/4VmDzA7iaHb/ngrok-stable-linux-amd64.zip\n",
            "Resolving bin.equinox.io (bin.equinox.io)... 52.21.103.149, 34.231.75.48, 52.203.102.189, ...\n",
            "Connecting to bin.equinox.io (bin.equinox.io)|52.21.103.149|:443... connected.\n",
            "HTTP request sent, awaiting response... 200 OK\n",
            "Length: 16648024 (16M) [application/octet-stream]\n",
            "Saving to: ‘ngrok-stable-linux-amd64.zip’\n",
            "\n",
            "ngrok-stable-linux- 100%[===================>]  15.88M  33.1MB/s    in 0.5s    \n",
            "\n",
            "2019-05-20 20:46:57 (33.1 MB/s) - ‘ngrok-stable-linux-amd64.zip’ saved [16648024/16648024]\n",
            "\n",
            "Archive:  ngrok-stable-linux-amd64.zip\n",
            "  inflating: ngrok                   \n"
          ],
          "name": "stdout"
        }
      ]
    },
    {
      "cell_type": "code",
      "metadata": {
        "id": "8bGeRHjsccvp",
        "colab_type": "code",
        "colab": {
          "base_uri": "https://localhost:8080/",
          "height": 286
        },
        "outputId": "9682d06c-c624-448e-a2f4-b2bf43a3ec7f"
      },
      "source": [
        "\n",
        "! curl -s http://localhost:4040/api/tunnels | python3 -c \\\n",
        "    \"import sys, json; print(json.load(sys.stdin)['tunnels'][0]['public_url'])\""
      ],
      "execution_count": 4,
      "outputs": [
        {
          "output_type": "stream",
          "text": [
            "http://f48852f2.ngrok.io\n"
          ],
          "name": "stdout"
        }
      ]
    },
    {
      "cell_type": "code",
      "metadata": {
        "id": "bweIS72l5WS5",
        "colab_type": "code",
        "outputId": "7853848a-8ebe-4005-e613-e20b59b4f4af",
        "colab": {
          "base_uri": "https://localhost:8080/",
          "height": 306
        }
      },
      "source": [
        "import os, sys\n",
        "sys.path.append('../') # add personal code dir to path for import\n",
        "\n",
        "\n",
        "!test -d neural_process || git clone https://github.com/JTT94/nlp_neural_process.git neural_process\n",
        "sys.path.append('./neural_process/')\n",
        "\n",
        "import random\n",
        "from neural_process import split_context_target, NeuralProcessParams\n",
        "from neural_process.network import *\n",
        "from neural_process.loss import *\n",
        "from neural_process.predict import *\n",
        "from neural_process.process import *\n",
        "\n",
        "from neural_process.tf_bertNPmodel_builder import *\n",
        "from neural_process.bert_utils import *\n",
        "from neural_process.neural_process_utils import *"
      ],
      "execution_count": 5,
      "outputs": [
        {
          "output_type": "stream",
          "text": [
            "Cloning into 'neural_process'...\n",
            "remote: Enumerating objects: 89, done.\u001b[K\n",
            "remote: Counting objects: 100% (89/89), done.\u001b[K\n",
            "remote: Compressing objects: 100% (63/63), done.\u001b[K\n",
            "remote: Total 89 (delta 52), reused 47 (delta 24), pack-reused 0\u001b[K\n",
            "Unpacking objects: 100% (89/89), done.\n"
          ],
          "name": "stdout"
        }
      ]
    },
    {
      "cell_type": "code",
      "metadata": {
        "colab_type": "code",
        "id": "69MNF4fEi5Ly",
        "outputId": "e569b203-182d-496f-a0a5-c03f652aa98c",
        "colab": {
          "base_uri": "https://localhost:8080/",
          "height": 194
        }
      },
      "source": [
        "# Initialize session\n",
        "sess = tf.Session()\n",
        "K.set_session(sess)\n",
        "K.tensorflow_backend._get_available_gpus()\n",
        "# tf.logging.set_verbosity(tf.logging.ERROR)"
      ],
      "execution_count": 6,
      "outputs": [
        {
          "output_type": "execute_result",
          "data": {
            "text/plain": [
              "['/job:localhost/replica:0/task:0/device:GPU:0']"
            ]
          },
          "metadata": {
            "tags": []
          },
          "execution_count": 6
        }
      ]
    },
    {
      "cell_type": "code",
      "metadata": {
        "id": "jDvh4JVNQFck",
        "colab_type": "code",
        "outputId": "8f134b1e-cc3d-4339-c2c4-6462736b8049",
        "colab": {
          "base_uri": "https://localhost:8080/",
          "height": 307
        }
      },
      "source": [
        "from google.colab import drive\n",
        "drive.mount('/content/gdrive')"
      ],
      "execution_count": 7,
      "outputs": [
        {
          "output_type": "stream",
          "text": [
            "Go to this URL in a browser: https://accounts.google.com/o/oauth2/auth?client_id=947318989803-6bn6qk8qdgf4n4g3pfee6491hc0brc4i.apps.googleusercontent.com&redirect_uri=urn%3Aietf%3Awg%3Aoauth%3A2.0%3Aoob&scope=email%20https%3A%2F%2Fwww.googleapis.com%2Fauth%2Fdocs.test%20https%3A%2F%2Fwww.googleapis.com%2Fauth%2Fdrive%20https%3A%2F%2Fwww.googleapis.com%2Fauth%2Fdrive.photos.readonly%20https%3A%2F%2Fwww.googleapis.com%2Fauth%2Fpeopleapi.readonly&response_type=code\n",
            "\n",
            "Enter your authorization code:\n",
            "··········\n",
            "Mounted at /content/gdrive\n"
          ],
          "name": "stdout"
        }
      ]
    },
    {
      "cell_type": "code",
      "metadata": {
        "colab_type": "code",
        "id": "Cc1rwgOZi9F1",
        "colab": {}
      },
      "source": [
        "# filename = './cleaned_data.csv'\n",
        "# filename = './data1.csv'\n",
        "# df = pd.read_csv(filename, index_col=0)\n",
        "# cols = ['comment','antagonize', 'condescending', 'dismissive', 'generalisation', 'hostile', 'sarcastic', 'healthy']\n",
        "# cols = ['comment','cleaned_comment','antagonize', 'condescending', 'dismissive', 'generalisation', 'hostile', 'sarcastic', 'healthy']\n",
        "# df = df[cols]\n",
        "\n",
        "#score_column = ['antagonize', 'condescending', 'dismissive', 'generalisation', 'hostile', 'sarcastic', 'healthy']\n",
        "# text_col_name = 'cleaned_comment'\n",
        "# text_col_name = 'comment'\n",
        "\n",
        "#--------\n",
        "\n",
        "### For kaggle dataset\n",
        "\n",
        "## Training data\n",
        "\n",
        "# filename = './gdrive/My Drive/Data/train.csv'\n",
        "train_filename = './gdrive/My Drive/Kaggle_toxic_comments/kaggle_train.csv'\n",
        "\n",
        "df = pd.read_csv(train_filename)\n",
        "cols = ['comment_text','toxic', 'severe_toxic', 'obscene', 'threat', 'insult', 'identity_hate']\n",
        "df = df[cols]\n",
        "\n",
        "score_column = ['toxic', 'severe_toxic', 'obscene', 'threat', 'insult', 'identity_hate']\n",
        "\n",
        "text_col_name = 'comment_text'\n",
        "\n",
        "#Cast to float - because scores and labels need to be concattenated in the model function, and so need to be same type\n",
        "for i in score_column:\n",
        "  df[i] = pd.to_numeric(df[i],downcast='float')\n",
        "\n",
        "# over represent toxic comments\n",
        "\n",
        "df['num_toxic_atts'] = df[cols[1:]].apply(lambda x: np.sum(x), axis = 1)\n",
        "\n",
        "df_toxic = df[df.num_toxic_atts  > 0]\n",
        "# print(len(df_toxic))\n",
        "\n",
        "df_healthy_sample = df[df.num_toxic_atts == 0].sample(frac=1.0)[:len(df_toxic)]\n",
        "# print(len(df_healthy_sample))\n",
        "\n",
        "df_train = pd.concat([df_toxic, df_healthy_sample]).sample(frac=1.0)\n",
        "\n",
        "\n",
        "## Test data:\n",
        "\n",
        "test_data_filename = './gdrive/My Drive/Kaggle_toxic_comments/kaggle_test.csv'\n",
        "test_labels_filename = './gdrive/My Drive/Kaggle_toxic_comments/kaggle_test_labels.csv'\n",
        "df_test = pd.read_csv(test_data_filename)\n",
        "test_labels = pd.read_csv(test_labels_filename)\n",
        "df_test = pd.merge(df_test, test_labels, on='id')\n",
        "#get rid of -1 values\n",
        "df_test = test_df.replace(-1, np.nan).dropna(subset=cols)\n",
        "\n",
        "#restrict comment length\n",
        "df_test = df_test[df_test.comment_text.str.len() <= 250]\n",
        "\n",
        "df_test = df_test[cols]\n",
        "#Cast to float - because scores and labels need to be concattenated in the model function, and so need to be same type\n",
        "for i in score_column:\n",
        "  df_test[i] = pd.to_numeric(df_test[i],downcast='float')"
      ],
      "execution_count": 0,
      "outputs": []
    },
    {
      "cell_type": "code",
      "metadata": {
        "colab_type": "code",
        "id": "p_JIbqhY55L_",
        "colab": {}
      },
      "source": [
        "# # Restrict comment length\n",
        "\n",
        "# df = df[df.comment_text.str.len() <= 250]\n",
        "\n",
        "# # print(len(df))\n",
        "\n",
        "# # full_df = df.copy(deep=True)\n",
        "\n",
        "# #sample portion of dataset to speed up preprocessing\n",
        "\n",
        "# # df = df.sample(frac = 0.5)\n",
        "\n",
        "# # over represent toxic comments\n",
        "\n",
        "# df['num_toxic_atts'] = df[cols[1:]].apply(lambda x: np.sum(x), axis = 1)\n",
        "\n",
        "# df_toxic = df[df.num_toxic_atts  > 0]\n",
        "# # print(len(df_toxic))\n",
        "# df_healthy_sample = df[df.num_toxic_atts == 0][:len(df_toxic)]\n",
        "# print(len(df_healthy_sample))\n",
        "# df_healthy_remaining = df[df.num_toxic_atts == 0][len(df_toxic):]\n",
        "# print(len(df_healthy_remaining))\n",
        "\n",
        "# df_overrep = pd.concat([df_toxic, df_healthy_sample]).sample(frac=1.0)\n",
        "# print(len(df_overrep))\n",
        "# train_propn = 0.8\n",
        "\n",
        "# ratio = len(df_toxic)/(len(df_healthy_sample)+len(df_healthy_remaining))\n",
        "# print(ratio)\n",
        "\n",
        "# df_train = df_overrep[:int(len(df_overrep)*train_propn)]\n",
        "# print(len(df_train))\n",
        "\n",
        "# #construct a test set with similar proportion/imbalance in toxic - nontoxic data to the real data set\n",
        "# df_test = pd.concat([df_overrep[int(len(df_overrep)*train_propn):], df_healthy_remaining[:int((1-0.8)*(len(df_healthy_remaining)-len(df_train)))]])\n",
        "\n",
        "# print(0.5*len(df_overrep[int(len(df_overrep)*train_propn):]) / len(df_test))\n",
        "# # df_train.head(50)"
      ],
      "execution_count": 0,
      "outputs": []
    },
    {
      "cell_type": "code",
      "metadata": {
        "colab_type": "code",
        "id": "mUIe15uTi9Ok",
        "outputId": "09ba3f79-543a-40e9-fe2d-5a3526d75841",
        "colab": {
          "base_uri": "https://localhost:8080/",
          "height": 194
        }
      },
      "source": [
        "# This is a path to an uncased (all lowercase) version of BERT\n",
        "BERT_model_hub = \"https://tfhub.dev/google/bert_uncased_L-12_H-768_A-12/1\"\n",
        "tokenizer = create_tokenizer_from_hub_module(BERT_model_hub)"
      ],
      "execution_count": 17,
      "outputs": [
        {
          "output_type": "stream",
          "text": [
            "INFO:tensorflow:Saver not created because there are no variables in the graph to restore\n"
          ],
          "name": "stdout"
        },
        {
          "output_type": "stream",
          "text": [
            "I0520 20:51:11.515383 140341070206848 saver.py:1483] Saver not created because there are no variables in the graph to restore\n"
          ],
          "name": "stderr"
        }
      ]
    },
    {
      "cell_type": "code",
      "metadata": {
        "id": "bQ_IpvxIWULL",
        "colab_type": "code",
        "colab": {}
      },
      "source": [
        "# Parameters\n",
        "max_seq_length = 128 # max number of tokens considered by bert per comment\n",
        "num_draws = 20 \n",
        "NPparams = NeuralProcessParams(dim_r=20, dim_z=20, n_hidden_units_h=[128, 128, 128], n_hidden_units_g=[128, 128, 128])\n"
      ],
      "execution_count": 0,
      "outputs": []
    },
    {
      "cell_type": "code",
      "metadata": {
        "colab_type": "code",
        "id": "IVESPLmgl98I",
        "colab": {}
      },
      "source": [
        "# #Pre process data for bert embedding\n",
        "\n",
        "# train_input_examples = create_examples(df_train, score_column, text_col_name)\n",
        "# test_input_examples = create_examples(df_test, score_column, text_col_name)\n",
        "\n",
        "# train_features = convert_examples_to_features(train_input_examples, max_seq_length, tokenizer)\n",
        "# test_features = convert_examples_to_features(test_input_examples, max_seq_length, tokenizer)\n",
        "\n",
        "# pickle.dump(train_features, open('./gdrive/My Drive/Kaggle_toxic_comments/train_features.p', 'wb'))\n",
        "# pickle.dump(test_features, open('./gdrive/My Drive/Kaggle_toxic_comments/test_features.p', 'wb'))\n",
        "\n",
        "# # ## Load features previously saved\n",
        "\n",
        "train_features = pickle.load(open('./gdrive/My Drive/Kaggle_toxic_comments/train_features.p', 'rb'))\n",
        "test_features = pickle.load(open('./gdrive/My Drive/Kaggle_toxic_comments/train_features.p', 'rb'))"
      ],
      "execution_count": 0,
      "outputs": []
    },
    {
      "cell_type": "code",
      "metadata": {
        "colab_type": "code",
        "id": "3K9kf-1DlHJA",
        "outputId": "f5fba896-ebfb-4f52-83a3-2b653e9369ee",
        "colab": {
          "base_uri": "https://localhost:8080/",
          "height": 3854
        }
      },
      "source": [
        "# These hyperparameters are copied from this colab notebook (https://colab.sandbox.google.com/github/tensorflow/tpu/blob/master/tools/colab/bert_finetuning_with_cloud_tpus.ipynb)\n",
        "batch_size = 32\n",
        "# lr = 2e-2\n",
        "lr = 2e-5\n",
        "epochs = 15.0\n",
        "# Warmup is a period of time where the learning rate  is small and gradually increases\n",
        "warmpup_proportion = 0.1\n",
        "\n",
        "# Compute # train and warmup steps from batch size\n",
        "num_train_steps = int(len(train_features) / batch_size *epochs)\n",
        "num_warmup_steps = int(num_train_steps * warmpup_proportion)\n",
        "\n",
        "#####\n",
        "\n",
        "output_dir = \"./test_output\"\n",
        "save_checkpoints_steps = 500\n",
        "save_summary_steps = 100\n",
        "\n",
        "# Specify outpit directory and number of checkpoint steps to save\n",
        "run_config = tf.estimator.RunConfig(model_dir=output_dir,\n",
        "    save_summary_steps=save_summary_steps, save_checkpoints_steps=save_checkpoints_steps)\n",
        "\n",
        "#####\n",
        "\n",
        "num_labels = len(score_column)\n",
        "\n",
        "model_fn = model_fn_builder(create_model, num_labels = num_labels, learning_rate=lr,\n",
        "  NPparams = NPparams, num_draws=num_draws , BERT_model_hub = BERT_model_hub, num_train_steps=num_train_steps, num_warmup_steps=num_warmup_steps)\n",
        "\n",
        "estimator = tf.estimator.Estimator(model_fn=model_fn,config=run_config,\n",
        "  params={\"batch_size\": batch_size})\n",
        "\n",
        "#####\n",
        "\n",
        "# Create an input function for training. drop_remainder = True for using TPUs.\n",
        "train_input_fn = input_fn_builder(\n",
        "    features=train_features, seq_length=max_seq_length, \n",
        "    num_labels = num_labels, is_training=True, drop_remainder=False)\n",
        "\n",
        "#####\n",
        "\n",
        "print('Beginning Training!')\n",
        "current_time = datetime.now()\n",
        "estimator.train(input_fn=train_input_fn, max_steps=num_train_steps)\n",
        "print(\"Training took time \", datetime.now() - current_time)"
      ],
      "execution_count": 0,
      "outputs": [
        {
          "output_type": "stream",
          "text": [
            "INFO:tensorflow:Using config: {'_model_dir': './test_output', '_tf_random_seed': None, '_save_summary_steps': 100, '_save_checkpoints_steps': 500, '_save_checkpoints_secs': None, '_session_config': allow_soft_placement: true\n",
            "graph_options {\n",
            "  rewrite_options {\n",
            "    meta_optimizer_iterations: ONE\n",
            "  }\n",
            "}\n",
            ", '_keep_checkpoint_max': 5, '_keep_checkpoint_every_n_hours': 10000, '_log_step_count_steps': 100, '_train_distribute': None, '_device_fn': None, '_protocol': None, '_eval_distribute': None, '_experimental_distribute': None, '_service': None, '_cluster_spec': <tensorflow.python.training.server_lib.ClusterSpec object at 0x7fa303d997f0>, '_task_type': 'worker', '_task_id': 0, '_global_id_in_cluster': 0, '_master': '', '_evaluation_master': '', '_is_chief': True, '_num_ps_replicas': 0, '_num_worker_replicas': 1}\n"
          ],
          "name": "stdout"
        },
        {
          "output_type": "stream",
          "text": [
            "I0521 00:00:27.040299 140341070206848 estimator.py:201] Using config: {'_model_dir': './test_output', '_tf_random_seed': None, '_save_summary_steps': 100, '_save_checkpoints_steps': 500, '_save_checkpoints_secs': None, '_session_config': allow_soft_placement: true\n",
            "graph_options {\n",
            "  rewrite_options {\n",
            "    meta_optimizer_iterations: ONE\n",
            "  }\n",
            "}\n",
            ", '_keep_checkpoint_max': 5, '_keep_checkpoint_every_n_hours': 10000, '_log_step_count_steps': 100, '_train_distribute': None, '_device_fn': None, '_protocol': None, '_eval_distribute': None, '_experimental_distribute': None, '_service': None, '_cluster_spec': <tensorflow.python.training.server_lib.ClusterSpec object at 0x7fa303d997f0>, '_task_type': 'worker', '_task_id': 0, '_global_id_in_cluster': 0, '_master': '', '_evaluation_master': '', '_is_chief': True, '_num_ps_replicas': 0, '_num_worker_replicas': 1}\n"
          ],
          "name": "stderr"
        },
        {
          "output_type": "stream",
          "text": [
            "Beginning Training!\n",
            "INFO:tensorflow:Calling model_fn.\n"
          ],
          "name": "stdout"
        },
        {
          "output_type": "stream",
          "text": [
            "I0521 00:00:45.173328 140341070206848 estimator.py:1111] Calling model_fn.\n"
          ],
          "name": "stderr"
        },
        {
          "output_type": "stream",
          "text": [
            "INFO:tensorflow:Saver not created because there are no variables in the graph to restore\n"
          ],
          "name": "stdout"
        },
        {
          "output_type": "stream",
          "text": [
            "I0521 00:00:47.523428 140341070206848 saver.py:1483] Saver not created because there are no variables in the graph to restore\n"
          ],
          "name": "stderr"
        },
        {
          "output_type": "stream",
          "text": [
            "INFO:tensorflow:Tensor(\"module_apply_tokens/bert/pooler/dense/Tanh:0\", shape=(?, 768), dtype=float32)\n"
          ],
          "name": "stdout"
        },
        {
          "output_type": "stream",
          "text": [
            "I0521 00:00:47.638086 140341070206848 neural_process_utils.py:216] Tensor(\"module_apply_tokens/bert/pooler/dense/Tanh:0\", shape=(?, 768), dtype=float32)\n",
            "/usr/local/lib/python3.6/dist-packages/tensorflow/python/ops/gradients_impl.py:110: UserWarning: Converting sparse IndexedSlices to a dense Tensor of unknown shape. This may consume a large amount of memory.\n",
            "  \"Converting sparse IndexedSlices to a dense Tensor of unknown shape. \"\n"
          ],
          "name": "stderr"
        },
        {
          "output_type": "stream",
          "text": [
            "INFO:tensorflow:Done calling model_fn.\n"
          ],
          "name": "stdout"
        },
        {
          "output_type": "stream",
          "text": [
            "I0521 00:00:59.277087 140341070206848 estimator.py:1113] Done calling model_fn.\n"
          ],
          "name": "stderr"
        },
        {
          "output_type": "stream",
          "text": [
            "INFO:tensorflow:Create CheckpointSaverHook.\n"
          ],
          "name": "stdout"
        },
        {
          "output_type": "stream",
          "text": [
            "I0521 00:00:59.280537 140341070206848 basic_session_run_hooks.py:527] Create CheckpointSaverHook.\n"
          ],
          "name": "stderr"
        },
        {
          "output_type": "stream",
          "text": [
            "INFO:tensorflow:Graph was finalized.\n"
          ],
          "name": "stdout"
        },
        {
          "output_type": "stream",
          "text": [
            "I0521 00:01:00.832436 140341070206848 monitored_session.py:222] Graph was finalized.\n"
          ],
          "name": "stderr"
        },
        {
          "output_type": "stream",
          "text": [
            "INFO:tensorflow:Restoring parameters from ./test_output/model.ckpt-10140\n"
          ],
          "name": "stdout"
        },
        {
          "output_type": "stream",
          "text": [
            "I0521 00:01:00.844619 140341070206848 saver.py:1270] Restoring parameters from ./test_output/model.ckpt-10140\n"
          ],
          "name": "stderr"
        },
        {
          "output_type": "stream",
          "text": [
            "INFO:tensorflow:Running local_init_op.\n"
          ],
          "name": "stdout"
        },
        {
          "output_type": "stream",
          "text": [
            "I0521 00:01:03.224100 140341070206848 session_manager.py:491] Running local_init_op.\n"
          ],
          "name": "stderr"
        },
        {
          "output_type": "stream",
          "text": [
            "INFO:tensorflow:Done running local_init_op.\n"
          ],
          "name": "stdout"
        },
        {
          "output_type": "stream",
          "text": [
            "I0521 00:01:03.501586 140341070206848 session_manager.py:493] Done running local_init_op.\n"
          ],
          "name": "stderr"
        },
        {
          "output_type": "stream",
          "text": [
            "INFO:tensorflow:Saving checkpoints for 10140 into ./test_output/model.ckpt.\n"
          ],
          "name": "stdout"
        },
        {
          "output_type": "stream",
          "text": [
            "I0521 00:01:24.007328 140341070206848 basic_session_run_hooks.py:594] Saving checkpoints for 10140 into ./test_output/model.ckpt.\n"
          ],
          "name": "stderr"
        },
        {
          "output_type": "stream",
          "text": [
            "INFO:tensorflow:loss = -143.56087, step = 10140\n"
          ],
          "name": "stdout"
        },
        {
          "output_type": "stream",
          "text": [
            "I0521 00:01:41.620124 140341070206848 basic_session_run_hooks.py:249] loss = -143.56087, step = 10140\n"
          ],
          "name": "stderr"
        },
        {
          "output_type": "stream",
          "text": [
            "INFO:tensorflow:global_step/sec: 0.970406\n"
          ],
          "name": "stdout"
        },
        {
          "output_type": "stream",
          "text": [
            "I0521 00:03:24.669161 140341070206848 basic_session_run_hooks.py:680] global_step/sec: 0.970406\n"
          ],
          "name": "stderr"
        },
        {
          "output_type": "stream",
          "text": [
            "INFO:tensorflow:loss = -121.5063, step = 10240 (103.052 sec)\n"
          ],
          "name": "stdout"
        },
        {
          "output_type": "stream",
          "text": [
            "I0521 00:03:24.671823 140341070206848 basic_session_run_hooks.py:247] loss = -121.5063, step = 10240 (103.052 sec)\n"
          ],
          "name": "stderr"
        },
        {
          "output_type": "stream",
          "text": [
            "INFO:tensorflow:global_step/sec: 1.12874\n"
          ],
          "name": "stdout"
        },
        {
          "output_type": "stream",
          "text": [
            "I0521 00:04:53.263297 140341070206848 basic_session_run_hooks.py:680] global_step/sec: 1.12874\n"
          ],
          "name": "stderr"
        },
        {
          "output_type": "stream",
          "text": [
            "INFO:tensorflow:loss = -123.85532, step = 10340 (88.594 sec)\n"
          ],
          "name": "stdout"
        },
        {
          "output_type": "stream",
          "text": [
            "I0521 00:04:53.266311 140341070206848 basic_session_run_hooks.py:247] loss = -123.85532, step = 10340 (88.594 sec)\n"
          ],
          "name": "stderr"
        },
        {
          "output_type": "stream",
          "text": [
            "INFO:tensorflow:global_step/sec: 1.13643\n"
          ],
          "name": "stdout"
        },
        {
          "output_type": "stream",
          "text": [
            "I0521 00:06:21.257927 140341070206848 basic_session_run_hooks.py:680] global_step/sec: 1.13643\n"
          ],
          "name": "stderr"
        },
        {
          "output_type": "stream",
          "text": [
            "INFO:tensorflow:loss = -123.55185, step = 10440 (87.994 sec)\n"
          ],
          "name": "stdout"
        },
        {
          "output_type": "stream",
          "text": [
            "I0521 00:06:21.260065 140341070206848 basic_session_run_hooks.py:247] loss = -123.55185, step = 10440 (87.994 sec)\n"
          ],
          "name": "stderr"
        },
        {
          "output_type": "stream",
          "text": [
            "INFO:tensorflow:global_step/sec: 1.13589\n"
          ],
          "name": "stdout"
        },
        {
          "output_type": "stream",
          "text": [
            "I0521 00:07:49.294463 140341070206848 basic_session_run_hooks.py:680] global_step/sec: 1.13589\n"
          ],
          "name": "stderr"
        },
        {
          "output_type": "stream",
          "text": [
            "INFO:tensorflow:loss = -93.812874, step = 10540 (88.037 sec)\n"
          ],
          "name": "stdout"
        },
        {
          "output_type": "stream",
          "text": [
            "I0521 00:07:49.296930 140341070206848 basic_session_run_hooks.py:247] loss = -93.812874, step = 10540 (88.037 sec)\n"
          ],
          "name": "stderr"
        },
        {
          "output_type": "stream",
          "text": [
            "INFO:tensorflow:Saving checkpoints for 10640 into ./test_output/model.ckpt.\n"
          ],
          "name": "stdout"
        },
        {
          "output_type": "stream",
          "text": [
            "I0521 00:09:16.462587 140341070206848 basic_session_run_hooks.py:594] Saving checkpoints for 10640 into ./test_output/model.ckpt.\n"
          ],
          "name": "stderr"
        },
        {
          "output_type": "stream",
          "text": [
            "INFO:tensorflow:global_step/sec: 1.02355\n"
          ],
          "name": "stdout"
        },
        {
          "output_type": "stream",
          "text": [
            "I0521 00:09:26.993745 140341070206848 basic_session_run_hooks.py:680] global_step/sec: 1.02355\n"
          ],
          "name": "stderr"
        },
        {
          "output_type": "stream",
          "text": [
            "INFO:tensorflow:loss = -135.46553, step = 10640 (97.701 sec)\n"
          ],
          "name": "stdout"
        },
        {
          "output_type": "stream",
          "text": [
            "I0521 00:09:26.997569 140341070206848 basic_session_run_hooks.py:247] loss = -135.46553, step = 10640 (97.701 sec)\n"
          ],
          "name": "stderr"
        },
        {
          "output_type": "stream",
          "text": [
            "INFO:tensorflow:global_step/sec: 1.13035\n"
          ],
          "name": "stdout"
        },
        {
          "output_type": "stream",
          "text": [
            "I0521 00:10:55.461870 140341070206848 basic_session_run_hooks.py:680] global_step/sec: 1.13035\n"
          ],
          "name": "stderr"
        },
        {
          "output_type": "stream",
          "text": [
            "INFO:tensorflow:loss = -108.88929, step = 10740 (88.470 sec)\n"
          ],
          "name": "stdout"
        },
        {
          "output_type": "stream",
          "text": [
            "I0521 00:10:55.467318 140341070206848 basic_session_run_hooks.py:247] loss = -108.88929, step = 10740 (88.470 sec)\n"
          ],
          "name": "stderr"
        },
        {
          "output_type": "stream",
          "text": [
            "INFO:tensorflow:global_step/sec: 1.13566\n"
          ],
          "name": "stdout"
        },
        {
          "output_type": "stream",
          "text": [
            "I0521 00:12:23.516582 140341070206848 basic_session_run_hooks.py:680] global_step/sec: 1.13566\n"
          ],
          "name": "stderr"
        },
        {
          "output_type": "stream",
          "text": [
            "INFO:tensorflow:loss = -111.7144, step = 10840 (88.054 sec)\n"
          ],
          "name": "stdout"
        },
        {
          "output_type": "stream",
          "text": [
            "I0521 00:12:23.520945 140341070206848 basic_session_run_hooks.py:247] loss = -111.7144, step = 10840 (88.054 sec)\n"
          ],
          "name": "stderr"
        },
        {
          "output_type": "stream",
          "text": [
            "INFO:tensorflow:global_step/sec: 1.13689\n"
          ],
          "name": "stdout"
        },
        {
          "output_type": "stream",
          "text": [
            "I0521 00:13:51.475816 140341070206848 basic_session_run_hooks.py:680] global_step/sec: 1.13689\n"
          ],
          "name": "stderr"
        },
        {
          "output_type": "stream",
          "text": [
            "INFO:tensorflow:loss = -120.30151, step = 10940 (87.959 sec)\n"
          ],
          "name": "stdout"
        },
        {
          "output_type": "stream",
          "text": [
            "I0521 00:13:51.479830 140341070206848 basic_session_run_hooks.py:247] loss = -120.30151, step = 10940 (87.959 sec)\n"
          ],
          "name": "stderr"
        },
        {
          "output_type": "stream",
          "text": [
            "INFO:tensorflow:global_step/sec: 1.13631\n"
          ],
          "name": "stdout"
        },
        {
          "output_type": "stream",
          "text": [
            "I0521 00:15:19.479995 140341070206848 basic_session_run_hooks.py:680] global_step/sec: 1.13631\n"
          ],
          "name": "stderr"
        },
        {
          "output_type": "stream",
          "text": [
            "INFO:tensorflow:loss = -124.78581, step = 11040 (88.003 sec)\n"
          ],
          "name": "stdout"
        },
        {
          "output_type": "stream",
          "text": [
            "I0521 00:15:19.482494 140341070206848 basic_session_run_hooks.py:247] loss = -124.78581, step = 11040 (88.003 sec)\n"
          ],
          "name": "stderr"
        },
        {
          "output_type": "stream",
          "text": [
            "INFO:tensorflow:Saving checkpoints for 11140 into ./test_output/model.ckpt.\n"
          ],
          "name": "stdout"
        },
        {
          "output_type": "stream",
          "text": [
            "I0521 00:16:46.731116 140341070206848 basic_session_run_hooks.py:594] Saving checkpoints for 11140 into ./test_output/model.ckpt.\n"
          ],
          "name": "stderr"
        },
        {
          "output_type": "stream",
          "text": [
            "INFO:tensorflow:global_step/sec: 1.02234\n"
          ],
          "name": "stdout"
        },
        {
          "output_type": "stream",
          "text": [
            "I0521 00:16:57.294633 140341070206848 basic_session_run_hooks.py:680] global_step/sec: 1.02234\n"
          ],
          "name": "stderr"
        },
        {
          "output_type": "stream",
          "text": [
            "INFO:tensorflow:loss = -118.03165, step = 11140 (97.816 sec)\n"
          ],
          "name": "stdout"
        },
        {
          "output_type": "stream",
          "text": [
            "I0521 00:16:57.298460 140341070206848 basic_session_run_hooks.py:247] loss = -118.03165, step = 11140 (97.816 sec)\n"
          ],
          "name": "stderr"
        },
        {
          "output_type": "stream",
          "text": [
            "INFO:tensorflow:global_step/sec: 1.13366\n"
          ],
          "name": "stdout"
        },
        {
          "output_type": "stream",
          "text": [
            "I0521 00:18:25.504218 140341070206848 basic_session_run_hooks.py:680] global_step/sec: 1.13366\n"
          ],
          "name": "stderr"
        },
        {
          "output_type": "stream",
          "text": [
            "INFO:tensorflow:loss = 102.06934, step = 11240 (88.210 sec)\n"
          ],
          "name": "stdout"
        },
        {
          "output_type": "stream",
          "text": [
            "I0521 00:18:25.508408 140341070206848 basic_session_run_hooks.py:247] loss = 102.06934, step = 11240 (88.210 sec)\n"
          ],
          "name": "stderr"
        },
        {
          "output_type": "stream",
          "text": [
            "INFO:tensorflow:global_step/sec: 1.13514\n"
          ],
          "name": "stdout"
        },
        {
          "output_type": "stream",
          "text": [
            "I0521 00:19:53.599178 140341070206848 basic_session_run_hooks.py:680] global_step/sec: 1.13514\n"
          ],
          "name": "stderr"
        },
        {
          "output_type": "stream",
          "text": [
            "INFO:tensorflow:loss = -88.81866, step = 11340 (88.093 sec)\n"
          ],
          "name": "stdout"
        },
        {
          "output_type": "stream",
          "text": [
            "I0521 00:19:53.601250 140341070206848 basic_session_run_hooks.py:247] loss = -88.81866, step = 11340 (88.093 sec)\n"
          ],
          "name": "stderr"
        },
        {
          "output_type": "stream",
          "text": [
            "INFO:tensorflow:global_step/sec: 1.13528\n"
          ],
          "name": "stdout"
        },
        {
          "output_type": "stream",
          "text": [
            "I0521 00:21:21.683093 140341070206848 basic_session_run_hooks.py:680] global_step/sec: 1.13528\n"
          ],
          "name": "stderr"
        },
        {
          "output_type": "stream",
          "text": [
            "INFO:tensorflow:loss = -113.97346, step = 11440 (88.088 sec)\n"
          ],
          "name": "stdout"
        },
        {
          "output_type": "stream",
          "text": [
            "I0521 00:21:21.689575 140341070206848 basic_session_run_hooks.py:247] loss = -113.97346, step = 11440 (88.088 sec)\n"
          ],
          "name": "stderr"
        },
        {
          "output_type": "stream",
          "text": [
            "INFO:tensorflow:global_step/sec: 1.13583\n"
          ],
          "name": "stdout"
        },
        {
          "output_type": "stream",
          "text": [
            "I0521 00:22:49.724610 140341070206848 basic_session_run_hooks.py:680] global_step/sec: 1.13583\n"
          ],
          "name": "stderr"
        },
        {
          "output_type": "stream",
          "text": [
            "INFO:tensorflow:loss = -129.68474, step = 11540 (88.040 sec)\n"
          ],
          "name": "stdout"
        },
        {
          "output_type": "stream",
          "text": [
            "I0521 00:22:49.729793 140341070206848 basic_session_run_hooks.py:247] loss = -129.68474, step = 11540 (88.040 sec)\n"
          ],
          "name": "stderr"
        },
        {
          "output_type": "stream",
          "text": [
            "INFO:tensorflow:Saving checkpoints for 11640 into ./test_output/model.ckpt.\n"
          ],
          "name": "stdout"
        },
        {
          "output_type": "stream",
          "text": [
            "I0521 00:24:16.944174 140341070206848 basic_session_run_hooks.py:594] Saving checkpoints for 11640 into ./test_output/model.ckpt.\n"
          ],
          "name": "stderr"
        },
        {
          "output_type": "stream",
          "text": [
            "INFO:tensorflow:global_step/sec: 1.02171\n"
          ],
          "name": "stdout"
        },
        {
          "output_type": "stream",
          "text": [
            "I0521 00:24:27.600016 140341070206848 basic_session_run_hooks.py:680] global_step/sec: 1.02171\n"
          ],
          "name": "stderr"
        },
        {
          "output_type": "stream",
          "text": [
            "INFO:tensorflow:loss = -101.46344, step = 11640 (97.875 sec)\n"
          ],
          "name": "stdout"
        },
        {
          "output_type": "stream",
          "text": [
            "I0521 00:24:27.604975 140341070206848 basic_session_run_hooks.py:247] loss = -101.46344, step = 11640 (97.875 sec)\n"
          ],
          "name": "stderr"
        },
        {
          "output_type": "stream",
          "text": [
            "INFO:tensorflow:global_step/sec: 1.12851\n"
          ],
          "name": "stdout"
        },
        {
          "output_type": "stream",
          "text": [
            "I0521 00:25:56.212302 140341070206848 basic_session_run_hooks.py:680] global_step/sec: 1.12851\n"
          ],
          "name": "stderr"
        },
        {
          "output_type": "stream",
          "text": [
            "INFO:tensorflow:loss = -137.68036, step = 11740 (88.611 sec)\n"
          ],
          "name": "stdout"
        },
        {
          "output_type": "stream",
          "text": [
            "I0521 00:25:56.215830 140341070206848 basic_session_run_hooks.py:247] loss = -137.68036, step = 11740 (88.611 sec)\n"
          ],
          "name": "stderr"
        },
        {
          "output_type": "stream",
          "text": [
            "INFO:tensorflow:global_step/sec: 1.13688\n"
          ],
          "name": "stdout"
        },
        {
          "output_type": "stream",
          "text": [
            "I0521 00:27:24.172517 140341070206848 basic_session_run_hooks.py:680] global_step/sec: 1.13688\n"
          ],
          "name": "stderr"
        },
        {
          "output_type": "stream",
          "text": [
            "INFO:tensorflow:loss = -126.261505, step = 11840 (87.961 sec)\n"
          ],
          "name": "stdout"
        },
        {
          "output_type": "stream",
          "text": [
            "I0521 00:27:24.177165 140341070206848 basic_session_run_hooks.py:247] loss = -126.261505, step = 11840 (87.961 sec)\n"
          ],
          "name": "stderr"
        },
        {
          "output_type": "stream",
          "text": [
            "INFO:tensorflow:global_step/sec: 1.13956\n"
          ],
          "name": "stdout"
        },
        {
          "output_type": "stream",
          "text": [
            "I0521 00:28:51.925799 140341070206848 basic_session_run_hooks.py:680] global_step/sec: 1.13956\n"
          ],
          "name": "stderr"
        },
        {
          "output_type": "stream",
          "text": [
            "INFO:tensorflow:loss = -73.80152, step = 11940 (87.753 sec)\n"
          ],
          "name": "stdout"
        },
        {
          "output_type": "stream",
          "text": [
            "I0521 00:28:51.930471 140341070206848 basic_session_run_hooks.py:247] loss = -73.80152, step = 11940 (87.753 sec)\n"
          ],
          "name": "stderr"
        },
        {
          "output_type": "stream",
          "text": [
            "INFO:tensorflow:global_step/sec: 1.13808\n"
          ],
          "name": "stdout"
        },
        {
          "output_type": "stream",
          "text": [
            "I0521 00:30:19.793273 140341070206848 basic_session_run_hooks.py:680] global_step/sec: 1.13808\n"
          ],
          "name": "stderr"
        },
        {
          "output_type": "stream",
          "text": [
            "INFO:tensorflow:loss = -166.0101, step = 12040 (87.867 sec)\n"
          ],
          "name": "stdout"
        },
        {
          "output_type": "stream",
          "text": [
            "I0521 00:30:19.797630 140341070206848 basic_session_run_hooks.py:247] loss = -166.0101, step = 12040 (87.867 sec)\n"
          ],
          "name": "stderr"
        },
        {
          "output_type": "stream",
          "text": [
            "INFO:tensorflow:Saving checkpoints for 12140 into ./test_output/model.ckpt.\n"
          ],
          "name": "stdout"
        },
        {
          "output_type": "stream",
          "text": [
            "I0521 00:31:46.857908 140341070206848 basic_session_run_hooks.py:594] Saving checkpoints for 12140 into ./test_output/model.ckpt.\n"
          ],
          "name": "stderr"
        },
        {
          "output_type": "stream",
          "text": [
            "INFO:tensorflow:global_step/sec: 1.0246\n"
          ],
          "name": "stdout"
        },
        {
          "output_type": "stream",
          "text": [
            "I0521 00:31:57.391970 140341070206848 basic_session_run_hooks.py:680] global_step/sec: 1.0246\n"
          ],
          "name": "stderr"
        },
        {
          "output_type": "stream",
          "text": [
            "INFO:tensorflow:loss = -96.384384, step = 12140 (97.600 sec)\n"
          ],
          "name": "stdout"
        },
        {
          "output_type": "stream",
          "text": [
            "I0521 00:31:57.397767 140341070206848 basic_session_run_hooks.py:247] loss = -96.384384, step = 12140 (97.600 sec)\n"
          ],
          "name": "stderr"
        },
        {
          "output_type": "stream",
          "text": [
            "INFO:tensorflow:global_step/sec: 1.13348\n"
          ],
          "name": "stdout"
        },
        {
          "output_type": "stream",
          "text": [
            "I0521 00:33:25.615797 140341070206848 basic_session_run_hooks.py:680] global_step/sec: 1.13348\n"
          ],
          "name": "stderr"
        },
        {
          "output_type": "stream",
          "text": [
            "INFO:tensorflow:loss = -102.04669, step = 12240 (88.221 sec)\n"
          ],
          "name": "stdout"
        },
        {
          "output_type": "stream",
          "text": [
            "I0521 00:33:25.619039 140341070206848 basic_session_run_hooks.py:247] loss = -102.04669, step = 12240 (88.221 sec)\n"
          ],
          "name": "stderr"
        },
        {
          "output_type": "stream",
          "text": [
            "INFO:tensorflow:global_step/sec: 1.13696\n"
          ],
          "name": "stdout"
        },
        {
          "output_type": "stream",
          "text": [
            "I0521 00:34:53.569916 140341070206848 basic_session_run_hooks.py:680] global_step/sec: 1.13696\n"
          ],
          "name": "stderr"
        },
        {
          "output_type": "stream",
          "text": [
            "INFO:tensorflow:loss = -80.183975, step = 12340 (87.960 sec)\n"
          ],
          "name": "stdout"
        },
        {
          "output_type": "stream",
          "text": [
            "I0521 00:34:53.578602 140341070206848 basic_session_run_hooks.py:247] loss = -80.183975, step = 12340 (87.960 sec)\n"
          ],
          "name": "stderr"
        },
        {
          "output_type": "stream",
          "text": [
            "INFO:tensorflow:global_step/sec: 1.13993\n"
          ],
          "name": "stdout"
        },
        {
          "output_type": "stream",
          "text": [
            "I0521 00:36:21.294733 140341070206848 basic_session_run_hooks.py:680] global_step/sec: 1.13993\n"
          ],
          "name": "stderr"
        },
        {
          "output_type": "stream",
          "text": [
            "INFO:tensorflow:loss = -109.68307, step = 12440 (87.718 sec)\n"
          ],
          "name": "stdout"
        },
        {
          "output_type": "stream",
          "text": [
            "I0521 00:36:21.297035 140341070206848 basic_session_run_hooks.py:247] loss = -109.68307, step = 12440 (87.718 sec)\n"
          ],
          "name": "stderr"
        },
        {
          "output_type": "stream",
          "text": [
            "INFO:tensorflow:global_step/sec: 1.13801\n"
          ],
          "name": "stdout"
        },
        {
          "output_type": "stream",
          "text": [
            "I0521 00:37:49.167196 140341070206848 basic_session_run_hooks.py:680] global_step/sec: 1.13801\n"
          ],
          "name": "stderr"
        },
        {
          "output_type": "stream",
          "text": [
            "INFO:tensorflow:loss = -118.866394, step = 12540 (87.877 sec)\n"
          ],
          "name": "stdout"
        },
        {
          "output_type": "stream",
          "text": [
            "I0521 00:37:49.173758 140341070206848 basic_session_run_hooks.py:247] loss = -118.866394, step = 12540 (87.877 sec)\n"
          ],
          "name": "stderr"
        },
        {
          "output_type": "stream",
          "text": [
            "INFO:tensorflow:Saving checkpoints for 12640 into ./test_output/model.ckpt.\n"
          ],
          "name": "stdout"
        },
        {
          "output_type": "stream",
          "text": [
            "I0521 00:39:16.216464 140341070206848 basic_session_run_hooks.py:594] Saving checkpoints for 12640 into ./test_output/model.ckpt.\n"
          ],
          "name": "stderr"
        },
        {
          "output_type": "stream",
          "text": [
            "INFO:tensorflow:global_step/sec: 1.02313\n"
          ],
          "name": "stdout"
        },
        {
          "output_type": "stream",
          "text": [
            "I0521 00:39:26.906760 140341070206848 basic_session_run_hooks.py:680] global_step/sec: 1.02313\n"
          ],
          "name": "stderr"
        },
        {
          "output_type": "stream",
          "text": [
            "INFO:tensorflow:loss = -71.06043, step = 12640 (97.738 sec)\n"
          ],
          "name": "stdout"
        },
        {
          "output_type": "stream",
          "text": [
            "I0521 00:39:26.911323 140341070206848 basic_session_run_hooks.py:247] loss = -71.06043, step = 12640 (97.738 sec)\n"
          ],
          "name": "stderr"
        },
        {
          "output_type": "stream",
          "text": [
            "INFO:tensorflow:global_step/sec: 1.13222\n"
          ],
          "name": "stdout"
        },
        {
          "output_type": "stream",
          "text": [
            "I0521 00:40:55.228647 140341070206848 basic_session_run_hooks.py:680] global_step/sec: 1.13222\n"
          ],
          "name": "stderr"
        },
        {
          "output_type": "stream",
          "text": [
            "INFO:tensorflow:loss = -89.0997, step = 12740 (88.320 sec)\n"
          ],
          "name": "stdout"
        },
        {
          "output_type": "stream",
          "text": [
            "I0521 00:40:55.230932 140341070206848 basic_session_run_hooks.py:247] loss = -89.0997, step = 12740 (88.320 sec)\n"
          ],
          "name": "stderr"
        },
        {
          "output_type": "stream",
          "text": [
            "INFO:tensorflow:global_step/sec: 1.13634\n"
          ],
          "name": "stdout"
        },
        {
          "output_type": "stream",
          "text": [
            "I0521 00:42:23.230439 140341070206848 basic_session_run_hooks.py:680] global_step/sec: 1.13634\n"
          ],
          "name": "stderr"
        },
        {
          "output_type": "stream",
          "text": [
            "INFO:tensorflow:loss = -123.45562, step = 12840 (88.003 sec)\n"
          ],
          "name": "stdout"
        },
        {
          "output_type": "stream",
          "text": [
            "I0521 00:42:23.233847 140341070206848 basic_session_run_hooks.py:247] loss = -123.45562, step = 12840 (88.003 sec)\n"
          ],
          "name": "stderr"
        },
        {
          "output_type": "stream",
          "text": [
            "INFO:tensorflow:global_step/sec: 1.13623\n"
          ],
          "name": "stdout"
        },
        {
          "output_type": "stream",
          "text": [
            "I0521 00:43:51.241011 140341070206848 basic_session_run_hooks.py:680] global_step/sec: 1.13623\n"
          ],
          "name": "stderr"
        },
        {
          "output_type": "stream",
          "text": [
            "INFO:tensorflow:loss = -119.750984, step = 12940 (88.010 sec)\n"
          ],
          "name": "stdout"
        },
        {
          "output_type": "stream",
          "text": [
            "I0521 00:43:51.243673 140341070206848 basic_session_run_hooks.py:247] loss = -119.750984, step = 12940 (88.010 sec)\n"
          ],
          "name": "stderr"
        },
        {
          "output_type": "stream",
          "text": [
            "INFO:tensorflow:global_step/sec: 1.13781\n"
          ],
          "name": "stdout"
        },
        {
          "output_type": "stream",
          "text": [
            "I0521 00:45:19.129106 140341070206848 basic_session_run_hooks.py:680] global_step/sec: 1.13781\n"
          ],
          "name": "stderr"
        },
        {
          "output_type": "stream",
          "text": [
            "INFO:tensorflow:loss = -133.13785, step = 13040 (87.890 sec)\n"
          ],
          "name": "stdout"
        },
        {
          "output_type": "stream",
          "text": [
            "I0521 00:45:19.133729 140341070206848 basic_session_run_hooks.py:247] loss = -133.13785, step = 13040 (87.890 sec)\n"
          ],
          "name": "stderr"
        },
        {
          "output_type": "stream",
          "text": [
            "INFO:tensorflow:Saving checkpoints for 13140 into ./test_output/model.ckpt.\n"
          ],
          "name": "stdout"
        },
        {
          "output_type": "stream",
          "text": [
            "I0521 00:46:46.033933 140341070206848 basic_session_run_hooks.py:594] Saving checkpoints for 13140 into ./test_output/model.ckpt.\n"
          ],
          "name": "stderr"
        },
        {
          "output_type": "stream",
          "text": [
            "INFO:tensorflow:global_step/sec: 1.02669\n"
          ],
          "name": "stdout"
        },
        {
          "output_type": "stream",
          "text": [
            "I0521 00:46:56.529670 140341070206848 basic_session_run_hooks.py:680] global_step/sec: 1.02669\n"
          ],
          "name": "stderr"
        },
        {
          "output_type": "stream",
          "text": [
            "INFO:tensorflow:loss = -111.42712, step = 13140 (97.400 sec)\n"
          ],
          "name": "stdout"
        },
        {
          "output_type": "stream",
          "text": [
            "I0521 00:46:56.533580 140341070206848 basic_session_run_hooks.py:247] loss = -111.42712, step = 13140 (97.400 sec)\n"
          ],
          "name": "stderr"
        },
        {
          "output_type": "stream",
          "text": [
            "INFO:tensorflow:global_step/sec: 1.13341\n"
          ],
          "name": "stdout"
        },
        {
          "output_type": "stream",
          "text": [
            "I0521 00:48:24.758647 140341070206848 basic_session_run_hooks.py:680] global_step/sec: 1.13341\n"
          ],
          "name": "stderr"
        },
        {
          "output_type": "stream",
          "text": [
            "INFO:tensorflow:loss = -166.02516, step = 13240 (88.229 sec)\n"
          ],
          "name": "stdout"
        },
        {
          "output_type": "stream",
          "text": [
            "I0521 00:48:24.762325 140341070206848 basic_session_run_hooks.py:247] loss = -166.02516, step = 13240 (88.229 sec)\n"
          ],
          "name": "stderr"
        },
        {
          "output_type": "stream",
          "text": [
            "INFO:tensorflow:global_step/sec: 1.13702\n"
          ],
          "name": "stdout"
        },
        {
          "output_type": "stream",
          "text": [
            "I0521 00:49:52.708144 140341070206848 basic_session_run_hooks.py:680] global_step/sec: 1.13702\n"
          ],
          "name": "stderr"
        },
        {
          "output_type": "stream",
          "text": [
            "INFO:tensorflow:loss = -143.03917, step = 13340 (87.950 sec)\n"
          ],
          "name": "stdout"
        },
        {
          "output_type": "stream",
          "text": [
            "I0521 00:49:52.711915 140341070206848 basic_session_run_hooks.py:247] loss = -143.03917, step = 13340 (87.950 sec)\n"
          ],
          "name": "stderr"
        },
        {
          "output_type": "stream",
          "text": [
            "INFO:tensorflow:global_step/sec: 1.14018\n"
          ],
          "name": "stdout"
        },
        {
          "output_type": "stream",
          "text": [
            "I0521 00:51:20.413810 140341070206848 basic_session_run_hooks.py:680] global_step/sec: 1.14018\n"
          ],
          "name": "stderr"
        },
        {
          "output_type": "stream",
          "text": [
            "INFO:tensorflow:loss = -160.49814, step = 13440 (87.707 sec)\n"
          ],
          "name": "stdout"
        },
        {
          "output_type": "stream",
          "text": [
            "I0521 00:51:20.418750 140341070206848 basic_session_run_hooks.py:247] loss = -160.49814, step = 13440 (87.707 sec)\n"
          ],
          "name": "stderr"
        },
        {
          "output_type": "stream",
          "text": [
            "INFO:tensorflow:global_step/sec: 1.1392\n"
          ],
          "name": "stdout"
        },
        {
          "output_type": "stream",
          "text": [
            "I0521 00:52:48.194845 140341070206848 basic_session_run_hooks.py:680] global_step/sec: 1.1392\n"
          ],
          "name": "stderr"
        },
        {
          "output_type": "stream",
          "text": [
            "INFO:tensorflow:loss = -142.90483, step = 13540 (87.781 sec)\n"
          ],
          "name": "stdout"
        },
        {
          "output_type": "stream",
          "text": [
            "I0521 00:52:48.200065 140341070206848 basic_session_run_hooks.py:247] loss = -142.90483, step = 13540 (87.781 sec)\n"
          ],
          "name": "stderr"
        },
        {
          "output_type": "stream",
          "text": [
            "INFO:tensorflow:Saving checkpoints for 13640 into ./test_output/model.ckpt.\n"
          ],
          "name": "stdout"
        },
        {
          "output_type": "stream",
          "text": [
            "I0521 00:54:15.177593 140341070206848 basic_session_run_hooks.py:594] Saving checkpoints for 13640 into ./test_output/model.ckpt.\n"
          ],
          "name": "stderr"
        },
        {
          "output_type": "stream",
          "text": [
            "INFO:tensorflow:global_step/sec: 1.01877\n"
          ],
          "name": "stdout"
        },
        {
          "output_type": "stream",
          "text": [
            "I0521 00:54:26.352212 140341070206848 basic_session_run_hooks.py:680] global_step/sec: 1.01877\n"
          ],
          "name": "stderr"
        },
        {
          "output_type": "stream",
          "text": [
            "INFO:tensorflow:loss = -150.30803, step = 13640 (98.156 sec)\n"
          ],
          "name": "stdout"
        },
        {
          "output_type": "stream",
          "text": [
            "I0521 00:54:26.355664 140341070206848 basic_session_run_hooks.py:247] loss = -150.30803, step = 13640 (98.156 sec)\n"
          ],
          "name": "stderr"
        },
        {
          "output_type": "stream",
          "text": [
            "INFO:tensorflow:global_step/sec: 1.13207\n"
          ],
          "name": "stdout"
        },
        {
          "output_type": "stream",
          "text": [
            "I0521 00:55:54.686202 140341070206848 basic_session_run_hooks.py:680] global_step/sec: 1.13207\n"
          ],
          "name": "stderr"
        },
        {
          "output_type": "stream",
          "text": [
            "INFO:tensorflow:loss = -129.73961, step = 13740 (88.333 sec)\n"
          ],
          "name": "stdout"
        },
        {
          "output_type": "stream",
          "text": [
            "I0521 00:55:54.688956 140341070206848 basic_session_run_hooks.py:247] loss = -129.73961, step = 13740 (88.333 sec)\n"
          ],
          "name": "stderr"
        },
        {
          "output_type": "stream",
          "text": [
            "INFO:tensorflow:global_step/sec: 1.13851\n"
          ],
          "name": "stdout"
        },
        {
          "output_type": "stream",
          "text": [
            "I0521 00:57:22.520058 140341070206848 basic_session_run_hooks.py:680] global_step/sec: 1.13851\n"
          ],
          "name": "stderr"
        },
        {
          "output_type": "stream",
          "text": [
            "INFO:tensorflow:loss = -131.2398, step = 13840 (87.833 sec)\n"
          ],
          "name": "stdout"
        },
        {
          "output_type": "stream",
          "text": [
            "I0521 00:57:22.522158 140341070206848 basic_session_run_hooks.py:247] loss = -131.2398, step = 13840 (87.833 sec)\n"
          ],
          "name": "stderr"
        },
        {
          "output_type": "stream",
          "text": [
            "INFO:tensorflow:global_step/sec: 1.13911\n"
          ],
          "name": "stdout"
        },
        {
          "output_type": "stream",
          "text": [
            "I0521 00:58:50.308214 140341070206848 basic_session_run_hooks.py:680] global_step/sec: 1.13911\n"
          ],
          "name": "stderr"
        },
        {
          "output_type": "stream",
          "text": [
            "INFO:tensorflow:loss = -119.99183, step = 13940 (87.791 sec)\n"
          ],
          "name": "stdout"
        },
        {
          "output_type": "stream",
          "text": [
            "I0521 00:58:50.312976 140341070206848 basic_session_run_hooks.py:247] loss = -119.99183, step = 13940 (87.791 sec)\n"
          ],
          "name": "stderr"
        },
        {
          "output_type": "stream",
          "text": [
            "INFO:tensorflow:global_step/sec: 1.13715\n"
          ],
          "name": "stdout"
        },
        {
          "output_type": "stream",
          "text": [
            "I0521 01:00:18.247276 140341070206848 basic_session_run_hooks.py:680] global_step/sec: 1.13715\n"
          ],
          "name": "stderr"
        },
        {
          "output_type": "stream",
          "text": [
            "INFO:tensorflow:loss = -147.62677, step = 14040 (87.938 sec)\n"
          ],
          "name": "stdout"
        },
        {
          "output_type": "stream",
          "text": [
            "I0521 01:00:18.250541 140341070206848 basic_session_run_hooks.py:247] loss = -147.62677, step = 14040 (87.938 sec)\n"
          ],
          "name": "stderr"
        },
        {
          "output_type": "stream",
          "text": [
            "INFO:tensorflow:Saving checkpoints for 14140 into ./test_output/model.ckpt.\n"
          ],
          "name": "stdout"
        },
        {
          "output_type": "stream",
          "text": [
            "I0521 01:01:45.451813 140341070206848 basic_session_run_hooks.py:594] Saving checkpoints for 14140 into ./test_output/model.ckpt.\n"
          ],
          "name": "stderr"
        },
        {
          "output_type": "stream",
          "text": [
            "INFO:tensorflow:global_step/sec: 1.02252\n"
          ],
          "name": "stdout"
        },
        {
          "output_type": "stream",
          "text": [
            "I0521 01:01:56.044667 140341070206848 basic_session_run_hooks.py:680] global_step/sec: 1.02252\n"
          ],
          "name": "stderr"
        },
        {
          "output_type": "stream",
          "text": [
            "INFO:tensorflow:loss = -139.40677, step = 14140 (97.796 sec)\n"
          ],
          "name": "stdout"
        },
        {
          "output_type": "stream",
          "text": [
            "I0521 01:01:56.046696 140341070206848 basic_session_run_hooks.py:247] loss = -139.40677, step = 14140 (97.796 sec)\n"
          ],
          "name": "stderr"
        },
        {
          "output_type": "stream",
          "text": [
            "INFO:tensorflow:global_step/sec: 1.1326\n"
          ],
          "name": "stdout"
        },
        {
          "output_type": "stream",
          "text": [
            "I0521 01:03:24.337197 140341070206848 basic_session_run_hooks.py:680] global_step/sec: 1.1326\n"
          ],
          "name": "stderr"
        },
        {
          "output_type": "stream",
          "text": [
            "INFO:tensorflow:loss = -117.903336, step = 14240 (88.296 sec)\n"
          ],
          "name": "stdout"
        },
        {
          "output_type": "stream",
          "text": [
            "I0521 01:03:24.342244 140341070206848 basic_session_run_hooks.py:247] loss = -117.903336, step = 14240 (88.296 sec)\n"
          ],
          "name": "stderr"
        },
        {
          "output_type": "stream",
          "text": [
            "INFO:tensorflow:global_step/sec: 1.13647\n"
          ],
          "name": "stdout"
        },
        {
          "output_type": "stream",
          "text": [
            "I0521 01:04:52.329163 140341070206848 basic_session_run_hooks.py:680] global_step/sec: 1.13647\n"
          ],
          "name": "stderr"
        },
        {
          "output_type": "stream",
          "text": [
            "INFO:tensorflow:loss = -139.78586, step = 14340 (87.989 sec)\n"
          ],
          "name": "stdout"
        },
        {
          "output_type": "stream",
          "text": [
            "I0521 01:04:52.331613 140341070206848 basic_session_run_hooks.py:247] loss = -139.78586, step = 14340 (87.989 sec)\n"
          ],
          "name": "stderr"
        },
        {
          "output_type": "stream",
          "text": [
            "INFO:tensorflow:global_step/sec: 1.13947\n"
          ],
          "name": "stdout"
        },
        {
          "output_type": "stream",
          "text": [
            "I0521 01:06:20.089004 140341070206848 basic_session_run_hooks.py:680] global_step/sec: 1.13947\n"
          ],
          "name": "stderr"
        },
        {
          "output_type": "stream",
          "text": [
            "INFO:tensorflow:loss = -101.58249, step = 14440 (87.761 sec)\n"
          ],
          "name": "stdout"
        },
        {
          "output_type": "stream",
          "text": [
            "I0521 01:06:20.092262 140341070206848 basic_session_run_hooks.py:247] loss = -101.58249, step = 14440 (87.761 sec)\n"
          ],
          "name": "stderr"
        },
        {
          "output_type": "stream",
          "text": [
            "INFO:tensorflow:global_step/sec: 1.13939\n"
          ],
          "name": "stdout"
        },
        {
          "output_type": "stream",
          "text": [
            "I0521 01:07:47.855243 140341070206848 basic_session_run_hooks.py:680] global_step/sec: 1.13939\n"
          ],
          "name": "stderr"
        },
        {
          "output_type": "stream",
          "text": [
            "INFO:tensorflow:loss = -122.964714, step = 14540 (87.766 sec)\n"
          ],
          "name": "stdout"
        },
        {
          "output_type": "stream",
          "text": [
            "I0521 01:07:47.858685 140341070206848 basic_session_run_hooks.py:247] loss = -122.964714, step = 14540 (87.766 sec)\n"
          ],
          "name": "stderr"
        }
      ]
    },
    {
      "cell_type": "code",
      "metadata": {
        "id": "nfFbJFGBkW-8",
        "colab_type": "code",
        "colab": {}
      },
      "source": [
        "# ! cp -r ./test_output \"./gdrive/My Drive/Data/\""
      ],
      "execution_count": 0,
      "outputs": []
    },
    {
      "cell_type": "code",
      "metadata": {
        "id": "-dFExnumOEgY",
        "colab_type": "code",
        "colab": {}
      },
      "source": [
        "eval_steps = int(len(df_test) / batch_size)\n",
        "eval_input_fn = input_fn_builder(\n",
        "    features=test_features,\n",
        "    seq_length=max_seq_length,\n",
        "    num_labels = num_labels,\n",
        "    is_training=False,\n",
        "    drop_remainder=True)\n",
        "result = estimator.evaluate(input_fn=eval_input_fn, steps=eval_steps)"
      ],
      "execution_count": 0,
      "outputs": []
    },
    {
      "cell_type": "code",
      "metadata": {
        "id": "M5B_xCGcxazj",
        "colab_type": "code",
        "colab": {}
      },
      "source": [
        "print(\"***** Eval results *****\")\n",
        "for key in sorted(result.keys()):\n",
        "  print('  {} = {}'.format(key, str(result[key])))\n",
        "      "
      ],
      "execution_count": 0,
      "outputs": []
    },
    {
      "cell_type": "code",
      "metadata": {
        "id": "3OrESQAVOcT9",
        "colab_type": "code",
        "colab": {}
      },
      "source": [
        "predict_features = test_features[:100]"
      ],
      "execution_count": 0,
      "outputs": []
    },
    {
      "cell_type": "code",
      "metadata": {
        "colab_type": "code",
        "id": "3LbhkBuhn83S",
        "colab": {}
      },
      "source": [
        "test_input_fn = input_fn_builder(\n",
        "    features=predict_features, seq_length=max_seq_length, \n",
        "    num_labels = num_labels, is_training=False, drop_remainder=False)"
      ],
      "execution_count": 0,
      "outputs": []
    },
    {
      "cell_type": "code",
      "metadata": {
        "id": "DW94Qp_XXB4J",
        "colab_type": "code",
        "outputId": "4173e13e-11fd-4775-bfc8-d2240740d365",
        "colab": {
          "base_uri": "https://localhost:8080/",
          "height": 350
        }
      },
      "source": [
        "test_scores = np.array([predict_features[i].score for i, val in enumerate(predict_features)])\n",
        "\n",
        "preds = estimator.predict(input_fn=test_input_fn)\n",
        "preds_vals = list(preds)\n",
        "pred_means = np.array([val['prediction_mean'] for key, val in enumerate(preds_vals)])"
      ],
      "execution_count": 0,
      "outputs": [
        {
          "output_type": "stream",
          "text": [
            "INFO:tensorflow:Calling model_fn.\n"
          ],
          "name": "stdout"
        },
        {
          "output_type": "stream",
          "text": [
            "I0520 15:50:48.501365 140104395057024 estimator.py:1111] Calling model_fn.\n"
          ],
          "name": "stderr"
        },
        {
          "output_type": "stream",
          "text": [
            "INFO:tensorflow:Saver not created because there are no variables in the graph to restore\n"
          ],
          "name": "stdout"
        },
        {
          "output_type": "stream",
          "text": [
            "I0520 15:50:53.082599 140104395057024 saver.py:1483] Saver not created because there are no variables in the graph to restore\n"
          ],
          "name": "stderr"
        },
        {
          "output_type": "stream",
          "text": [
            "INFO:tensorflow:Tensor(\"module_apply_tokens/bert/pooler/dense/Tanh:0\", shape=(?, 768), dtype=float32)\n"
          ],
          "name": "stdout"
        },
        {
          "output_type": "stream",
          "text": [
            "I0520 15:50:53.258185 140104395057024 <ipython-input-14-d72845f4cd16>:212] Tensor(\"module_apply_tokens/bert/pooler/dense/Tanh:0\", shape=(?, 768), dtype=float32)\n",
            "/usr/local/lib/python3.6/dist-packages/tensorflow/python/ops/gradients_impl.py:110: UserWarning: Converting sparse IndexedSlices to a dense Tensor of unknown shape. This may consume a large amount of memory.\n",
            "  \"Converting sparse IndexedSlices to a dense Tensor of unknown shape. \"\n"
          ],
          "name": "stderr"
        },
        {
          "output_type": "stream",
          "text": [
            "INFO:tensorflow:Done calling model_fn.\n"
          ],
          "name": "stdout"
        },
        {
          "output_type": "stream",
          "text": [
            "I0520 15:51:07.438255 140104395057024 estimator.py:1113] Done calling model_fn.\n"
          ],
          "name": "stderr"
        },
        {
          "output_type": "stream",
          "text": [
            "INFO:tensorflow:Graph was finalized.\n"
          ],
          "name": "stdout"
        },
        {
          "output_type": "stream",
          "text": [
            "I0520 15:51:09.564527 140104395057024 monitored_session.py:222] Graph was finalized.\n"
          ],
          "name": "stderr"
        },
        {
          "output_type": "stream",
          "text": [
            "INFO:tensorflow:Restoring parameters from ./test_output/model.ckpt-3492\n"
          ],
          "name": "stdout"
        },
        {
          "output_type": "stream",
          "text": [
            "I0520 15:51:09.580962 140104395057024 saver.py:1270] Restoring parameters from ./test_output/model.ckpt-3492\n"
          ],
          "name": "stderr"
        },
        {
          "output_type": "stream",
          "text": [
            "INFO:tensorflow:Running local_init_op.\n"
          ],
          "name": "stdout"
        },
        {
          "output_type": "stream",
          "text": [
            "I0520 15:51:12.383657 140104395057024 session_manager.py:491] Running local_init_op.\n"
          ],
          "name": "stderr"
        },
        {
          "output_type": "stream",
          "text": [
            "INFO:tensorflow:Done running local_init_op.\n"
          ],
          "name": "stdout"
        },
        {
          "output_type": "stream",
          "text": [
            "I0520 15:51:12.701397 140104395057024 session_manager.py:493] Done running local_init_op.\n"
          ],
          "name": "stderr"
        }
      ]
    },
    {
      "cell_type": "markdown",
      "metadata": {
        "id": "h5PsPzmyH6sA",
        "colab_type": "text"
      },
      "source": [
        ""
      ]
    },
    {
      "cell_type": "code",
      "metadata": {
        "id": "RJvlFgZ9j_r6",
        "colab_type": "code",
        "colab": {}
      },
      "source": [
        "def total_accuaracy(pred_means, test_scores):\n",
        "  preds = np.round(pred_means)\n",
        "  correct_guesses = np.reshape(preds == test_scores,-1)\n",
        "  return np.sum(correct_guesses) / len(correct_guesses)"
      ],
      "execution_count": 0,
      "outputs": []
    },
    {
      "cell_type": "code",
      "metadata": {
        "id": "cPZACnkUGrr5",
        "colab_type": "code",
        "colab": {}
      },
      "source": [
        "def class_accuaracy(pred_means, test_scores):\n",
        "  preds = np.round(pred_means)\n",
        "  correct_guesses = preds == test_scores\n",
        "  return correct_guesses.sum(axis=0)/ len(correct_guesses)\n"
      ],
      "execution_count": 0,
      "outputs": []
    },
    {
      "cell_type": "code",
      "metadata": {
        "id": "-xVcqWkdHT-s",
        "colab_type": "code",
        "outputId": "21db000c-a29b-40aa-8fe5-429c76cb7bf3",
        "colab": {
          "base_uri": "https://localhost:8080/",
          "height": 52
        }
      },
      "source": [
        "print(total_accuaracy(pred_means, test_scores))\n",
        "print(class_accuaracy(pred_means, test_scores))"
      ],
      "execution_count": 0,
      "outputs": [
        {
          "output_type": "stream",
          "text": [
            "0.93\n",
            "[0.94 0.97 0.94 0.96 0.81 0.96]\n"
          ],
          "name": "stdout"
        }
      ]
    },
    {
      "cell_type": "code",
      "metadata": {
        "id": "wjZUS-Ergg00",
        "colab_type": "code",
        "outputId": "14c39263-5c58-412d-ad59-7b33473bdcfd",
        "colab": {
          "base_uri": "https://localhost:8080/",
          "height": 6964
        }
      },
      "source": [
        "preds_vals"
      ],
      "execution_count": 0,
      "outputs": [
        {
          "output_type": "execute_result",
          "data": {
            "text/plain": [
              "[{'prediction_mean': array([0.99396497, 0.19381616, 0.97161853, 0.01611928, 0.9024913 ,\n",
              "         0.09952925], dtype=float32),\n",
              "  'prediction_var': array([3.3862303e-08, 1.7771668e-05, 3.0750897e-07, 2.3864851e-07,\n",
              "         1.3581971e-06, 6.0153079e-06], dtype=float32)},\n",
              " {'prediction_mean': array([0.9612483 , 0.03642098, 0.2432679 , 0.02208908, 0.70222914,\n",
              "         0.04978191], dtype=float32),\n",
              "  'prediction_var': array([1.5239682e-06, 5.5279327e-07, 1.7787603e-05, 3.0437258e-07,\n",
              "         1.8960136e-05, 1.0327615e-06], dtype=float32)},\n",
              " {'prediction_mean': array([0.9710032 , 0.00946731, 0.24418692, 0.00585204, 0.1644721 ,\n",
              "         0.0159474 ], dtype=float32),\n",
              "  'prediction_var': array([9.8179612e-07, 4.4951655e-08, 3.3007473e-05, 2.1189376e-08,\n",
              "         1.0118373e-05, 1.2566389e-07], dtype=float32)},\n",
              " {'prediction_mean': array([0.95585966, 0.02739453, 0.17853627, 0.01882137, 0.625805  ,\n",
              "         0.03973923], dtype=float32),\n",
              "  'prediction_var': array([1.9052101e-06, 3.2246538e-07, 1.1992270e-05, 2.2336522e-07,\n",
              "         2.1254264e-05, 7.2671463e-07], dtype=float32)},\n",
              " {'prediction_mean': array([0.01700298, 0.00295969, 0.00229128, 0.00662947, 0.00506298,\n",
              "         0.00645926], dtype=float32),\n",
              "  'prediction_var': array([1.7611356e-07, 4.1777835e-09, 1.7181604e-09, 1.9213234e-08,\n",
              "         9.4560857e-09, 2.3405635e-08], dtype=float32)},\n",
              " {'prediction_mean': array([0.9700184 , 0.5228353 , 0.94718474, 0.08569805, 0.90851593,\n",
              "         0.3004424 ], dtype=float32),\n",
              "  'prediction_var': array([5.78061588e-07, 1.27100793e-05, 8.98028588e-07, 2.06031723e-06,\n",
              "         1.05571121e-06, 1.02845315e-05], dtype=float32)},\n",
              " {'prediction_mean': array([0.02102891, 0.00256761, 0.00233981, 0.00575884, 0.00482508,\n",
              "         0.00577626], dtype=float32),\n",
              "  'prediction_var': array([5.1251158e-07, 3.0686860e-09, 1.7051249e-09, 1.5779531e-08,\n",
              "         6.4829044e-09, 1.6286616e-08], dtype=float32)},\n",
              " {'prediction_mean': array([0.02160112, 0.00254307, 0.00230607, 0.00568254, 0.00494878,\n",
              "         0.00568294], dtype=float32),\n",
              "  'prediction_var': array([5.7167193e-07, 3.0700982e-09, 1.4819445e-09, 1.5225002e-08,\n",
              "         6.8831971e-09, 1.6447073e-08], dtype=float32)},\n",
              " {'prediction_mean': array([0.02183498, 0.00244671, 0.00222983, 0.00551812, 0.00484294,\n",
              "         0.00553546], dtype=float32),\n",
              "  'prediction_var': array([6.52014251e-07, 2.67880140e-09, 1.42473833e-09, 1.37823815e-08,\n",
              "         6.70183908e-09, 1.55986175e-08], dtype=float32)},\n",
              " {'prediction_mean': array([0.01641137, 0.00302503, 0.00221968, 0.00677296, 0.00510715,\n",
              "         0.0065108 ], dtype=float32),\n",
              "  'prediction_var': array([1.5843294e-07, 4.0673456e-09, 1.8587138e-09, 1.8930377e-08,\n",
              "         8.7328491e-09, 2.4353778e-08], dtype=float32)},\n",
              " {'prediction_mean': array([0.9861625 , 0.05878749, 0.9016348 , 0.01004476, 0.36011106,\n",
              "         0.05116246], dtype=float32),\n",
              "  'prediction_var': array([2.0282195e-07, 1.9629026e-06, 6.1165347e-06, 5.5417747e-08,\n",
              "         1.1765371e-05, 1.1992574e-06], dtype=float32)},\n",
              " {'prediction_mean': array([0.01694623, 0.00282746, 0.00221807, 0.00637321, 0.00491031,\n",
              "         0.00621712], dtype=float32),\n",
              "  'prediction_var': array([1.8984370e-07, 3.9559001e-09, 1.4700821e-09, 1.8275429e-08,\n",
              "         8.4170626e-09, 2.1893765e-08], dtype=float32)},\n",
              " {'prediction_mean': array([0.01676719, 0.00298864, 0.00223737, 0.00669923, 0.00515617,\n",
              "         0.0064791 ], dtype=float32),\n",
              "  'prediction_var': array([1.6161809e-07, 4.0926040e-09, 1.7638311e-09, 1.8885297e-08,\n",
              "         8.8735854e-09, 2.4396879e-08], dtype=float32)},\n",
              " {'prediction_mean': array([0.9285887 , 0.00591237, 0.05433764, 0.00654347, 0.08913691,\n",
              "         0.01211578], dtype=float32),\n",
              "  'prediction_var': array([5.4947818e-06, 1.9256801e-08, 1.8394519e-06, 2.4574906e-08,\n",
              "         3.0133297e-06, 6.7650063e-08], dtype=float32)},\n",
              " {'prediction_mean': array([0.01643115, 0.0030982 , 0.00229758, 0.00696091, 0.00517915,\n",
              "         0.00672904], dtype=float32),\n",
              "  'prediction_var': array([1.7022276e-07, 4.4396522e-09, 2.0068509e-09, 2.0314062e-08,\n",
              "         9.6955439e-09, 2.5770806e-08], dtype=float32)},\n",
              " {'prediction_mean': array([0.01988403, 0.00250633, 0.00215099, 0.00572625, 0.00487988,\n",
              "         0.00563744], dtype=float32),\n",
              "  'prediction_var': array([4.2089255e-07, 3.1780716e-09, 1.4893266e-09, 1.5089180e-08,\n",
              "         6.9874675e-09, 1.6682776e-08], dtype=float32)},\n",
              " {'prediction_mean': array([0.94574785, 0.05190833, 0.2388653 , 0.03365898, 0.72631794,\n",
              "         0.07152135], dtype=float32),\n",
              "  'prediction_var': array([2.8638967e-06, 1.0667139e-06, 1.4297773e-05, 6.3607541e-07,\n",
              "         1.8940844e-05, 1.9071791e-06], dtype=float32)},\n",
              " {'prediction_mean': array([0.988027  , 0.37694544, 0.96900606, 0.03754422, 0.9378463 ,\n",
              "         0.20387821], dtype=float32),\n",
              "  'prediction_var': array([9.0841674e-08, 2.0277899e-05, 3.3515067e-07, 5.9319513e-07,\n",
              "         6.4176947e-07, 6.3931498e-06], dtype=float32)},\n",
              " {'prediction_mean': array([0.01765807, 0.00269677, 0.00218403, 0.00612088, 0.00483616,\n",
              "         0.00599049], dtype=float32),\n",
              "  'prediction_var': array([2.4028785e-07, 3.5234369e-09, 1.4008156e-09, 1.6847093e-08,\n",
              "         7.4971087e-09, 1.9558813e-08], dtype=float32)},\n",
              " {'prediction_mean': array([0.01639075, 0.00305322, 0.00225723, 0.00683478, 0.00509048,\n",
              "         0.00660218], dtype=float32),\n",
              "  'prediction_var': array([1.5287551e-07, 4.3149329e-09, 1.8034860e-09, 2.0052065e-08,\n",
              "         9.1302983e-09, 2.5534913e-08], dtype=float32)},\n",
              " {'prediction_mean': array([0.7638558 , 0.00350778, 0.01942733, 0.00532949, 0.02658388,\n",
              "         0.00779575], dtype=float32),\n",
              "  'prediction_var': array([8.8891611e-05, 5.0770330e-09, 1.5988431e-07, 1.6416275e-08,\n",
              "         3.2347893e-07, 3.4430229e-08], dtype=float32)},\n",
              " {'prediction_mean': array([0.970788  , 0.5229491 , 0.94757843, 0.08437909, 0.9073695 ,\n",
              "         0.2976331 ], dtype=float32),\n",
              "  'prediction_var': array([5.3819610e-07, 1.0629779e-05, 8.8332280e-07, 2.0200855e-06,\n",
              "         1.0680628e-06, 9.5717060e-06], dtype=float32)},\n",
              " {'prediction_mean': array([0.01695193, 0.00285142, 0.00221275, 0.00642271, 0.00496609,\n",
              "         0.00624755], dtype=float32),\n",
              "  'prediction_var': array([1.6257175e-07, 3.8719801e-09, 1.5462536e-09, 1.8119296e-08,\n",
              "         8.5601926e-09, 2.2514236e-08], dtype=float32)},\n",
              " {'prediction_mean': array([0.01996678, 0.00251398, 0.00219132, 0.00567152, 0.004776  ,\n",
              "         0.00561848], dtype=float32),\n",
              "  'prediction_var': array([4.3784422e-07, 3.1953662e-09, 1.5164374e-09, 1.5733011e-08,\n",
              "         6.6192789e-09, 1.6505535e-08], dtype=float32)},\n",
              " {'prediction_mean': array([0.99512833, 0.10737269, 0.9591595 , 0.01054392, 0.85882425,\n",
              "         0.06505457], dtype=float32),\n",
              "  'prediction_var': array([2.2165738e-08, 6.8800532e-06, 9.4782638e-07, 1.1040345e-07,\n",
              "         3.3485042e-06, 2.5513057e-06], dtype=float32)},\n",
              " {'prediction_mean': array([0.01670509, 0.00302897, 0.0022951 , 0.00677948, 0.00508452,\n",
              "         0.00654934], dtype=float32),\n",
              "  'prediction_var': array([1.5491658e-07, 4.2545949e-09, 1.8024373e-09, 2.0069841e-08,\n",
              "         9.5335526e-09, 2.4585862e-08], dtype=float32)},\n",
              " {'prediction_mean': array([0.6530131 , 0.00330492, 0.01382971, 0.00557232, 0.02176887,\n",
              "         0.00737464], dtype=float32),\n",
              "  'prediction_var': array([1.3657517e-04, 4.3387192e-09, 6.4069965e-08, 1.7016294e-08,\n",
              "         1.9180229e-07, 3.0926966e-08], dtype=float32)},\n",
              " {'prediction_mean': array([0.376181  , 0.00277201, 0.00897986, 0.00490837, 0.01166055,\n",
              "         0.00614916], dtype=float32),\n",
              "  'prediction_var': array([1.5108555e-04, 2.7939138e-09, 2.8869556e-08, 1.3044236e-08,\n",
              "         4.1542147e-08, 2.0751406e-08], dtype=float32)},\n",
              " {'prediction_mean': array([0.01916016, 0.00264436, 0.00229593, 0.0059493 , 0.00486659,\n",
              "         0.00592206], dtype=float32),\n",
              "  'prediction_var': array([3.1613993e-07, 3.5005943e-09, 1.7407086e-09, 1.7660723e-08,\n",
              "         7.0943429e-09, 1.8129999e-08], dtype=float32)},\n",
              " {'prediction_mean': array([0.9529706 , 0.00634159, 0.11355958, 0.00548017, 0.09805255,\n",
              "         0.01232287], dtype=float32),\n",
              "  'prediction_var': array([2.7798317e-06, 2.0654241e-08, 8.4745279e-06, 1.8522673e-08,\n",
              "         4.1593935e-06, 8.5180048e-08], dtype=float32)},\n",
              " {'prediction_mean': array([0.99474734, 0.12335652, 0.9647748 , 0.01119566, 0.84619826,\n",
              "         0.0698467 ], dtype=float32),\n",
              "  'prediction_var': array([2.8340938e-08, 8.3703708e-06, 6.0188069e-07, 1.0551971e-07,\n",
              "         3.6693448e-06, 3.0227261e-06], dtype=float32)},\n",
              " {'prediction_mean': array([0.8203727 , 0.00416924, 0.0271368 , 0.0056244 , 0.03008323,\n",
              "         0.00887469], dtype=float32),\n",
              "  'prediction_var': array([5.6959037e-05, 6.7032233e-09, 3.1904779e-07, 1.6698454e-08,\n",
              "         4.4989127e-07, 4.0234717e-08], dtype=float32)},\n",
              " {'prediction_mean': array([0.97288513, 0.51222587, 0.9508855 , 0.07901883, 0.9130541 ,\n",
              "         0.29171294], dtype=float32),\n",
              "  'prediction_var': array([7.4770458e-07, 1.4833342e-05, 8.8226687e-07, 3.2889725e-06,\n",
              "         2.0135863e-06, 1.5859565e-05], dtype=float32)},\n",
              " {'prediction_mean': array([0.99487114, 0.12195225, 0.96048784, 0.0120302 , 0.88265264,\n",
              "         0.07407422], dtype=float32),\n",
              "  'prediction_var': array([3.1701806e-08, 1.7429580e-05, 1.1241568e-06, 1.5302928e-07,\n",
              "         2.2894762e-06, 4.5117126e-06], dtype=float32)},\n",
              " {'prediction_mean': array([0.91417456, 0.00515657, 0.05164549, 0.00598886, 0.04939308,\n",
              "         0.01064635], dtype=float32),\n",
              "  'prediction_var': array([7.0893948e-06, 3.3679228e-08, 3.4567438e-06, 2.9513867e-08,\n",
              "         2.0041805e-06, 8.1000920e-08], dtype=float32)},\n",
              " {'prediction_mean': array([0.01776809, 0.00273716, 0.00215896, 0.00619309, 0.00493368,\n",
              "         0.00599673], dtype=float32),\n",
              "  'prediction_var': array([1.5231025e-07, 1.1331796e-08, 4.1021595e-09, 3.2031725e-08,\n",
              "         1.1461741e-08, 3.6468531e-08], dtype=float32)},\n",
              " {'prediction_mean': array([0.9218257 , 0.00711348, 0.04449692, 0.00845259, 0.15457183,\n",
              "         0.01440245], dtype=float32),\n",
              "  'prediction_var': array([6.3297439e-06, 7.4564113e-08, 2.3884804e-06, 7.6098004e-08,\n",
              "         1.4324505e-05, 1.6573847e-07], dtype=float32)},\n",
              " {'prediction_mean': array([0.0172592 , 0.0032505 , 0.00237754, 0.00722809, 0.00550693,\n",
              "         0.0069044 ], dtype=float32),\n",
              "  'prediction_var': array([7.3193682e-08, 1.7010219e-08, 5.7508389e-09, 4.3128004e-08,\n",
              "         1.4959948e-08, 5.1325081e-08], dtype=float32)},\n",
              " {'prediction_mean': array([0.01659453, 0.00326884, 0.00237831, 0.00724123, 0.00529748,\n",
              "         0.00697159], dtype=float32),\n",
              "  'prediction_var': array([5.4167703e-08, 1.7377090e-08, 6.0765357e-09, 4.5784670e-08,\n",
              "         1.3410991e-08, 5.3377910e-08], dtype=float32)},\n",
              " {'prediction_mean': array([0.99127036, 0.07195915, 0.93663377, 0.00940157, 0.56171626,\n",
              "         0.05488913], dtype=float32),\n",
              "  'prediction_var': array([9.0328541e-08, 7.3310557e-06, 3.4396373e-06, 7.8401669e-08,\n",
              "         3.7876678e-05, 2.0448608e-06], dtype=float32)},\n",
              " {'prediction_mean': array([0.9856981 , 0.07077153, 0.91180915, 0.01151835, 0.39031366,\n",
              "         0.05770167], dtype=float32),\n",
              "  'prediction_var': array([2.7276877e-07, 6.7857000e-06, 6.5292247e-06, 1.1212025e-07,\n",
              "         3.3685959e-05, 2.1187757e-06], dtype=float32)},\n",
              " {'prediction_mean': array([0.9947728 , 0.10530172, 0.9487997 , 0.01139783, 0.88856983,\n",
              "         0.07134769], dtype=float32),\n",
              "  'prediction_var': array([3.12889199e-08, 1.32610385e-05, 2.44032708e-06, 1.34943718e-07,\n",
              "         2.65232075e-06, 3.74587171e-06], dtype=float32)},\n",
              " {'prediction_mean': array([0.9034783 , 0.00637129, 0.03829616, 0.00805367, 0.10554447,\n",
              "         0.01355585], dtype=float32),\n",
              "  'prediction_var': array([1.0252218e-05, 5.7597170e-08, 1.8801190e-06, 6.0102060e-08,\n",
              "         7.1481772e-06, 1.5294883e-07], dtype=float32)},\n",
              " {'prediction_mean': array([0.99475366, 0.08435213, 0.9390715 , 0.01000995, 0.85629666,\n",
              "         0.0613247 ], dtype=float32),\n",
              "  'prediction_var': array([2.5150291e-08, 1.0028567e-05, 5.1999768e-06, 8.1243648e-08,\n",
              "         6.4950718e-06, 2.4853503e-06], dtype=float32)},\n",
              " {'prediction_mean': array([0.01918489, 0.00279343, 0.00237743, 0.00628702, 0.00509881,\n",
              "         0.00620186], dtype=float32),\n",
              "  'prediction_var': array([1.1426120e-07, 1.1224204e-08, 4.3967585e-09, 3.5878912e-08,\n",
              "         1.2728373e-08, 3.7286750e-08], dtype=float32)},\n",
              " {'prediction_mean': array([0.9915117 , 0.07636001, 0.8325281 , 0.01400739, 0.87945366,\n",
              "         0.07013683], dtype=float32),\n",
              "  'prediction_var': array([6.8808163e-08, 8.3011046e-06, 3.6330515e-05, 1.5299133e-07,\n",
              "         4.5231727e-06, 3.7463033e-06], dtype=float32)},\n",
              " {'prediction_mean': array([0.01695267, 0.00297548, 0.00227048, 0.00660108, 0.0050549 ,\n",
              "         0.00641495], dtype=float32),\n",
              "  'prediction_var': array([8.2363798e-08, 1.3946095e-08, 4.9275122e-09, 3.6853095e-08,\n",
              "         1.2581379e-08, 4.4808857e-08], dtype=float32)},\n",
              " {'prediction_mean': array([0.01662532, 0.0031646 , 0.00232677, 0.00704971, 0.00519276,\n",
              "         0.00675473], dtype=float32),\n",
              "  'prediction_var': array([7.1712648e-08, 1.6227052e-08, 5.5025611e-09, 4.3548567e-08,\n",
              "         1.3261622e-08, 4.9271080e-08], dtype=float32)},\n",
              " {'prediction_mean': array([0.01880797, 0.00260319, 0.00217864, 0.00592046, 0.00484512,\n",
              "         0.0057594 ], dtype=float32),\n",
              "  'prediction_var': array([2.1591366e-07, 1.0422922e-08, 3.9940442e-09, 3.0218203e-08,\n",
              "         1.1175071e-08, 3.1752556e-08], dtype=float32)},\n",
              " {'prediction_mean': array([0.9648756 , 0.01080767, 0.12817091, 0.00851596, 0.3217833 ,\n",
              "         0.01878089], dtype=float32),\n",
              "  'prediction_var': array([1.3542883e-06, 1.6248555e-07, 1.9798394e-05, 5.9123881e-08,\n",
              "         4.4140983e-05, 2.6272707e-07], dtype=float32)},\n",
              " {'prediction_mean': array([0.01694827, 0.00312767, 0.0023584 , 0.00700736, 0.00524226,\n",
              "         0.00675896], dtype=float32),\n",
              "  'prediction_var': array([6.4942725e-08, 1.5541664e-08, 5.5236185e-09, 4.2087954e-08,\n",
              "         1.3413779e-08, 4.9612748e-08], dtype=float32)},\n",
              " {'prediction_mean': array([0.02358131, 0.00287901, 0.00256765, 0.0063892 , 0.00560063,\n",
              "         0.00635438], dtype=float32),\n",
              "  'prediction_var': array([6.0818144e-07, 1.2150551e-08, 5.2571214e-09, 3.7557786e-08,\n",
              "         1.6173196e-08, 3.5428720e-08], dtype=float32)},\n",
              " {'prediction_mean': array([0.99414027, 0.11800895, 0.94206893, 0.01332475, 0.90411264,\n",
              "         0.08412944], dtype=float32),\n",
              "  'prediction_var': array([4.2707590e-08, 1.6457681e-05, 3.3651654e-06, 1.8463022e-07,\n",
              "         1.7923800e-06, 5.0580502e-06], dtype=float32)},\n",
              " {'prediction_mean': array([0.984492  , 0.37876195, 0.9619304 , 0.04680809, 0.9381827 ,\n",
              "         0.23543353], dtype=float32),\n",
              "  'prediction_var': array([2.7478001e-07, 5.7392637e-05, 6.4195888e-07, 1.8044835e-06,\n",
              "         6.3949585e-07, 1.7953211e-05], dtype=float32)},\n",
              " {'prediction_mean': array([0.9939539 , 0.18225348, 0.96748865, 0.0161626 , 0.9164587 ,\n",
              "         0.10216169], dtype=float32),\n",
              "  'prediction_var': array([4.8754696e-08, 3.1360854e-05, 6.5793978e-07, 3.3839666e-07,\n",
              "         1.4577037e-06, 9.0472877e-06], dtype=float32)},\n",
              " {'prediction_mean': array([0.9475851 , 0.01574621, 0.37104452, 0.00860606, 0.08080675,\n",
              "         0.0226397 ], dtype=float32),\n",
              "  'prediction_var': array([2.9998855e-06, 3.8449647e-07, 1.0169482e-04, 5.2530517e-08,\n",
              "         6.2952531e-06, 4.0182144e-07], dtype=float32)},\n",
              " {'prediction_mean': array([0.89485484, 0.00483743, 0.03314696, 0.00642012, 0.0570345 ,\n",
              "         0.0104256 ], dtype=float32),\n",
              "  'prediction_var': array([1.2533581e-05, 3.3319189e-08, 1.3226293e-06, 3.5899276e-08,\n",
              "         2.2632253e-06, 8.4705185e-08], dtype=float32)},\n",
              " {'prediction_mean': array([0.8715577 , 0.55136615, 0.8425913 , 0.22703591, 0.8180256 ,\n",
              "         0.43953666], dtype=float32),\n",
              "  'prediction_var': array([1.4011032e-05, 9.1866332e-06, 5.3331141e-06, 1.7074073e-05,\n",
              "         5.3306580e-06, 9.4030966e-06], dtype=float32)},\n",
              " {'prediction_mean': array([0.9904559 , 0.09557246, 0.8457969 , 0.01719957, 0.89990157,\n",
              "         0.08627681], dtype=float32),\n",
              "  'prediction_var': array([1.06005906e-07, 1.31621855e-05, 3.21601583e-05, 2.57156472e-07,\n",
              "         2.38977850e-06, 6.26563997e-06], dtype=float32)},\n",
              " {'prediction_mean': array([0.9266946 , 0.00614236, 0.0480994 , 0.00728119, 0.11911325,\n",
              "         0.01286886], dtype=float32),\n",
              "  'prediction_var': array([5.5977753e-06, 4.8157556e-08, 2.8917937e-06, 4.9800427e-08,\n",
              "         9.6386157e-06, 1.3323242e-07], dtype=float32)},\n",
              " {'prediction_mean': array([0.9767696 , 0.03098797, 0.7456071 , 0.00936496, 0.19873299,\n",
              "         0.03541077], dtype=float32),\n",
              "  'prediction_var': array([6.1100093e-07, 1.5491590e-06, 7.3882562e-05, 5.7851544e-08,\n",
              "         1.9077572e-05, 1.1085448e-06], dtype=float32)},\n",
              " {'prediction_mean': array([0.9859053 , 0.03124639, 0.8120203 , 0.00758497, 0.2863919 ,\n",
              "         0.03432565], dtype=float32),\n",
              "  'prediction_var': array([2.1008256e-07, 1.6299842e-06, 4.5580997e-05, 4.4430958e-08,\n",
              "         2.6620230e-05, 9.5224533e-07], dtype=float32)},\n",
              " {'prediction_mean': array([0.98986226, 0.03277478, 0.6435961 , 0.00909778, 0.7332548 ,\n",
              "         0.03630619], dtype=float32),\n",
              "  'prediction_var': array([9.1974862e-08, 1.4515472e-06, 8.4351363e-05, 6.0873603e-08,\n",
              "         1.4195061e-05, 8.2542977e-07], dtype=float32)},\n",
              " {'prediction_mean': array([0.01853826, 0.00289426, 0.0023497 , 0.00647956, 0.00516784,\n",
              "         0.00630905], dtype=float32),\n",
              "  'prediction_var': array([1.14668786e-07, 1.19946133e-08, 4.59978633e-09, 3.56548036e-08,\n",
              "         1.34457405e-08, 4.11079846e-08], dtype=float32)},\n",
              " {'prediction_mean': array([0.9939082 , 0.20167795, 0.9703287 , 0.01712409, 0.9199856 ,\n",
              "         0.10872489], dtype=float32),\n",
              "  'prediction_var': array([6.5968592e-08, 2.9006358e-05, 2.7272415e-07, 4.1821204e-07,\n",
              "         1.5659658e-06, 1.0990672e-05], dtype=float32)},\n",
              " {'prediction_mean': array([0.01613928, 0.00327304, 0.00234778, 0.00731031, 0.00525021,\n",
              "         0.00700177], dtype=float32),\n",
              "  'prediction_var': array([7.3358663e-08, 1.6036470e-08, 4.8672808e-09, 5.6933420e-08,\n",
              "         1.9489194e-08, 3.0642887e-08], dtype=float32)},\n",
              " {'prediction_mean': array([0.01606206, 0.00316791, 0.00227644, 0.00711709, 0.00516239,\n",
              "         0.00678187], dtype=float32),\n",
              "  'prediction_var': array([7.59139951e-08, 1.47440264e-08, 4.60635086e-09, 5.34884457e-08,\n",
              "         1.90674179e-08, 2.76487775e-08], dtype=float32)},\n",
              " {'prediction_mean': array([0.6842665 , 0.00395401, 0.02267905, 0.0056281 , 0.02022826,\n",
              "         0.00844524], dtype=float32),\n",
              "  'prediction_var': array([1.3834549e-04, 1.9060959e-08, 3.8515083e-07, 3.5025884e-08,\n",
              "         3.3249395e-07, 4.4866429e-08], dtype=float32)},\n",
              " {'prediction_mean': array([0.48119527, 0.00308091, 0.01230262, 0.00513456, 0.01299483,\n",
              "         0.00658745], dtype=float32),\n",
              "  'prediction_var': array([1.8901218e-04, 1.1586495e-08, 1.1093626e-07, 2.8264960e-08,\n",
              "         1.3834793e-07, 2.7200477e-08], dtype=float32)},\n",
              " {'prediction_mean': array([0.01621139, 0.00311484, 0.00225704, 0.00698657, 0.00513816,\n",
              "         0.00665971], dtype=float32),\n",
              "  'prediction_var': array([7.84779530e-08, 1.43535726e-08, 4.42131753e-09, 5.06601516e-08,\n",
              "         1.84931572e-08, 2.64501097e-08], dtype=float32)},\n",
              " {'prediction_mean': array([0.9933423 , 0.24452889, 0.97339904, 0.01938087, 0.9222554 ,\n",
              "         0.12200882], dtype=float32),\n",
              "  'prediction_var': array([8.4732115e-08, 3.9871084e-05, 2.0936716e-07, 5.0088852e-07,\n",
              "         1.3832023e-06, 1.3405746e-05], dtype=float32)},\n",
              " {'prediction_mean': array([0.01720737, 0.00283428, 0.002245  , 0.00639829, 0.00493267,\n",
              "         0.00623761], dtype=float32),\n",
              "  'prediction_var': array([1.11997892e-07, 1.18538175e-08, 3.47317264e-09, 4.38981829e-08,\n",
              "         1.75093078e-08, 2.42157832e-08], dtype=float32)},\n",
              " {'prediction_mean': array([0.9916196 , 0.31676167, 0.97409993, 0.02560573, 0.9298501 ,\n",
              "         0.15355968], dtype=float32),\n",
              "  'prediction_var': array([1.3379564e-07, 6.1250226e-05, 1.9887504e-07, 8.5870568e-07,\n",
              "         8.7967771e-07, 1.7889877e-05], dtype=float32)},\n",
              " {'prediction_mean': array([0.9829469 , 0.02360185, 0.3779691 , 0.01035344, 0.66172326,\n",
              "         0.03148605], dtype=float32),\n",
              "  'prediction_var': array([2.5711310e-07, 7.4719611e-07, 5.9176335e-05, 1.2092779e-07,\n",
              "         3.5855697e-05, 6.3506451e-07], dtype=float32)},\n",
              " {'prediction_mean': array([0.01658273, 0.00298103, 0.00223992, 0.00671463, 0.00505526,\n",
              "         0.00646752], dtype=float32),\n",
              "  'prediction_var': array([8.3326185e-08, 1.3223721e-08, 3.9396451e-09, 4.7248271e-08,\n",
              "         1.8257239e-08, 2.5878686e-08], dtype=float32)},\n",
              " {'prediction_mean': array([0.01655507, 0.00317072, 0.00234427, 0.00708134, 0.00519311,\n",
              "         0.00678939], dtype=float32),\n",
              "  'prediction_var': array([7.5997036e-08, 1.4928194e-08, 4.4973820e-09, 5.4454624e-08,\n",
              "         1.9266110e-08, 2.9104768e-08], dtype=float32)},\n",
              " {'prediction_mean': array([0.01673052, 0.00315783, 0.00235898, 0.00706117, 0.00522628,\n",
              "         0.0068158 ], dtype=float32),\n",
              "  'prediction_var': array([7.5664424e-08, 1.5031016e-08, 4.4583675e-09, 5.3650801e-08,\n",
              "         1.9432749e-08, 2.9018077e-08], dtype=float32)},\n",
              " {'prediction_mean': array([0.01754084, 0.00273742, 0.00215907, 0.00624017, 0.00493309,\n",
              "         0.00599557], dtype=float32),\n",
              "  'prediction_var': array([1.4314493e-07, 1.1068766e-08, 3.2156737e-09, 4.0618161e-08,\n",
              "         1.6453651e-08, 2.1716806e-08], dtype=float32)},\n",
              " {'prediction_mean': array([0.98970115, 0.06919315, 0.92852765, 0.00992686, 0.48322687,\n",
              "         0.05442875], dtype=float32),\n",
              "  'prediction_var': array([1.6474560e-07, 5.1619004e-06, 1.9110078e-06, 1.0750773e-07,\n",
              "         3.9776110e-05, 2.0655093e-06], dtype=float32)},\n",
              " {'prediction_mean': array([0.01637706, 0.00324947, 0.00233796, 0.00727182, 0.00532821,\n",
              "         0.00695268], dtype=float32),\n",
              "  'prediction_var': array([7.9549359e-08, 1.5976113e-08, 4.7581610e-09, 5.3365888e-08,\n",
              "         2.0055394e-08, 2.9243694e-08], dtype=float32)},\n",
              " {'prediction_mean': array([0.95865   , 0.01880715, 0.13777149, 0.01408561, 0.52728367,\n",
              "         0.02928789], dtype=float32),\n",
              "  'prediction_var': array([1.5629399e-06, 5.7409096e-07, 1.3827286e-05, 2.5223613e-07,\n",
              "         6.2738531e-05, 4.9135781e-07], dtype=float32)},\n",
              " {'prediction_mean': array([0.9192282 , 0.00831516, 0.1336086 , 0.00717537, 0.04643148,\n",
              "         0.01448154], dtype=float32),\n",
              "  'prediction_var': array([7.3751012e-06, 7.4897542e-08, 1.5819936e-05, 4.9867019e-08,\n",
              "         1.8586603e-06, 1.2492953e-07], dtype=float32)},\n",
              " {'prediction_mean': array([0.95805645, 0.042414  , 0.25652456, 0.02563917, 0.72270715,\n",
              "         0.0576954 ], dtype=float32),\n",
              "  'prediction_var': array([1.9492218e-06, 2.6184603e-06, 3.1226493e-05, 8.6865447e-07,\n",
              "         1.8801262e-05, 1.7116618e-06], dtype=float32)},\n",
              " {'prediction_mean': array([0.98942596, 0.38001218, 0.9728072 , 0.03283692, 0.9284363 ,\n",
              "         0.17722948], dtype=float32),\n",
              "  'prediction_var': array([1.4516014e-07, 3.7684542e-05, 2.5467764e-07, 1.1980167e-06,\n",
              "         8.8426413e-07, 1.0438891e-05], dtype=float32)},\n",
              " {'prediction_mean': array([0.9731327 , 0.04019251, 0.7843122 , 0.01094569, 0.18248788,\n",
              "         0.04346985], dtype=float32),\n",
              "  'prediction_var': array([9.3018980e-07, 1.5491780e-06, 2.3625460e-05, 1.3473641e-07,\n",
              "         1.1784723e-05, 1.2239586e-06], dtype=float32)},\n",
              " {'prediction_mean': array([0.01679927, 0.00299404, 0.00227185, 0.00671618, 0.00506695,\n",
              "         0.00649023], dtype=float32),\n",
              "  'prediction_var': array([8.9321574e-08, 1.3264843e-08, 3.9543604e-09, 4.7120544e-08,\n",
              "         1.8141444e-08, 2.6036147e-08], dtype=float32)},\n",
              " {'prediction_mean': array([0.82747376, 0.00387697, 0.02335037, 0.00563079, 0.0348265 ,\n",
              "         0.00850396], dtype=float32),\n",
              "  'prediction_var': array([5.4626398e-05, 1.7714964e-08, 4.4384592e-07, 3.6573027e-08,\n",
              "         1.1764311e-06, 4.9060031e-08], dtype=float32)},\n",
              " {'prediction_mean': array([0.01719372, 0.00280741, 0.00220603, 0.00634215, 0.00492272,\n",
              "         0.00613687], dtype=float32),\n",
              "  'prediction_var': array([1.0733537e-07, 1.1840616e-08, 3.4277279e-09, 4.2185430e-08,\n",
              "         1.6981403e-08, 2.3815444e-08], dtype=float32)},\n",
              " {'prediction_mean': array([0.01670716, 0.00289181, 0.00220887, 0.00651239, 0.00494315,\n",
              "         0.0062838 ], dtype=float32),\n",
              "  'prediction_var': array([9.0446406e-08, 1.2556628e-08, 3.6109715e-09, 4.5412655e-08,\n",
              "         1.7560227e-08, 2.4928005e-08], dtype=float32)},\n",
              " {'prediction_mean': array([0.01617412, 0.00330748, 0.0023466 , 0.00737326, 0.00528546,\n",
              "         0.00703683], dtype=float32),\n",
              "  'prediction_var': array([7.3599189e-08, 1.6264909e-08, 4.9770241e-09, 5.7889356e-08,\n",
              "         1.9947795e-08, 3.0064140e-08], dtype=float32)},\n",
              " {'prediction_mean': array([0.01641155, 0.00310128, 0.00229618, 0.00695454, 0.00511329,\n",
              "         0.00668465], dtype=float32),\n",
              "  'prediction_var': array([7.6813691e-08, 1.4529270e-08, 4.2885713e-09, 5.2343307e-08,\n",
              "         1.8923835e-08, 2.7866557e-08], dtype=float32)},\n",
              " {'prediction_mean': array([0.0167694 , 0.00298772, 0.00227208, 0.00676021, 0.0050677 ,\n",
              "         0.00651748], dtype=float32),\n",
              "  'prediction_var': array([8.9023629e-08, 1.3272468e-08, 3.8622519e-09, 4.8800217e-08,\n",
              "         1.8636811e-08, 2.6742432e-08], dtype=float32)},\n",
              " {'prediction_mean': array([0.9351964 , 0.00547784, 0.06245586, 0.00586342, 0.07718936,\n",
              "         0.01116563], dtype=float32),\n",
              "  'prediction_var': array([4.4061098e-06, 3.6174157e-08, 3.9621309e-06, 4.0956490e-08,\n",
              "         4.4918552e-06, 8.7917961e-08], dtype=float32)},\n",
              " {'prediction_mean': array([0.9371236 , 0.01667928, 0.3680529 , 0.00897054, 0.06913839,\n",
              "         0.02399274], dtype=float32),\n",
              "  'prediction_var': array([4.4017570e-06, 3.4746438e-07, 6.0052476e-05, 8.8863935e-08,\n",
              "         3.0732331e-06, 4.2281249e-07], dtype=float32)},\n",
              " {'prediction_mean': array([0.02043217, 0.00244443, 0.00217413, 0.00556692, 0.00475493,\n",
              "         0.00552007], dtype=float32),\n",
              "  'prediction_var': array([5.2174903e-07, 8.2837381e-09, 2.9722969e-09, 3.4710215e-08,\n",
              "         1.4099291e-08, 1.9553328e-08], dtype=float32)},\n",
              " {'prediction_mean': array([0.9871184 , 0.32824627, 0.9624988 , 0.03842561, 0.9395987 ,\n",
              "         0.2088741 ], dtype=float32),\n",
              "  'prediction_var': array([2.5961702e-07, 5.2934764e-05, 7.0941934e-07, 1.9692136e-06,\n",
              "         4.9263571e-07, 1.8553192e-05], dtype=float32)},\n",
              " {'prediction_mean': array([0.8688127 , 0.00585134, 0.06680068, 0.00614519, 0.02985742,\n",
              "         0.0115003 ], dtype=float32),\n",
              "  'prediction_var': array([1.2118234e-05, 2.4299506e-08, 2.8360487e-06, 3.3310346e-08,\n",
              "         4.7343224e-07, 7.6821301e-08], dtype=float32)},\n",
              " {'prediction_mean': array([0.8726717 , 0.00455604, 0.03941184, 0.00556511, 0.0337396 ,\n",
              "         0.00967275], dtype=float32),\n",
              "  'prediction_var': array([1.2181603e-05, 1.4287688e-08, 1.0113306e-06, 2.5895725e-08,\n",
              "         5.5106187e-07, 5.7767654e-08], dtype=float32)},\n",
              " {'prediction_mean': array([0.9832443 , 0.03076789, 0.43434963, 0.01215713, 0.73083174,\n",
              "         0.03902296], dtype=float32),\n",
              "  'prediction_var': array([1.0033541e-07, 8.0595981e-07, 4.9029099e-05, 1.4458175e-07,\n",
              "         1.1582314e-05, 6.6995187e-07], dtype=float32)},\n",
              " {'prediction_mean': array([0.9282073 , 0.00563272, 0.05292476, 0.00639628, 0.08281633,\n",
              "         0.0116401 ], dtype=float32),\n",
              "  'prediction_var': array([2.0682869e-06, 2.6049912e-08, 2.0744792e-06, 4.3894882e-08,\n",
              "         2.9449925e-06, 9.5434324e-08], dtype=float32)}]"
            ]
          },
          "metadata": {
            "tags": []
          },
          "execution_count": 26
        }
      ]
    },
    {
      "cell_type": "code",
      "metadata": {
        "id": "m2flPKNig2zn",
        "colab_type": "code",
        "outputId": "2a70b16c-dca9-4f06-b477-bfce7c4d0d7f",
        "colab": {
          "base_uri": "https://localhost:8080/",
          "height": 1754
        }
      },
      "source": [
        "test_scores"
      ],
      "execution_count": 0,
      "outputs": [
        {
          "output_type": "execute_result",
          "data": {
            "text/plain": [
              "array([[1., 0., 1., 0., 0., 0.],\n",
              "       [1., 0., 1., 0., 1., 0.],\n",
              "       [1., 0., 0., 0., 0., 0.],\n",
              "       [1., 0., 0., 0., 0., 0.],\n",
              "       [0., 0., 0., 0., 0., 0.],\n",
              "       [1., 1., 1., 0., 1., 0.],\n",
              "       [0., 0., 0., 0., 0., 0.],\n",
              "       [0., 0., 0., 0., 0., 0.],\n",
              "       [0., 0., 0., 0., 0., 0.],\n",
              "       [0., 0., 0., 0., 0., 0.],\n",
              "       [1., 0., 1., 0., 0., 0.],\n",
              "       [0., 0., 0., 0., 0., 0.],\n",
              "       [0., 0., 0., 0., 0., 0.],\n",
              "       [1., 0., 0., 0., 1., 0.],\n",
              "       [0., 0., 0., 0., 0., 0.],\n",
              "       [0., 0., 0., 0., 0., 0.],\n",
              "       [1., 0., 0., 0., 0., 0.],\n",
              "       [1., 0., 1., 0., 1., 0.],\n",
              "       [0., 0., 0., 0., 0., 0.],\n",
              "       [0., 0., 0., 0., 0., 0.],\n",
              "       [0., 0., 0., 0., 0., 0.],\n",
              "       [1., 1., 1., 0., 1., 0.],\n",
              "       [0., 0., 0., 0., 0., 0.],\n",
              "       [0., 0., 0., 0., 0., 0.],\n",
              "       [1., 0., 1., 0., 0., 0.],\n",
              "       [0., 0., 0., 0., 0., 0.],\n",
              "       [0., 0., 0., 0., 0., 0.],\n",
              "       [0., 0., 0., 0., 0., 0.],\n",
              "       [0., 0., 0., 0., 0., 0.],\n",
              "       [1., 0., 0., 0., 0., 0.],\n",
              "       [1., 0., 1., 0., 1., 0.],\n",
              "       [1., 0., 0., 0., 1., 0.],\n",
              "       [1., 1., 1., 0., 0., 1.],\n",
              "       [1., 0., 0., 0., 0., 0.],\n",
              "       [0., 0., 0., 0., 0., 0.],\n",
              "       [0., 0., 0., 0., 0., 0.],\n",
              "       [1., 0., 0., 0., 0., 0.],\n",
              "       [0., 0., 0., 0., 0., 0.],\n",
              "       [0., 0., 0., 0., 0., 0.],\n",
              "       [1., 0., 1., 0., 1., 0.],\n",
              "       [1., 0., 1., 0., 1., 0.],\n",
              "       [1., 0., 1., 0., 1., 0.],\n",
              "       [1., 0., 0., 0., 0., 0.],\n",
              "       [1., 0., 1., 0., 1., 0.],\n",
              "       [0., 0., 0., 0., 0., 0.],\n",
              "       [1., 1., 1., 0., 1., 0.],\n",
              "       [0., 0., 0., 0., 0., 0.],\n",
              "       [0., 0., 0., 0., 0., 0.],\n",
              "       [1., 0., 0., 0., 0., 0.],\n",
              "       [1., 0., 0., 1., 0., 0.],\n",
              "       [0., 0., 0., 0., 0., 0.],\n",
              "       [0., 0., 0., 0., 0., 0.],\n",
              "       [1., 1., 1., 0., 1., 0.],\n",
              "       [1., 0., 1., 0., 1., 1.],\n",
              "       [1., 0., 1., 0., 1., 0.],\n",
              "       [1., 0., 0., 0., 0., 0.],\n",
              "       [1., 0., 0., 0., 0., 0.],\n",
              "       [1., 0., 1., 0., 0., 1.],\n",
              "       [1., 0., 0., 0., 0., 0.],\n",
              "       [1., 0., 0., 0., 0., 0.],\n",
              "       [0., 0., 1., 0., 0., 0.],\n",
              "       [1., 0., 1., 1., 1., 0.],\n",
              "       [1., 0., 1., 0., 1., 0.],\n",
              "       [0., 0., 0., 0., 0., 0.],\n",
              "       [1., 0., 1., 1., 1., 0.],\n",
              "       [0., 0., 0., 0., 0., 0.],\n",
              "       [0., 0., 0., 0., 0., 0.],\n",
              "       [1., 0., 0., 1., 0., 0.],\n",
              "       [0., 0., 0., 0., 0., 0.],\n",
              "       [0., 0., 0., 0., 0., 0.],\n",
              "       [1., 0., 1., 0., 1., 0.],\n",
              "       [0., 0., 0., 0., 0., 0.],\n",
              "       [1., 0., 1., 0., 1., 0.],\n",
              "       [1., 0., 0., 0., 0., 0.],\n",
              "       [0., 0., 0., 0., 0., 0.],\n",
              "       [0., 0., 0., 0., 0., 0.],\n",
              "       [0., 0., 0., 0., 0., 0.],\n",
              "       [0., 0., 0., 0., 0., 0.],\n",
              "       [1., 0., 1., 0., 1., 0.],\n",
              "       [0., 0., 0., 0., 0., 0.],\n",
              "       [1., 0., 0., 0., 1., 0.],\n",
              "       [1., 0., 1., 0., 0., 0.],\n",
              "       [1., 0., 0., 0., 0., 0.],\n",
              "       [1., 0., 1., 0., 0., 0.],\n",
              "       [1., 0., 1., 0., 0., 0.],\n",
              "       [0., 0., 0., 0., 0., 0.],\n",
              "       [1., 0., 0., 0., 0., 0.],\n",
              "       [0., 0., 0., 0., 0., 0.],\n",
              "       [0., 0., 0., 0., 0., 0.],\n",
              "       [0., 0., 0., 0., 0., 0.],\n",
              "       [0., 0., 0., 0., 0., 0.],\n",
              "       [0., 0., 0., 0., 0., 0.],\n",
              "       [1., 0., 1., 0., 1., 1.],\n",
              "       [1., 0., 0., 0., 0., 0.],\n",
              "       [0., 0., 0., 0., 0., 0.],\n",
              "       [1., 0., 1., 0., 1., 0.],\n",
              "       [1., 0., 1., 0., 0., 0.],\n",
              "       [0., 0., 0., 0., 1., 0.],\n",
              "       [1., 0., 0., 0., 0., 0.],\n",
              "       [1., 0., 0., 0., 0., 0.]])"
            ]
          },
          "metadata": {
            "tags": []
          },
          "execution_count": 27
        }
      ]
    }
  ]
}