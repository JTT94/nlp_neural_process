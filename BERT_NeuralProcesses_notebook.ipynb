{
  "nbformat": 4,
  "nbformat_minor": 0,
  "metadata": {
    "colab": {
      "name": "Copy of BERT_NeuralProcesses_notebook.ipynb",
      "version": "0.3.2",
      "provenance": [],
      "collapsed_sections": [],
      "include_colab_link": true
    },
    "language_info": {
      "codemirror_mode": {
        "name": "ipython",
        "version": 3
      },
      "file_extension": ".py",
      "mimetype": "text/x-python",
      "name": "python",
      "nbconvert_exporter": "python",
      "pygments_lexer": "ipython3",
      "version": "3.6.8"
    },
    "kernelspec": {
      "name": "python3",
      "display_name": "Python 3"
    },
    "accelerator": "GPU"
  },
  "cells": [
    {
      "cell_type": "markdown",
      "metadata": {
        "id": "view-in-github",
        "colab_type": "text"
      },
      "source": [
        "<a href=\"https://colab.research.google.com/github/JTT94/nlp_neural_process/blob/master/BERT_NeuralProcesses_notebook.ipynb\" target=\"_parent\"><img src=\"https://colab.research.google.com/assets/colab-badge.svg\" alt=\"Open In Colab\"/></a>"
      ]
    },
    {
      "cell_type": "code",
      "metadata": {
        "colab_type": "code",
        "id": "SZKAwmizhzHo",
        "outputId": "c24178be-17ee-4c7e-b8a5-dabe86601a92",
        "colab": {
          "base_uri": "https://localhost:8080/",
          "height": 191
        }
      },
      "source": [
        "import tensorflow as tf\n",
        "import pandas as pd\n",
        "import tensorflow_hub as hub\n",
        "import os\n",
        "import re\n",
        "\n",
        "from keras import backend as K\n",
        "import numpy as np\n",
        "import string\n",
        "from datetime import datetime \n",
        "import tensorflow_probability as tfp\n",
        "from tensorflow_probability import distributions as tfd"
      ],
      "execution_count": 1,
      "outputs": [
        {
          "output_type": "stream",
          "text": [
            "WARNING: Logging before flag parsing goes to stderr.\n",
            "W0520 10:21:12.911078 140205162538880 __init__.py:56] Some hub symbols are not available because TensorFlow version is less than 1.14\n",
            "Using TensorFlow backend.\n"
          ],
          "name": "stderr"
        },
        {
          "output_type": "stream",
          "text": [
            "\n",
            "WARNING: The TensorFlow contrib module will not be included in TensorFlow 2.0.\n",
            "For more information, please see:\n",
            "  * https://github.com/tensorflow/community/blob/master/rfcs/20180907-contrib-sunset.md\n",
            "  * https://github.com/tensorflow/addons\n",
            "If you depend on functionality not listed there, please file an issue.\n",
            "\n"
          ],
          "name": "stdout"
        }
      ]
    },
    {
      "cell_type": "code",
      "metadata": {
        "colab_type": "code",
        "id": "pgB8X8dti3qc",
        "outputId": "9f8ebae6-fb54-4439-d6a0-fe610aa7584a",
        "colab": {
          "base_uri": "https://localhost:8080/",
          "height": 121
        }
      },
      "source": [
        "!pip install bert-tensorflow\n",
        "import bert\n",
        "from bert import run_classifier\n",
        "from bert import optimization\n",
        "from bert import tokenization\n"
      ],
      "execution_count": 2,
      "outputs": [
        {
          "output_type": "stream",
          "text": [
            "Collecting bert-tensorflow\n",
            "\u001b[?25l  Downloading https://files.pythonhosted.org/packages/a6/66/7eb4e8b6ea35b7cc54c322c816f976167a43019750279a8473d355800a93/bert_tensorflow-1.0.1-py2.py3-none-any.whl (67kB)\n",
            "\u001b[K     |████████████████████████████████| 71kB 3.4MB/s \n",
            "\u001b[?25hRequirement already satisfied: six in /usr/local/lib/python3.6/dist-packages (from bert-tensorflow) (1.12.0)\n",
            "Installing collected packages: bert-tensorflow\n",
            "Successfully installed bert-tensorflow-1.0.1\n"
          ],
          "name": "stdout"
        }
      ]
    },
    {
      "cell_type": "code",
      "metadata": {
        "id": "ZCJDPOgQOsqJ",
        "colab_type": "code",
        "colab": {}
      },
      "source": [
        "# initialiase tensorboard \n",
        "# from https://stackoverflow.com/questions/47818822/can-i-use-tensorboard-with-google-colab\n",
        "\n",
        "\n",
        "# Get TensorBoard running in the background. \n",
        "LOG_DIR = './test_output'\n",
        "get_ipython().system_raw(\n",
        "    'tensorboard --logdir {} --host 0.0.0.0 --port 6006 &'\n",
        "    .format(LOG_DIR)\n",
        ")"
      ],
      "execution_count": 0,
      "outputs": []
    },
    {
      "cell_type": "code",
      "metadata": {
        "id": "5sZ3Bl48oaxU",
        "colab_type": "code",
        "outputId": "8ae54d4a-0aaa-46d9-9eb0-d96ca022215d",
        "colab": {
          "base_uri": "https://localhost:8080/",
          "height": 243
        }
      },
      "source": [
        "# # #Download and unzip ngrok. \n",
        "! wget https://bin.equinox.io/c/4VmDzA7iaHb/ngrok-stable-linux-amd64.zip\n",
        "! unzip ngrok-stable-linux-amd64.zip\n"
      ],
      "execution_count": 4,
      "outputs": [
        {
          "output_type": "stream",
          "text": [
            "--2019-05-20 10:21:26--  https://bin.equinox.io/c/4VmDzA7iaHb/ngrok-stable-linux-amd64.zip\n",
            "Resolving bin.equinox.io (bin.equinox.io)... 35.173.3.255, 34.196.237.103, 52.55.191.55, ...\n",
            "Connecting to bin.equinox.io (bin.equinox.io)|35.173.3.255|:443... connected.\n",
            "HTTP request sent, awaiting response... 200 OK\n",
            "Length: 16648024 (16M) [application/octet-stream]\n",
            "Saving to: ‘ngrok-stable-linux-amd64.zip’\n",
            "\n",
            "ngrok-stable-linux- 100%[===================>]  15.88M  41.4MB/s    in 0.4s    \n",
            "\n",
            "2019-05-20 10:21:26 (41.4 MB/s) - ‘ngrok-stable-linux-amd64.zip’ saved [16648024/16648024]\n",
            "\n",
            "Archive:  ngrok-stable-linux-amd64.zip\n",
            "  inflating: ngrok                   \n"
          ],
          "name": "stdout"
        }
      ]
    },
    {
      "cell_type": "code",
      "metadata": {
        "id": "mLp9PmAzoWhE",
        "colab_type": "code",
        "colab": {}
      },
      "source": [
        "# #Launch ngrok background process...\n",
        "get_ipython().system_raw('./ngrok http 6006 &')"
      ],
      "execution_count": 0,
      "outputs": []
    },
    {
      "cell_type": "code",
      "metadata": {
        "id": "eL1A1ibjOwnL",
        "colab_type": "code",
        "outputId": "284d3d0a-db27-4759-83f4-e29322342dbf",
        "colab": {
          "base_uri": "https://localhost:8080/",
          "height": 34
        }
      },
      "source": [
        "! curl -s http://localhost:4040/api/tunnels | python3 -c \\\n",
        "    \"import sys, json; print(json.load(sys.stdin)['tunnels'][0]['public_url'])\""
      ],
      "execution_count": 6,
      "outputs": [
        {
          "output_type": "stream",
          "text": [
            "https://3f03dcc4.ngrok.io\n"
          ],
          "name": "stdout"
        }
      ]
    },
    {
      "cell_type": "code",
      "metadata": {
        "id": "bweIS72l5WS5",
        "colab_type": "code",
        "outputId": "1841501a-dc7d-4e85-c6f2-1ed0055daba6",
        "colab": {
          "base_uri": "https://localhost:8080/",
          "height": 121
        }
      },
      "source": [
        "import os, sys\n",
        "sys.path.append('../') # add personal code dir to path for import\n",
        "\n",
        "\n",
        "!test -d neural_process || git clone https://github.com/JTT94/nlp_neural_process.git neural_process\n",
        "sys.path.append('./neural_process/')\n",
        "\n",
        "import random\n",
        "from neural_process import split_context_target, NeuralProcessParams\n",
        "from neural_process.network import *\n",
        "from neural_process.loss import *\n",
        "from neural_process.predict import *\n",
        "from neural_process.process import *\n",
        "\n",
        "from neural_process.tf_model_builder_AUC import *\n",
        "from neural_process.bert_utils import *"
      ],
      "execution_count": 7,
      "outputs": [
        {
          "output_type": "stream",
          "text": [
            "Cloning into 'neural_process'...\n",
            "remote: Enumerating objects: 51, done.\u001b[K\n",
            "remote: Counting objects:   1% (1/51)   \u001b[K\rremote: Counting objects:   3% (2/51)   \u001b[K\rremote: Counting objects:   5% (3/51)   \u001b[K\rremote: Counting objects:   7% (4/51)   \u001b[K\rremote: Counting objects:   9% (5/51)   \u001b[K\rremote: Counting objects:  11% (6/51)   \u001b[K\rremote: Counting objects:  13% (7/51)   \u001b[K\rremote: Counting objects:  15% (8/51)   \u001b[K\rremote: Counting objects:  17% (9/51)   \u001b[K\rremote: Counting objects:  19% (10/51)   \u001b[K\rremote: Counting objects:  21% (11/51)   \u001b[K\rremote: Counting objects:  23% (12/51)   \u001b[K\rremote: Counting objects:  25% (13/51)   \u001b[K\rremote: Counting objects:  27% (14/51)   \u001b[K\rremote: Counting objects:  29% (15/51)   \u001b[K\rremote: Counting objects:  31% (16/51)   \u001b[K\rremote: Counting objects:  33% (17/51)   \u001b[K\rremote: Counting objects:  35% (18/51)   \u001b[K\rremote: Counting objects:  37% (19/51)   \u001b[K\rremote: Counting objects:  39% (20/51)   \u001b[K\rremote: Counting objects:  41% (21/51)   \u001b[K\rremote: Counting objects:  43% (22/51)   \u001b[K\rremote: Counting objects:  45% (23/51)   \u001b[K\rremote: Counting objects:  47% (24/51)   \u001b[K\rremote: Counting objects:  49% (25/51)   \u001b[K\rremote: Counting objects:  50% (26/51)   \u001b[K\rremote: Counting objects:  52% (27/51)   \u001b[K\rremote: Counting objects:  54% (28/51)   \u001b[K\rremote: Counting objects:  56% (29/51)   \u001b[K\rremote: Counting objects:  58% (30/51)   \u001b[K\rremote: Counting objects:  60% (31/51)   \u001b[K\rremote: Counting objects:  62% (32/51)   \u001b[K\rremote: Counting objects:  64% (33/51)   \u001b[K\rremote: Counting objects:  66% (34/51)   \u001b[K\rremote: Counting objects:  68% (35/51)   \u001b[K\rremote: Counting objects:  70% (36/51)   \u001b[K\rremote: Counting objects:  72% (37/51)   \u001b[K\rremote: Counting objects:  74% (38/51)   \u001b[K\rremote: Counting objects:  76% (39/51)   \u001b[K\rremote: Counting objects:  78% (40/51)   \u001b[K\rremote: Counting objects:  80% (41/51)   \u001b[K\rremote: Counting objects:  82% (42/51)   \u001b[K\rremote: Counting objects:  84% (43/51)   \u001b[K\rremote: Counting objects:  86% (44/51)   \u001b[K\rremote: Counting objects:  88% (45/51)   \u001b[K\rremote: Counting objects:  90% (46/51)   \u001b[K\rremote: Counting objects:  92% (47/51)   \u001b[K\rremote: Counting objects:  94% (48/51)   \u001b[K\rremote: Counting objects:  96% (49/51)   \u001b[K\rremote: Counting objects:  98% (50/51)   \u001b[K\rremote: Counting objects: 100% (51/51)   \u001b[K\rremote: Counting objects: 100% (51/51), done.\u001b[K\n",
            "remote: Compressing objects:   2% (1/37)   \u001b[K\rremote: Compressing objects:   5% (2/37)   \u001b[K\rremote: Compressing objects:   8% (3/37)   \u001b[K\rremote: Compressing objects:  10% (4/37)   \u001b[K\rremote: Compressing objects:  13% (5/37)   \u001b[K\rremote: Compressing objects:  16% (6/37)   \u001b[K\rremote: Compressing objects:  18% (7/37)   \u001b[K\rremote: Compressing objects:  21% (8/37)   \u001b[K\rremote: Compressing objects:  24% (9/37)   \u001b[K\rremote: Compressing objects:  27% (10/37)   \u001b[K\rremote: Compressing objects:  29% (11/37)   \u001b[K\rremote: Compressing objects:  32% (12/37)   \u001b[K\rremote: Compressing objects:  35% (13/37)   \u001b[K\rremote: Compressing objects:  37% (14/37)   \u001b[K\rremote: Compressing objects:  40% (15/37)   \u001b[K\rremote: Compressing objects:  43% (16/37)   \u001b[K\rremote: Compressing objects:  45% (17/37)   \u001b[K\rremote: Compressing objects:  48% (18/37)   \u001b[K\rremote: Compressing objects:  51% (19/37)   \u001b[K\rremote: Compressing objects:  54% (20/37)   \u001b[K\rremote: Compressing objects:  56% (21/37)   \u001b[K\rremote: Compressing objects:  59% (22/37)   \u001b[K\rremote: Compressing objects:  62% (23/37)   \u001b[K\rremote: Compressing objects:  64% (24/37)   \u001b[K\rremote: Compressing objects:  67% (25/37)   \u001b[K\rremote: Compressing objects:  70% (26/37)   \u001b[K\rremote: Compressing objects:  72% (27/37)   \u001b[K\rremote: Compressing objects:  75% (28/37)   \u001b[K\rremote: Compressing objects:  78% (29/37)   \u001b[K\rremote: Compressing objects:  81% (30/37)   \u001b[K\rremote: Compressing objects:  83% (31/37)   \u001b[K\rremote: Compressing objects:  86% (32/37)   \u001b[K\rremote: Compressing objects:  89% (33/37)   \u001b[K\rremote: Compressing objects:  91% (34/37)   \u001b[K\rremote: Compressing objects:  94% (35/37)   \u001b[K\rremote: Compressing objects:  97% (36/37)   \u001b[K\rremote: Compressing objects: 100% (37/37)   \u001b[K\rremote: Compressing objects: 100% (37/37), done.\u001b[K\n",
            "remote: Total 51 (delta 23), reused 26 (delta 12), pack-reused 0\u001b[K\n",
            "Unpacking objects:   1% (1/51)   \rUnpacking objects:   3% (2/51)   \rUnpacking objects:   5% (3/51)   \rUnpacking objects:   7% (4/51)   \rUnpacking objects:   9% (5/51)   \rUnpacking objects:  11% (6/51)   \rUnpacking objects:  13% (7/51)   \rUnpacking objects:  15% (8/51)   \rUnpacking objects:  17% (9/51)   \rUnpacking objects:  19% (10/51)   \rUnpacking objects:  21% (11/51)   \rUnpacking objects:  23% (12/51)   \rUnpacking objects:  25% (13/51)   \rUnpacking objects:  27% (14/51)   \rUnpacking objects:  29% (15/51)   \rUnpacking objects:  31% (16/51)   \rUnpacking objects:  33% (17/51)   \rUnpacking objects:  35% (18/51)   \rUnpacking objects:  37% (19/51)   \rUnpacking objects:  39% (20/51)   \rUnpacking objects:  41% (21/51)   \rUnpacking objects:  43% (22/51)   \rUnpacking objects:  45% (23/51)   \rUnpacking objects:  47% (24/51)   \rUnpacking objects:  49% (25/51)   \rUnpacking objects:  50% (26/51)   \rUnpacking objects:  52% (27/51)   \rUnpacking objects:  54% (28/51)   \rUnpacking objects:  56% (29/51)   \rUnpacking objects:  58% (30/51)   \rUnpacking objects:  60% (31/51)   \rUnpacking objects:  62% (32/51)   \rUnpacking objects:  64% (33/51)   \rUnpacking objects:  66% (34/51)   \rUnpacking objects:  68% (35/51)   \rUnpacking objects:  70% (36/51)   \rUnpacking objects:  72% (37/51)   \rUnpacking objects:  74% (38/51)   \rUnpacking objects:  76% (39/51)   \rUnpacking objects:  78% (40/51)   \rUnpacking objects:  80% (41/51)   \rUnpacking objects:  82% (42/51)   \rUnpacking objects:  84% (43/51)   \rUnpacking objects:  86% (44/51)   \rUnpacking objects:  88% (45/51)   \rUnpacking objects:  90% (46/51)   \rUnpacking objects:  92% (47/51)   \rUnpacking objects:  94% (48/51)   \rUnpacking objects:  96% (49/51)   \rUnpacking objects:  98% (50/51)   \rUnpacking objects: 100% (51/51)   \rUnpacking objects: 100% (51/51), done.\n"
          ],
          "name": "stdout"
        }
      ]
    },
    {
      "cell_type": "code",
      "metadata": {
        "colab_type": "code",
        "id": "69MNF4fEi5Ly",
        "outputId": "bbe7a586-96fe-4642-874d-9dbf5f975364",
        "colab": {
          "base_uri": "https://localhost:8080/",
          "height": 34
        }
      },
      "source": [
        "# Initialize session\n",
        "sess = tf.Session()\n",
        "K.set_session(sess)\n",
        "K.tensorflow_backend._get_available_gpus()\n",
        "# tf.logging.set_verbosity(tf.logging.ERROR)"
      ],
      "execution_count": 8,
      "outputs": [
        {
          "output_type": "execute_result",
          "data": {
            "text/plain": [
              "['/job:localhost/replica:0/task:0/device:GPU:0']"
            ]
          },
          "metadata": {
            "tags": []
          },
          "execution_count": 8
        }
      ]
    },
    {
      "cell_type": "code",
      "metadata": {
        "id": "jDvh4JVNQFck",
        "colab_type": "code",
        "outputId": "3d39d3a7-f36b-42fb-83a6-58dc980c1ac1",
        "colab": {
          "base_uri": "https://localhost:8080/",
          "height": 124
        }
      },
      "source": [
        "from google.colab import drive\n",
        "drive.mount('/content/gdrive')"
      ],
      "execution_count": 9,
      "outputs": [
        {
          "output_type": "stream",
          "text": [
            "Go to this URL in a browser: https://accounts.google.com/o/oauth2/auth?client_id=947318989803-6bn6qk8qdgf4n4g3pfee6491hc0brc4i.apps.googleusercontent.com&redirect_uri=urn%3Aietf%3Awg%3Aoauth%3A2.0%3Aoob&scope=email%20https%3A%2F%2Fwww.googleapis.com%2Fauth%2Fdocs.test%20https%3A%2F%2Fwww.googleapis.com%2Fauth%2Fdrive%20https%3A%2F%2Fwww.googleapis.com%2Fauth%2Fdrive.photos.readonly%20https%3A%2F%2Fwww.googleapis.com%2Fauth%2Fpeopleapi.readonly&response_type=code\n",
            "\n",
            "Enter your authorization code:\n",
            "··········\n",
            "Mounted at /content/gdrive\n"
          ],
          "name": "stdout"
        }
      ]
    },
    {
      "cell_type": "code",
      "metadata": {
        "id": "xfAdXX0kQFfZ",
        "colab_type": "code",
        "colab": {}
      },
      "source": [
        ""
      ],
      "execution_count": 0,
      "outputs": []
    },
    {
      "cell_type": "code",
      "metadata": {
        "colab_type": "code",
        "id": "Cc1rwgOZi9F1",
        "outputId": "3583f005-293a-4069-e5cf-30b6169ac5b3",
        "colab": {
          "base_uri": "https://localhost:8080/",
          "height": 34
        }
      },
      "source": [
        "# filename = './cleaned_data.csv'\n",
        "# filename = './data1.csv'\n",
        "# df = pd.read_csv(filename, index_col=0)\n",
        "# cols = ['comment','antagonize', 'condescending', 'dismissive', 'generalisation', 'hostile', 'sarcastic', 'healthy']\n",
        "# cols = ['comment','cleaned_comment','antagonize', 'condescending', 'dismissive', 'generalisation', 'hostile', 'sarcastic', 'healthy']\n",
        "# df = df[cols]\n",
        "\n",
        "#score_column = ['antagonize', 'condescending', 'dismissive', 'generalisation', 'hostile', 'sarcastic', 'healthy']\n",
        "# text_col_name = 'cleaned_comment'\n",
        "# text_col_name = 'comment'\n",
        "\n",
        "#--------\n",
        "\n",
        "## For kaggle dataset\n",
        "\n",
        "filename = './gdrive/My Drive/Data/train.csv'\n",
        "df = pd.read_csv(filename)\n",
        "cols = ['comment_text','toxic', 'severe_toxic', 'obscene', 'threat', 'insult', 'identity_hate']\n",
        "df = df[cols]\n",
        "\n",
        "score_column = ['toxic', 'severe_toxic', 'obscene', 'threat', 'insult', 'identity_hate'] \n",
        "\n",
        "text_col_name = 'comment_text'\n",
        "\n",
        "#Cast to float - because scores and labels need to be concattenated in the model function, and so need to be same type\n",
        "for i in score_column:\n",
        "  df[i] = pd.to_numeric(df[i],downcast='float')\n",
        "  \n",
        "len(df)"
      ],
      "execution_count": 10,
      "outputs": [
        {
          "output_type": "execute_result",
          "data": {
            "text/plain": [
              "159571"
            ]
          },
          "metadata": {
            "tags": []
          },
          "execution_count": 10
        }
      ]
    },
    {
      "cell_type": "code",
      "metadata": {
        "colab_type": "code",
        "id": "p_JIbqhY55L_",
        "outputId": "a5dda320-d5e2-4a1d-b6af-99e25aa5d320",
        "colab": {
          "base_uri": "https://localhost:8080/",
          "height": 121
        }
      },
      "source": [
        "# Restrict comment length\n",
        "\n",
        "df = df[df.comment_text.str.len() <= 250]\n",
        "\n",
        "# print(len(df))\n",
        "\n",
        "# full_df = df.copy(deep=True)\n",
        "\n",
        "#sample portion of dataset to speed up preprocessing\n",
        "\n",
        "# df = df.sample(frac = 0.5)\n",
        "\n",
        "# over represent toxic comments\n",
        "\n",
        "df['num_toxic_atts'] = df[cols[1:]].apply(lambda x: np.sum(x), axis = 1)\n",
        "\n",
        "df_toxic = df[df.num_toxic_atts  > 0]\n",
        "# print(len(df_toxic))\n",
        "df_healthy_sample = df[df.num_toxic_atts == 0][:len(df_toxic)]\n",
        "print(len(df_healthy_sample))\n",
        "df_healthy_remaining = df[df.num_toxic_atts == 0][len(df_toxic):]\n",
        "print(len(df_healthy_remaining))\n",
        "\n",
        "df_overrep = pd.concat([df_toxic, df_healthy_sample]).sample(frac=1.0)\n",
        "print(len(df_overrep))\n",
        "train_propn = 0.8\n",
        "\n",
        "ratio = len(df_toxic)/(len(df_healthy_sample)+len(df_healthy_remaining))\n",
        "print(ratio)\n",
        "\n",
        "df_train = df_overrep[:int(len(df_overrep)*train_propn)]\n",
        "print(len(df_train))\n",
        "\n",
        "#construct a test set with similar proportion/imbalance in toxic - nontoxic data to the real data set\n",
        "df_test = pd.concat([df_overrep[int(len(df_overrep)*train_propn):], df_healthy_remaining[:int((1-0.8)*(len(df_healthy_remaining)-len(df_train)))]])\n",
        "\n",
        "print(0.5*len(df_overrep[int(len(df_overrep)*train_propn):]) / len(df_test))\n",
        "# df_train.head(50)"
      ],
      "execution_count": 11,
      "outputs": [
        {
          "output_type": "stream",
          "text": [
            "11640\n",
            "67417\n",
            "23280\n",
            "0.14723553891496008\n",
            "18624\n",
            "0.16150964340224783\n"
          ],
          "name": "stdout"
        }
      ]
    },
    {
      "cell_type": "code",
      "metadata": {
        "id": "u8p3Cm_z3nm8",
        "colab_type": "code",
        "colab": {}
      },
      "source": [
        ""
      ],
      "execution_count": 0,
      "outputs": []
    },
    {
      "cell_type": "code",
      "metadata": {
        "colab_type": "code",
        "id": "mUIe15uTi9Ok",
        "outputId": "c7a4829f-b326-4793-c32b-a1f88dc28947",
        "colab": {
          "base_uri": "https://localhost:8080/",
          "height": 176
        }
      },
      "source": [
        "# This is a path to an uncased (all lowercase) version of BERT\n",
        "BERT_model_hub = \"https://tfhub.dev/google/bert_uncased_L-12_H-768_A-12/1\"\n",
        "tokenizer = create_tokenizer_from_hub_module(BERT_model_hub)"
      ],
      "execution_count": 12,
      "outputs": [
        {
          "output_type": "stream",
          "text": [
            "WARNING:tensorflow:From /usr/local/lib/python3.6/dist-packages/tensorflow/python/ops/control_flow_ops.py:3632: colocate_with (from tensorflow.python.framework.ops) is deprecated and will be removed in a future version.\n",
            "Instructions for updating:\n",
            "Colocations handled automatically by placer.\n"
          ],
          "name": "stdout"
        },
        {
          "output_type": "stream",
          "text": [
            "W0520 10:22:32.573901 140205162538880 deprecation.py:323] From /usr/local/lib/python3.6/dist-packages/tensorflow/python/ops/control_flow_ops.py:3632: colocate_with (from tensorflow.python.framework.ops) is deprecated and will be removed in a future version.\n",
            "Instructions for updating:\n",
            "Colocations handled automatically by placer.\n"
          ],
          "name": "stderr"
        },
        {
          "output_type": "stream",
          "text": [
            "INFO:tensorflow:Saver not created because there are no variables in the graph to restore\n"
          ],
          "name": "stdout"
        },
        {
          "output_type": "stream",
          "text": [
            "I0520 10:22:34.728833 140205162538880 saver.py:1483] Saver not created because there are no variables in the graph to restore\n"
          ],
          "name": "stderr"
        }
      ]
    },
    {
      "cell_type": "code",
      "metadata": {
        "colab_type": "code",
        "id": "IVESPLmgl98I",
        "colab": {}
      },
      "source": [
        "# #Pre process data for bert embedding\n",
        "\n",
        "max_seq_length = 128\n",
        "\n",
        "import pickle\n",
        "\n",
        "train_input_examples = create_examples(df_train, score_column, text_col_name)\n",
        "test_input_examples = create_examples(df_test, score_column, text_col_name)\n",
        "\n",
        "train_features = convert_examples_to_features(train_input_examples, max_seq_length, tokenizer)\n",
        "test_features = convert_examples_to_features(test_input_examples, max_seq_length, tokenizer)\n",
        "\n",
        "pickle.dump(train_features, open('./gdrive/My Drive/Data/train_features.p', 'wb'))\n",
        "pickle.dump(test_features, open('./gdrive/My Drive/Data/test_features.p', 'wb'))\n",
        "\n",
        "# # ## Load features previously saved\n",
        "\n",
        "# train_features = pickle.load(open('./gdrive/My Drive/Kaggle_toxic_comments/train_features.p', 'rb'))\n",
        "# test_features = pickle.load(open('./gdrive/My Drive/Kaggle_toxic_comments/train_features.p', 'rb'))"
      ],
      "execution_count": 0,
      "outputs": []
    },
    {
      "cell_type": "code",
      "metadata": {
        "colab_type": "code",
        "id": "Fvzbqq1alHf8",
        "colab": {}
      },
      "source": [
        "outputDim = len(score_column)\n",
        "num_draws = 20\n",
        "\n",
        "def encoder_h(context_xys: tf.Tensor, params: NeuralProcessParams) -> tf.Tensor:\n",
        "    \"\"\"Map context inputs (x_i, y_i) to r_i\n",
        "\n",
        "    Creates a fully connected network with a single sigmoid hidden layer and linear output layer.\n",
        "\n",
        "    Parameters\n",
        "    ----------\n",
        "    context_xys\n",
        "        Input tensor, shape: (n_samples, dim_x + dim_y)\n",
        "    params\n",
        "        Neural process parameters\n",
        "\n",
        "    Returns\n",
        "    -------\n",
        "        Output tensor of encoder network\n",
        "    \"\"\"\n",
        "    hidden_layer = context_xys\n",
        "#     print('hidden layer')\n",
        "#     print(hidden_layer)\n",
        "#     print(enumerate(params.n_hidden_units_h))\n",
        "    # First layers are relu\n",
        "    for i, n_hidden_units in enumerate(params.n_hidden_units_h):\n",
        "#         print(i)\n",
        "#         print(n_hidden_units)\n",
        "        hidden_layer = tf.layers.dense(hidden_layer, n_hidden_units,\n",
        "                                       activation=tf.nn.relu,\n",
        "                                       name='encoder_layer_{}'.format(i),\n",
        "                                       reuse=tf.AUTO_REUSE,\n",
        "                                       kernel_initializer='normal')\n",
        "#         print(hidden_layer)\n",
        "\n",
        "    # Last layer is simple linear\n",
        "    i = len(params.n_hidden_units_h)\n",
        "    r = tf.layers.dense(hidden_layer, params.dim_r,\n",
        "                        name='encoder_layer_{}'.format(i),\n",
        "                        reuse=tf.AUTO_REUSE,\n",
        "                        kernel_initializer='normal')\n",
        "    return r\n",
        "  \n",
        "  \n",
        "def aggregate_r(context_rs: tf.Tensor) -> tf.Tensor:\n",
        "    \"\"\"Aggregate the output of the encoder to a single representation\n",
        "\n",
        "    Creates an aggregation (mean) operator to combine the encodings of multiple context inputs\n",
        "\n",
        "    Parameters\n",
        "    ----------\n",
        "    context_rs\n",
        "        Input encodings tensor, shape: (n_samples, dim_r)\n",
        "\n",
        "    Returns\n",
        "    -------\n",
        "        Output tensor of aggregation result\n",
        "    \"\"\"\n",
        "    mean = tf.reduce_mean(context_rs, axis=0)\n",
        "\n",
        "    r = tf.reshape(mean, [1, -1])\n",
        "    return r\n",
        "\n",
        "\n",
        "def get_z_params(context_r: tf.Tensor, params: NeuralProcessParams) -> GaussianParams:\n",
        "    \"\"\"Map encoding to mean and covariance of the random variable Z\n",
        "\n",
        "    Creates a linear dense layer to map encoding to mu_z, and another linear mapping + a softplus activation for Sigma_z\n",
        "\n",
        "    Parameters\n",
        "    ----------\n",
        "    context_r\n",
        "        Input encoding tensor, shape: (1, dim_r)\n",
        "    params\n",
        "        Neural process parameters\n",
        "\n",
        "    Returns\n",
        "    -------\n",
        "        Output tensors of the mappings for mu_z and Sigma_z\n",
        "    \"\"\"\n",
        "    mu = tf.layers.dense(context_r, params.dim_z, name=\"z_params_mu\", reuse=tf.AUTO_REUSE, kernel_initializer='normal')\n",
        "\n",
        "    sigma = tf.layers.dense(context_r, params.dim_z, name=\"z_params_sigma\", reuse=tf.AUTO_REUSE,\n",
        "                            kernel_initializer='normal')\n",
        "    sigma = tf.nn.softplus(sigma)\n",
        "\n",
        "    return GaussianParams(mu, sigma)\n",
        "\n",
        "\n",
        "def decoder_g(input_xs_embedding, z_samples: tf.Tensor, params: NeuralProcessParams,\n",
        "              noise_std: float = 0.05) -> GaussianParams:\n",
        "    \"\"\"Determine output y* by decoding input and latent variable\n",
        "\n",
        "    Creates a fully connected network with a single sigmoid hidden layer and linear output layer.\n",
        "\n",
        "    Parameters\n",
        "    ----------\n",
        "    z_samples\n",
        "        Random samples from the latent variable distribution, shape: (n_z_draws, dim_z)\n",
        "    input_xs\n",
        "        Input values to predict for, shape: (n_x_samples, dim_x)\n",
        "    params\n",
        "        Neural process parameters\n",
        "    noise_std\n",
        "        Constant standard deviation used on output\n",
        "\n",
        "    Returns\n",
        "    -------\n",
        "        Output tensors for the parameters of Gaussian distributions for target outputy, where its mean mu has shape\n",
        "        (n_x_samples, n_z_draws)\n",
        " \n",
        "    \"\"\"\n",
        "    # inputs dimensions\n",
        "    # z_sample has dim [n_draws, dim_z]\n",
        "    # x_star has dim [N_star, dim_x]\n",
        "\n",
        "    n_draws = z_samples.get_shape().as_list()[0]\n",
        "#     print('n_draws')\n",
        "#     print(n_draws)\n",
        "    n_xs = tf.shape(input_xs_embedding)[0]\n",
        "\n",
        "    # Repeat z samples for each x*\n",
        "    z_samples_repeat = tf.expand_dims(z_samples, axis=1)\n",
        "    z_samples_repeat = tf.tile(z_samples_repeat, [1, n_xs, 1])\n",
        "\n",
        "    # Repeat x* for each z sample\n",
        "#     input_xs_embedding = embedder(input_xs)\n",
        "    x_star_repeat = tf.expand_dims(input_xs_embedding, axis=0)\n",
        "    x_star_repeat = tf.tile(x_star_repeat, [n_draws, 1, 1])\n",
        "\n",
        "    # Concatenate x* and z\n",
        "    # shape: (n_z_draws, n_xs, dim_x + dim_z)\n",
        "    inputs = tf.concat([x_star_repeat, z_samples_repeat], axis=2)\n",
        "\n",
        "    hidden_layer = inputs\n",
        "    # First layers are relu\n",
        "    for i, n_hidden_units in enumerate(params.n_hidden_units_g):\n",
        "        hidden_layer = tf.layers.dense(hidden_layer, n_hidden_units,\n",
        "                                       activation=tf.nn.relu,\n",
        "                                       name='decoder_layer_{}'.format(i),\n",
        "                                       reuse=tf.AUTO_REUSE,\n",
        "                                       kernel_initializer='normal')\n",
        "\n",
        "    # Last layer is simple linear\n",
        "    i = len(params.n_hidden_units_g)\n",
        "    hidden_layer = tf.layers.dense(hidden_layer, outputDim,\n",
        "                                   name='decoder_layer_{}'.format(i),\n",
        "                                   reuse=tf.AUTO_REUSE,\n",
        "                                   kernel_initializer='normal')\n",
        "\n",
        "    hidden_layer = tf.math.sigmoid(hidden_layer)\n",
        "    \n",
        "    # mu will be of the shape [N_star, n_draws]\n",
        "    mu_star = hidden_layer\n",
        "\n",
        "    sigma_star = tf.constant(noise_std, dtype=tf.float32)\n",
        "\n",
        "    return GaussianParams(mu_star, sigma_star)\n",
        "\n",
        "\n",
        "def xy_to_z_params(context_xs: tf.Tensor, context_ys: tf.Tensor,\n",
        "                   params: NeuralProcessParams) -> GaussianParams:\n",
        "    \"\"\"Wrapper to create full network from context samples to parameters of pdf of Z\n",
        "\n",
        "    Parameters\n",
        "    ----------\n",
        "    context_xs\n",
        "        Tensor with context features, shape: (n_samples, dim_x)\n",
        "    context_ys\n",
        "        Tensor with context targets, shape: (n_samples, dim_y)\n",
        "    params\n",
        "        Neural process parameters\n",
        "\n",
        "    Returns\n",
        "    -------\n",
        "        Output tensors of the mappings for mu_z and Sigma_z\n",
        "    \"\"\"\n",
        "#     context_xs = embedder(context_xs)\n",
        "    xys = tf.concat([context_xs, context_ys], axis=1)\n",
        "    rs = encoder_h(xys, params)\n",
        "    r = aggregate_r(rs)\n",
        "    z_params = get_z_params(r, params)\n",
        "    return z_params\n",
        "\n",
        "def loglikelihood(y_star: tf.Tensor, y_pred_params: GaussianParams):\n",
        "    \"\"\"Log-likelihood of an output given a predicted \"\"\"\n",
        "    p_normal = tfd.MultivariateNormalDiag(loc=y_pred_params.mu)\n",
        "    loglike = p_normal.log_prob(y_star)\n",
        "    loglike = tf.reduce_sum(loglike, axis=0)\n",
        "    loglike = tf.reduce_mean(loglike)\n",
        "    return loglike\n",
        "  \n",
        "  \n",
        "def create_model(input_ids, input_mask, segment_ids, num_labels, scores):\n",
        "\n",
        "#     \"\"\"Creates a classification model.\"\"\"\n",
        "\n",
        "    # 1 split input ids, input mask, seg ids and scores into context and target\n",
        "#     tf.logging.info('input ids shape')\n",
        "      \n",
        "    \n",
        "    bert_module = hub.Module(BERT_model_hub,trainable=True)\n",
        "\n",
        "    bert_inputs = dict(input_ids=input_ids,input_mask=input_mask,\n",
        "      segment_ids=segment_ids)\n",
        "\n",
        "    bert_outputs = bert_module(inputs=bert_inputs,signature=\"tokens\",\n",
        "      as_dict=True)\n",
        "    \n",
        "  # Use \"pooled_output\" for classification tasks on an entire sentence. Use \"sequence_outputs\" for token-level output.\n",
        "    output_bert_layer = bert_outputs[\"pooled_output\"]\n",
        "\n",
        "    tf.logging.info(output_bert_layer)\n",
        "    \n",
        "    hidden_size = output_bert_layer.shape[-1].value\n",
        "\n",
        "    # -------\n",
        "     \n",
        "    params = NeuralProcessParams(dim_r=20, dim_z=20, n_hidden_units_h=[128, 128, 128], n_hidden_units_g=[128, 128, 128])\n",
        "\n",
        "    btch_sz = tf.shape(output_bert_layer)[0]\n",
        "    \n",
        "    n_context = tf.random_shuffle(tf.range(1,btch_sz))[0]\n",
        "    \n",
        "    indices = tf.range(0, btch_sz)\n",
        "    context_set_indices = tf.gather(tf.random_shuffle(indices),tf.range(n_context))\n",
        "    target_set_indices = tf.gather(tf.random_shuffle(indices),tf.range(n_context, btch_sz))\n",
        "    \n",
        "    context_xs = tf.gather(output_bert_layer,context_set_indices)\n",
        "    context_ys = tf.gather(scores, context_set_indices)\n",
        "    target_xs = tf.gather(output_bert_layer,target_set_indices)\n",
        "    target_ys = tf.gather(scores,target_set_indices)\n",
        "\n",
        "    x_all = output_bert_layer\n",
        "    y_all = scores\n",
        "    \n",
        "    z_context = xy_to_z_params(context_xs, context_ys, params)\n",
        "    z_all = xy_to_z_params(x_all, y_all, params)\n",
        "    \n",
        "    epsilon = tf.random_normal([num_draws, params.dim_z])\n",
        "    z_samples = tf.multiply(epsilon, z_all.sigma)\n",
        "    z_samples = tf.add(z_samples, z_all.mu)\n",
        "    \n",
        "    \n",
        "    y_loss_params = decoder_g(target_xs, z_samples, params)\n",
        "    \n",
        "    prior_predict = decoder_g(x_all, epsilon, params)\n",
        "    posterior_predict = decoder_g(x_all, z_samples, params)\n",
        "\n",
        "    loglike = loglikelihood(target_ys, y_loss_params)\n",
        "    KL_loss = KLqp_gaussian(z_all.mu, z_all.sigma, z_context.mu, z_context.sigma)\n",
        "    loss = tf.negative(loglike) + KL_loss\n",
        "    \n",
        "    return (loss, posterior_predict, prior_predict, y_all)\n"
      ],
      "execution_count": 0,
      "outputs": []
    },
    {
      "cell_type": "code",
      "metadata": {
        "id": "pUGi_5G5VzBZ",
        "colab_type": "code",
        "colab": {}
      },
      "source": [
        "\n",
        "def model_fn_builder(create_model, num_labels, learning_rate, num_train_steps,\n",
        "                     num_warmup_steps):\n",
        "    \"\"\"Returns `model_fn` closure for TPUEstimator.\"\"\"\n",
        "    def model_fn(features, mode, params):  # pylint: disable=unused-argument\n",
        "        \"\"\"The `model_fn` for TPUEstimator.\"\"\"\n",
        "\n",
        "        input_ids = features[\"input_ids\"]\n",
        "        input_mask = features[\"input_mask\"]\n",
        "        segment_ids = features[\"segment_ids\"]    \n",
        "        scores = features[\"scores\"]\n",
        "        \n",
        "        \n",
        "        (loss, posterior_predict, prior_predict, true_y) = create_model(input_ids, input_mask, segment_ids, num_labels, scores)\n",
        "        \n",
        "          \n",
        "        train_op = bert.optimization.create_optimizer(loss, learning_rate, num_train_steps, \n",
        "            num_warmup_steps, use_tpu=False)\n",
        "        \n",
        "        # output from model\n",
        "        ystar, variance = tf.nn.moments(posterior_predict.mu,[0])\n",
        "        prior_ystar, prior_variance = tf.nn.moments(prior_predict.mu,[0])\n",
        "        \n",
        "        # Calculate evaluation metrics.\n",
        "        eval_metrics = {}\n",
        "        \n",
        "        # AUC\n",
        "        def metric_fn(pred_scores, real_scores, trait_num):\n",
        "            auc_value = tf.metrics.auc(real_scores[:,trait_num], pred_scores[:,trait_num])\n",
        "            accuracy_value = tf.metrics.accuracy(labels = tf.round(real_scores[:,trait_num]), predictions=tf.round(pred_scores[:,trait_num]))\n",
        "            return {\"auc\"+str(trait_num): auc_value, \"accuracy\"+str(trait_num): accuracy_value}\n",
        "\n",
        "        labels = true_y # need to round them if true labels are not 1 or 0\n",
        "        eval_metrics_lst = [metric_fn(prior_ystar, labels, trait_num) for trait_num in range(num_labels)]\n",
        "        \n",
        "        for d in eval_metrics_lst:\n",
        "            tf.summary.scalar(list(d.keys())[0], list(d.values())[0][1]) #make available to tensorboard\n",
        "            eval_metrics.update(d)\n",
        "            \n",
        "        # accuracy\n",
        "        #correct_prediction = tf.equal(tf.round(tf.nn.sigmoid(ystar)), tf.round(labels))\n",
        "        #overall_accuracy = tf.reduce_mean(tf.cast(correct_prediction, tf.float32))\n",
        "        #eval_metrics.update({'overall_accuracy':overall_accuracy})\n",
        "        \n",
        "        #accuracy_by_label = tf.reduce_mean(tf.cast(correct_prediction, tf.float32), 0)\n",
        "        #eval_metrics.update({'accuracy_by_label':accuracy_by_label})\n",
        "        \n",
        "        # returns \n",
        "        if mode == tf.estimator.ModeKeys.TRAIN:\n",
        "            return tf.estimator.EstimatorSpec(mode=mode, loss=loss, train_op=train_op)\n",
        "        elif mode == tf.estimator.ModeKeys.PREDICT:\n",
        "            return tf.estimator.EstimatorSpec(mode=mode, predictions={'prediction_mean': ystar, 'prediction_var': variance})\n",
        "        else:\n",
        "            return tf.estimator.EstimatorSpec(mode=mode, loss=loss, eval_metric_ops=eval_metrics)\n",
        "        # Return the actual model function in the closure\n",
        "    return model_fn"
      ],
      "execution_count": 0,
      "outputs": []
    },
    {
      "cell_type": "code",
      "metadata": {
        "id": "Z8iSEczc6NS1",
        "colab_type": "code",
        "colab": {}
      },
      "source": [
        ""
      ],
      "execution_count": 0,
      "outputs": []
    },
    {
      "cell_type": "code",
      "metadata": {
        "colab_type": "code",
        "id": "3K9kf-1DlHJA",
        "outputId": "1e08a10a-d49f-4b04-b4eb-c8834f2d63e7",
        "colab": {
          "base_uri": "https://localhost:8080/",
          "height": 819
        }
      },
      "source": [
        "# These hyperparameters are copied from this colab notebook (https://colab.sandbox.google.com/github/tensorflow/tpu/blob/master/tools/colab/bert_finetuning_with_cloud_tpus.ipynb)\n",
        "batch_size = 32\n",
        "# lr = 2e-2\n",
        "lr = 2e-5\n",
        "epochs = 6.0\n",
        "# Warmup is a period of time where the learning rate  is small and gradually increases\n",
        "warmpup_proportion = 0.1\n",
        "\n",
        "# Compute # train and warmup steps from batch size\n",
        "num_train_steps = int(len(train_features) / batch_size *epochs)\n",
        "num_warmup_steps = int(num_train_steps * warmpup_proportion)\n",
        "\n",
        "#####\n",
        "\n",
        "output_dir = \"./test_output\"\n",
        "save_checkpoints_steps = 500\n",
        "save_summary_steps = 100\n",
        "\n",
        "# Specify outpit directory and number of checkpoint steps to save\n",
        "run_config = tf.estimator.RunConfig(model_dir=output_dir,\n",
        "    save_summary_steps=save_summary_steps, save_checkpoints_steps=save_checkpoints_steps)\n",
        "\n",
        "#####\n",
        "\n",
        "num_labels = len(score_column)\n",
        "\n",
        "model_fn = model_fn_builder(create_model, num_labels = num_labels, learning_rate=lr,\n",
        "  num_train_steps=num_train_steps, num_warmup_steps=num_warmup_steps)\n",
        "\n",
        "estimator = tf.estimator.Estimator(model_fn=model_fn,config=run_config,\n",
        "  params={\"batch_size\": batch_size})\n",
        "\n",
        "#####\n",
        "\n",
        "# Create an input function for training. drop_remainder = True for using TPUs.\n",
        "train_input_fn = input_fn_builder(\n",
        "    features=train_features, seq_length=max_seq_length, \n",
        "    num_labels = num_labels, is_training=True, drop_remainder=False)\n",
        "\n",
        "#####\n",
        "\n",
        "print('Beginning Training!')\n",
        "current_time = datetime.now()\n",
        "estimator.train(input_fn=train_input_fn, max_steps=num_train_steps)\n",
        "print(\"Training took time \", datetime.now() - current_time)"
      ],
      "execution_count": 0,
      "outputs": [
        {
          "output_type": "stream",
          "text": [
            "INFO:tensorflow:Using config: {'_model_dir': './test_output', '_tf_random_seed': None, '_save_summary_steps': 100, '_save_checkpoints_steps': 500, '_save_checkpoints_secs': None, '_session_config': allow_soft_placement: true\n",
            "graph_options {\n",
            "  rewrite_options {\n",
            "    meta_optimizer_iterations: ONE\n",
            "  }\n",
            "}\n",
            ", '_keep_checkpoint_max': 5, '_keep_checkpoint_every_n_hours': 10000, '_log_step_count_steps': 100, '_train_distribute': None, '_device_fn': None, '_protocol': None, '_eval_distribute': None, '_experimental_distribute': None, '_service': None, '_cluster_spec': <tensorflow.python.training.server_lib.ClusterSpec object at 0x7f8365d677b8>, '_task_type': 'worker', '_task_id': 0, '_global_id_in_cluster': 0, '_master': '', '_evaluation_master': '', '_is_chief': True, '_num_ps_replicas': 0, '_num_worker_replicas': 1}\n"
          ],
          "name": "stdout"
        },
        {
          "output_type": "stream",
          "text": [
            "I0520 10:28:11.046307 140205162538880 estimator.py:201] Using config: {'_model_dir': './test_output', '_tf_random_seed': None, '_save_summary_steps': 100, '_save_checkpoints_steps': 500, '_save_checkpoints_secs': None, '_session_config': allow_soft_placement: true\n",
            "graph_options {\n",
            "  rewrite_options {\n",
            "    meta_optimizer_iterations: ONE\n",
            "  }\n",
            "}\n",
            ", '_keep_checkpoint_max': 5, '_keep_checkpoint_every_n_hours': 10000, '_log_step_count_steps': 100, '_train_distribute': None, '_device_fn': None, '_protocol': None, '_eval_distribute': None, '_experimental_distribute': None, '_service': None, '_cluster_spec': <tensorflow.python.training.server_lib.ClusterSpec object at 0x7f8365d677b8>, '_task_type': 'worker', '_task_id': 0, '_global_id_in_cluster': 0, '_master': '', '_evaluation_master': '', '_is_chief': True, '_num_ps_replicas': 0, '_num_worker_replicas': 1}\n"
          ],
          "name": "stderr"
        },
        {
          "output_type": "stream",
          "text": [
            "Beginning Training!\n",
            "INFO:tensorflow:Calling model_fn.\n"
          ],
          "name": "stdout"
        },
        {
          "output_type": "stream",
          "text": [
            "I0520 10:28:21.949968 140205162538880 estimator.py:1111] Calling model_fn.\n"
          ],
          "name": "stderr"
        },
        {
          "output_type": "stream",
          "text": [
            "INFO:tensorflow:Saver not created because there are no variables in the graph to restore\n"
          ],
          "name": "stdout"
        },
        {
          "output_type": "stream",
          "text": [
            "I0520 10:28:25.660111 140205162538880 saver.py:1483] Saver not created because there are no variables in the graph to restore\n"
          ],
          "name": "stderr"
        },
        {
          "output_type": "stream",
          "text": [
            "INFO:tensorflow:Tensor(\"module_apply_tokens/bert/pooler/dense/Tanh:0\", shape=(?, 768), dtype=float32)\n"
          ],
          "name": "stdout"
        },
        {
          "output_type": "stream",
          "text": [
            "I0520 10:28:25.780529 140205162538880 <ipython-input-24-adbd33f98c08>:212] Tensor(\"module_apply_tokens/bert/pooler/dense/Tanh:0\", shape=(?, 768), dtype=float32)\n"
          ],
          "name": "stderr"
        },
        {
          "output_type": "stream",
          "text": [
            "WARNING:tensorflow:From /usr/local/lib/python3.6/dist-packages/tensorflow/python/training/learning_rate_decay_v2.py:321: div (from tensorflow.python.ops.math_ops) is deprecated and will be removed in a future version.\n",
            "Instructions for updating:\n",
            "Deprecated in favor of operator or tf.math.divide.\n"
          ],
          "name": "stdout"
        },
        {
          "output_type": "stream",
          "text": [
            "W0520 10:28:26.290934 140205162538880 deprecation.py:323] From /usr/local/lib/python3.6/dist-packages/tensorflow/python/training/learning_rate_decay_v2.py:321: div (from tensorflow.python.ops.math_ops) is deprecated and will be removed in a future version.\n",
            "Instructions for updating:\n",
            "Deprecated in favor of operator or tf.math.divide.\n"
          ],
          "name": "stderr"
        },
        {
          "output_type": "stream",
          "text": [
            "WARNING:tensorflow:From /usr/local/lib/python3.6/dist-packages/tensorflow/python/ops/math_ops.py:3066: to_int32 (from tensorflow.python.ops.math_ops) is deprecated and will be removed in a future version.\n",
            "Instructions for updating:\n",
            "Use tf.cast instead.\n"
          ],
          "name": "stdout"
        },
        {
          "output_type": "stream",
          "text": [
            "W0520 10:28:26.385121 140205162538880 deprecation.py:323] From /usr/local/lib/python3.6/dist-packages/tensorflow/python/ops/math_ops.py:3066: to_int32 (from tensorflow.python.ops.math_ops) is deprecated and will be removed in a future version.\n",
            "Instructions for updating:\n",
            "Use tf.cast instead.\n",
            "/usr/local/lib/python3.6/dist-packages/tensorflow/python/ops/gradients_impl.py:110: UserWarning: Converting sparse IndexedSlices to a dense Tensor of unknown shape. This may consume a large amount of memory.\n",
            "  \"Converting sparse IndexedSlices to a dense Tensor of unknown shape. \"\n"
          ],
          "name": "stderr"
        },
        {
          "output_type": "stream",
          "text": [
            "WARNING:tensorflow:From /usr/local/lib/python3.6/dist-packages/tensorflow/python/ops/metrics_impl.py:526: to_float (from tensorflow.python.ops.math_ops) is deprecated and will be removed in a future version.\n",
            "Instructions for updating:\n",
            "Use tf.cast instead.\n"
          ],
          "name": "stdout"
        },
        {
          "output_type": "stream",
          "text": [
            "W0520 10:28:35.150937 140205162538880 deprecation.py:323] From /usr/local/lib/python3.6/dist-packages/tensorflow/python/ops/metrics_impl.py:526: to_float (from tensorflow.python.ops.math_ops) is deprecated and will be removed in a future version.\n",
            "Instructions for updating:\n",
            "Use tf.cast instead.\n"
          ],
          "name": "stderr"
        },
        {
          "output_type": "stream",
          "text": [
            "INFO:tensorflow:Done calling model_fn.\n"
          ],
          "name": "stdout"
        },
        {
          "output_type": "stream",
          "text": [
            "I0520 10:28:36.595242 140205162538880 estimator.py:1113] Done calling model_fn.\n"
          ],
          "name": "stderr"
        },
        {
          "output_type": "stream",
          "text": [
            "INFO:tensorflow:Create CheckpointSaverHook.\n"
          ],
          "name": "stdout"
        },
        {
          "output_type": "stream",
          "text": [
            "I0520 10:28:36.598700 140205162538880 basic_session_run_hooks.py:527] Create CheckpointSaverHook.\n"
          ],
          "name": "stderr"
        }
      ]
    },
    {
      "cell_type": "code",
      "metadata": {
        "id": "-dFExnumOEgY",
        "colab_type": "code",
        "colab": {}
      },
      "source": [
        "eval_steps = int(len(df_test) / batch_size)\n",
        "eval_input_fn = input_fn_builder(\n",
        "    features=test_features,\n",
        "    seq_length=max_seq_length,\n",
        "    num_labels = num_labels,\n",
        "    is_training=False,\n",
        "    drop_remainder=True)\n",
        "result = estimator.evaluate(input_fn=eval_input_fn, steps=eval_steps)"
      ],
      "execution_count": 0,
      "outputs": []
    },
    {
      "cell_type": "code",
      "metadata": {
        "id": "M5B_xCGcxazj",
        "colab_type": "code",
        "colab": {}
      },
      "source": [
        "print(\"***** Eval results *****\")\n",
        "for key in sorted(result.keys()):\n",
        "  print('  {} = {}'.format(key, str(result[key])))\n",
        "      "
      ],
      "execution_count": 0,
      "outputs": []
    },
    {
      "cell_type": "code",
      "metadata": {
        "id": "3OrESQAVOcT9",
        "colab_type": "code",
        "colab": {}
      },
      "source": [
        "predict_features = test_features[:10]"
      ],
      "execution_count": 0,
      "outputs": []
    },
    {
      "cell_type": "code",
      "metadata": {
        "colab_type": "code",
        "id": "3LbhkBuhn83S",
        "colab": {}
      },
      "source": [
        "test_input_fn = input_fn_builder(\n",
        "    features=predict_features, seq_length=max_seq_length, \n",
        "    num_labels = num_labels, is_training=False, drop_remainder=False)"
      ],
      "execution_count": 0,
      "outputs": []
    },
    {
      "cell_type": "code",
      "metadata": {
        "id": "DW94Qp_XXB4J",
        "colab_type": "code",
        "colab": {}
      },
      "source": [
        "test_scores = np.array([predict_features[i].score for i, val in enumerate(predict_features)])\n",
        "\n",
        "preds = estimator.predict(input_fn=test_input_fn)\n",
        "preds_vals = list(preds)\n",
        "pred_means = np.array([val['prediction_mean'] for key, val in enumerate(preds_vals)])"
      ],
      "execution_count": 0,
      "outputs": []
    },
    {
      "cell_type": "markdown",
      "metadata": {
        "id": "h5PsPzmyH6sA",
        "colab_type": "text"
      },
      "source": [
        ""
      ]
    },
    {
      "cell_type": "code",
      "metadata": {
        "id": "RJvlFgZ9j_r6",
        "colab_type": "code",
        "colab": {}
      },
      "source": [
        "def total_accuaracy(pred_means, test_scores):\n",
        "  preds = np.round(pred_means)\n",
        "  correct_guesses = np.reshape(preds == test_scores,-1)\n",
        "  return np.sum(correct_guesses) / len(correct_guesses)"
      ],
      "execution_count": 0,
      "outputs": []
    },
    {
      "cell_type": "code",
      "metadata": {
        "id": "cPZACnkUGrr5",
        "colab_type": "code",
        "colab": {}
      },
      "source": [
        "def class_accuaracy(pred_means, test_scores):\n",
        "  preds = np.round(pred_means)\n",
        "  correct_guesses = preds == test_scores\n",
        "  return correct_guesses.sum(axis=0)/ len(correct_guesses)\n"
      ],
      "execution_count": 0,
      "outputs": []
    },
    {
      "cell_type": "code",
      "metadata": {
        "id": "-xVcqWkdHT-s",
        "colab_type": "code",
        "colab": {}
      },
      "source": [
        "print(total_accuaracy(pred_means, test_scores))\n",
        "print(class_accuaracy(pred_means, test_scores))"
      ],
      "execution_count": 0,
      "outputs": []
    }
  ]
}