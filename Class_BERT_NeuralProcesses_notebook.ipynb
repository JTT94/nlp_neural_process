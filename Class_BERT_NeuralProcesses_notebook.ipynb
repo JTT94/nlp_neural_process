{
  "nbformat": 4,
  "nbformat_minor": 0,
  "metadata": {
    "colab": {
      "name": "Class_BERT_NeuralProcesses_notebook.ipynb",
      "version": "0.3.2",
      "provenance": [],
      "collapsed_sections": [],
      "include_colab_link": true
    },
    "language_info": {
      "codemirror_mode": {
        "name": "ipython",
        "version": 3
      },
      "file_extension": ".py",
      "mimetype": "text/x-python",
      "name": "python",
      "nbconvert_exporter": "python",
      "pygments_lexer": "ipython3",
      "version": "3.6.8"
    },
    "kernelspec": {
      "display_name": "Python 3",
      "language": "python",
      "name": "python3"
    },
    "accelerator": "GPU"
  },
  "cells": [
    {
      "cell_type": "markdown",
      "metadata": {
        "id": "view-in-github",
        "colab_type": "text"
      },
      "source": [
        "<a href=\"https://colab.research.google.com/github/JTT94/nlp_neural_process/blob/master/Class_BERT_NeuralProcesses_notebook.ipynb\" target=\"_parent\"><img src=\"https://colab.research.google.com/assets/colab-badge.svg\" alt=\"Open In Colab\"/></a>"
      ]
    },
    {
      "cell_type": "code",
      "metadata": {
        "colab_type": "code",
        "id": "SZKAwmizhzHo",
        "outputId": "ba8450ce-1847-4b67-a8f1-1115ccb80e85",
        "colab": {
          "base_uri": "https://localhost:8080/",
          "height": 94
        }
      },
      "source": [
        "import tensorflow as tf\n",
        "import pandas as pd\n",
        "import tensorflow_hub as hub\n",
        "import os\n",
        "import re\n",
        "\n",
        "from keras import backend as K\n",
        "import numpy as np\n",
        "import string\n",
        "from datetime import datetime \n",
        "import tensorflow_probability as tfp\n",
        "from tensorflow_probability import distributions as tfd"
      ],
      "execution_count": 2,
      "outputs": [
        {
          "output_type": "stream",
          "text": [
            "Using TensorFlow backend.\n"
          ],
          "name": "stderr"
        }
      ]
    },
    {
      "cell_type": "code",
      "metadata": {
        "id": "p7PWS-GcrZbU",
        "colab_type": "code",
        "colab": {}
      },
      "source": [
        "tf.logging.set_verbosity(tf.logging.INFO)"
      ],
      "execution_count": 0,
      "outputs": []
    },
    {
      "cell_type": "code",
      "metadata": {
        "colab_type": "code",
        "id": "pgB8X8dti3qc",
        "outputId": "36515bf4-235c-46bf-c38f-6a1b1c2097ba",
        "colab": {
          "base_uri": "https://localhost:8080/",
          "height": 186
        }
      },
      "source": [
        "!pip install bert-tensorflow\n",
        "import bert\n",
        "from bert import run_classifier\n",
        "from bert import optimization\n",
        "from bert import tokenization\n"
      ],
      "execution_count": 3,
      "outputs": [
        {
          "output_type": "stream",
          "text": [
            "Requirement already satisfied: bert-tensorflow in /usr/local/lib/python3.6/dist-packages (1.0.1)\n",
            "Requirement already satisfied: six in /usr/local/lib/python3.6/dist-packages (from bert-tensorflow) (1.12.0)\n"
          ],
          "name": "stdout"
        }
      ]
    },
    {
      "cell_type": "code",
      "metadata": {
        "colab_type": "code",
        "id": "jDvh4JVNQFck",
        "outputId": "a4c5c9d0-d28e-4fc2-ec77-7d1b19b8bac6",
        "colab": {
          "base_uri": "https://localhost:8080/",
          "height": 207
        }
      },
      "source": [
        "from google.colab import drive\n",
        "drive.mount('/content/gdrive')"
      ],
      "execution_count": 4,
      "outputs": [
        {
          "output_type": "stream",
          "text": [
            "Go to this URL in a browser: https://accounts.google.com/o/oauth2/auth?client_id=947318989803-6bn6qk8qdgf4n4g3pfee6491hc0brc4i.apps.googleusercontent.com&redirect_uri=urn%3Aietf%3Awg%3Aoauth%3A2.0%3Aoob&scope=email%20https%3A%2F%2Fwww.googleapis.com%2Fauth%2Fdocs.test%20https%3A%2F%2Fwww.googleapis.com%2Fauth%2Fdrive%20https%3A%2F%2Fwww.googleapis.com%2Fauth%2Fdrive.photos.readonly%20https%3A%2F%2Fwww.googleapis.com%2Fauth%2Fpeopleapi.readonly&response_type=code\n",
            "\n",
            "Enter your authorization code:\n",
            "··········\n",
            "Mounted at /content/gdrive\n"
          ],
          "name": "stdout"
        }
      ]
    },
    {
      "cell_type": "code",
      "metadata": {
        "colab_type": "code",
        "id": "6BzlNM53sIBp",
        "colab": {}
      },
      "source": [
        "output_directory = \"./gdrive/My Drive/Kaggle_toxic_comments/test_output\"\n",
        "# output_directory = \"./test_output\""
      ],
      "execution_count": 0,
      "outputs": []
    },
    {
      "cell_type": "code",
      "metadata": {
        "colab_type": "code",
        "id": "ZCJDPOgQOsqJ",
        "colab": {}
      },
      "source": [
        "# initialiase tensorboard \n",
        "# from https://stackoverflow.com/questions/47818822/can-i-use-tensorboard-with-google-colab\n",
        "\n",
        "\n",
        "# Get TensorBoard running in the background. \n",
        "get_ipython().system_raw(\n",
        "    'tensorboard --logdir {} --host 0.0.0.0 --port 6006 &'\n",
        "    .format(output_directory)\n",
        ")"
      ],
      "execution_count": 0,
      "outputs": []
    },
    {
      "cell_type": "code",
      "metadata": {
        "colab_type": "code",
        "id": "5sZ3Bl48oaxU",
        "outputId": "e6f9039a-176e-4384-e1c1-428796c3a408",
        "colab": {
          "base_uri": "https://localhost:8080/",
          "height": 401
        }
      },
      "source": [
        "# # #Download and unzip ngrok. \n",
        "!test -e ngrok-stable-linux-amd64.zip || wget https://bin.equinox.io/c/4VmDzA7iaHb/ngrok-stable-linux-amd64.zip\n",
        "!test -e ngrok || unzip ngrok-stable-linux-amd64.zip\n"
      ],
      "execution_count": 8,
      "outputs": [
        {
          "output_type": "stream",
          "text": [
            "--2019-06-29 23:53:43--  https://bin.equinox.io/c/4VmDzA7iaHb/ngrok-stable-linux-amd64.zip\n",
            "Resolving bin.equinox.io (bin.equinox.io)... 52.2.175.150, 52.204.136.9, 52.86.186.182, ...\n",
            "Connecting to bin.equinox.io (bin.equinox.io)|52.2.175.150|:443... connected.\n",
            "HTTP request sent, awaiting response... 200 OK\n",
            "Length: 17556757 (17M) [application/octet-stream]\n",
            "Saving to: ‘ngrok-stable-linux-amd64.zip’\n",
            "\n",
            "ngrok-stable-linux- 100%[===================>]  16.74M  15.3MB/s    in 1.1s    \n",
            "\n",
            "2019-06-29 23:53:45 (15.3 MB/s) - ‘ngrok-stable-linux-amd64.zip’ saved [17556757/17556757]\n",
            "\n",
            "Archive:  ngrok-stable-linux-amd64.zip\n",
            "  inflating: ngrok                   \n"
          ],
          "name": "stdout"
        }
      ]
    },
    {
      "cell_type": "code",
      "metadata": {
        "colab_type": "code",
        "id": "mLp9PmAzoWhE",
        "colab": {}
      },
      "source": [
        "# #Launch ngrok background process...\n",
        "get_ipython().system_raw('./ngrok http 6006 &')"
      ],
      "execution_count": 0,
      "outputs": []
    },
    {
      "cell_type": "code",
      "metadata": {
        "colab_type": "code",
        "id": "eL1A1ibjOwnL",
        "outputId": "6bd65e1d-5c79-404a-d58b-25ab85def6bb",
        "colab": {
          "base_uri": "https://localhost:8080/",
          "height": 186
        }
      },
      "source": [
        "! curl -s http://localhost:4040/api/tunnels | python3 -c \\\n",
        "    \"import sys, json; print(json.load(sys.stdin)['tunnels'][0]['public_url'])\""
      ],
      "execution_count": 10,
      "outputs": [
        {
          "output_type": "stream",
          "text": [
            "https://de4c313f.ngrok.io\n"
          ],
          "name": "stdout"
        }
      ]
    },
    {
      "cell_type": "code",
      "metadata": {
        "colab_type": "code",
        "id": "bweIS72l5WS5",
        "outputId": "ec9eb6a7-4da3-4534-b54f-5d2aef075863",
        "colab": {
          "base_uri": "https://localhost:8080/",
          "height": 246
        }
      },
      "source": [
        "import os, sys\n",
        "sys.path.append('../') # add personal code dir to path for import\n",
        "\n",
        "\n",
        "!test -d neural_process || git clone https://github.com/JTT94/nlp_neural_process.git neural_process\n",
        "sys.path.append('./neural_process/')\n",
        "\n",
        "import random\n",
        "from neural_process import split_context_target, NeuralProcessParams\n",
        "from neural_process.network import *\n",
        "from neural_process.loss import *\n",
        "from neural_process.predict import *\n",
        "from neural_process.process import *\n",
        "\n",
        "from neural_process.tf_model_builder_AUC import *\n",
        "from neural_process.bert_utils import *"
      ],
      "execution_count": 11,
      "outputs": [
        {
          "output_type": "stream",
          "text": [
            "Cloning into 'neural_process'...\n",
            "remote: Enumerating objects: 140, done.\u001b[K\n",
            "remote: Counting objects: 100% (140/140), done.\u001b[K\n",
            "remote: Compressing objects: 100% (59/59), done.\u001b[K\n",
            "remote: Total 140 (delta 85), reused 134 (delta 79), pack-reused 0\u001b[K\n",
            "Receiving objects: 100% (140/140), 760.76 KiB | 1.82 MiB/s, done.\n",
            "Resolving deltas: 100% (85/85), done.\n"
          ],
          "name": "stdout"
        }
      ]
    },
    {
      "cell_type": "code",
      "metadata": {
        "colab_type": "code",
        "id": "69MNF4fEi5Ly",
        "outputId": "13ae8265-f8b0-493f-ade8-52ab68b70d4b",
        "colab": {
          "base_uri": "https://localhost:8080/",
          "height": 120
        }
      },
      "source": [
        "# Initialize session\n",
        "sess = tf.Session()\n",
        "K.set_session(sess)\n",
        "K.tensorflow_backend._get_available_gpus()\n"
      ],
      "execution_count": 12,
      "outputs": [
        {
          "output_type": "stream",
          "text": [
            "W0629 23:53:58.215373 140679577282432 deprecation_wrapper.py:119] From /usr/local/lib/python3.6/dist-packages/keras/backend/tensorflow_backend.py:174: The name tf.get_default_session is deprecated. Please use tf.compat.v1.get_default_session instead.\n",
            "\n",
            "W0629 23:53:58.217082 140679577282432 deprecation_wrapper.py:119] From /usr/local/lib/python3.6/dist-packages/keras/backend/tensorflow_backend.py:190: The name tf.global_variables is deprecated. Please use tf.compat.v1.global_variables instead.\n",
            "\n"
          ],
          "name": "stderr"
        },
        {
          "output_type": "execute_result",
          "data": {
            "text/plain": [
              "['/job:localhost/replica:0/task:0/device:GPU:0']"
            ]
          },
          "metadata": {
            "tags": []
          },
          "execution_count": 12
        }
      ]
    },
    {
      "cell_type": "code",
      "metadata": {
        "colab_type": "code",
        "id": "Cc1rwgOZi9F1",
        "colab": {}
      },
      "source": [
        "# # filename = './cleaned_data.csv'\n",
        "# filename = './gdrive/My Drive/Oxford/RAIL/Jigsaw/Technical Team/toxic_comments/Data/data1.csv'\n",
        "# df = pd.read_csv(filename, index_col=0)\n",
        "# cols = ['comment','antagonize', 'condescending', 'dismissive', 'generalisation', 'hostile', 'sarcastic']\n",
        "# # cols = ['comment','cleaned_comment','antagonize', 'condescending', 'dismissive', 'generalisation', 'hostile', 'sarcastic', 'healthy']\n",
        "# df = df[cols]\n",
        "\n",
        "# score_column = ['antagonize', 'condescending', 'dismissive', 'generalisation', 'hostile', 'sarcastic']\n",
        "# # text_col_name = 'cleaned_comment'\n",
        "# text_col_name = 'comment'\n",
        "\n",
        "# df_train = df.sample(frac = 0.8)\n",
        "# df_test = df[~df.isin(df_train)].dropna()\n",
        "\n",
        "# df_train[score_column] = df_train[score_column].round()\n",
        "# df_test[score_column] = df_test[score_column].round()\n",
        "# #--------\n",
        "\n",
        "# # ### For kaggle dataset\n",
        "\n",
        "## Training data\n",
        "\n",
        "# filename = './gdrive/My Drive/Data/train.csv'\n",
        "train_filename = './gdrive/My Drive/Kaggle_toxic_comments/finalSplit/train_kaggle.csv'\n",
        "\n",
        "df = pd.read_csv(train_filename)\n",
        "cols = ['comment_text','toxic', 'severe_toxic', 'obscene', 'threat', 'insult', 'identity_hate']\n",
        "df = df[cols]\n",
        "\n",
        "score_column = ['toxic', 'severe_toxic', 'obscene', 'threat', 'insult', 'identity_hate']\n",
        "\n",
        "text_col_name = 'comment_text'\n",
        "\n",
        "#Cast to float - because scores and labels need to be concattenated in the model function, and so need to be same type\n",
        "for i in score_column:\n",
        "  df[i] = pd.to_numeric(df[i],downcast='float')\n",
        "\n",
        "df_train = df[df.comment_text.str.len() <= 250]\n",
        "\n",
        "## Validation data\n",
        "\n",
        "# filename = './gdrive/My Drive/Data/train.csv'\n",
        "val_filename = './gdrive/My Drive/Kaggle_toxic_comments/finalSplit/val_kaggle.csv'\n",
        "\n",
        "df = pd.read_csv(val_filename)\n",
        "cols = ['comment_text','toxic', 'severe_toxic', 'obscene', 'threat', 'insult', 'identity_hate']\n",
        "df = df[cols]\n",
        "\n",
        "score_column = ['toxic', 'severe_toxic', 'obscene', 'threat', 'insult', 'identity_hate']\n",
        "\n",
        "text_col_name = 'comment_text'\n",
        "\n",
        "#Cast to float - because scores and labels need to be concattenated in the model function, and so need to be same type\n",
        "for i in score_column:\n",
        "  df[i] = pd.to_numeric(df[i],downcast='float')\n",
        "\n",
        "df_val = df[df.comment_text.str.len() <= 250]\n",
        "\n",
        "## Test data\n",
        "\n",
        "# filename = './gdrive/My Drive/Data/train.csv'\n",
        "test_filename = './gdrive/My Drive/Kaggle_toxic_comments/finalSplit/test_kaggle.csv'\n",
        "\n",
        "df = pd.read_csv(test_filename)\n",
        "cols = ['comment_text','toxic', 'severe_toxic', 'obscene', 'threat', 'insult', 'identity_hate']\n",
        "df = df[cols]\n",
        "\n",
        "score_column = ['toxic', 'severe_toxic', 'obscene', 'threat', 'insult', 'identity_hate']\n",
        "\n",
        "text_col_name = 'comment_text'\n",
        "\n",
        "#Cast to float - because scores and labels need to be concattenated in the model function, and so need to be same type\n",
        "for i in score_column:\n",
        "  df[i] = pd.to_numeric(df[i],downcast='float')\n",
        "\n",
        "df_test = df[df.comment_text.str.len() <= 250]\n",
        "  \n",
        "# # ## over represent toxic comments\n",
        "\n",
        "# # df['num_toxic_atts'] = df[cols[1:]].apply(lambda x: np.sum(x), axis = 1)\n",
        "\n",
        "# # df_toxic = df[df.num_toxic_atts  > 0]\n",
        "# # # print(len(df_toxic))\n",
        "\n",
        "# # df_healthy_sample = df[df.num_toxic_atts == 0].sample(frac=1.0)[:len(df_toxic)]\n",
        "# # # print(len(df_healthy_sample))\n",
        "\n",
        "# # df_train = pd.concat([df_toxic, df_healthy_sample]).sample(frac=1.0)\n",
        "\n",
        "\n",
        "# ## Test data:\n",
        "\n",
        "# test_data_filename = './gdrive/My Drive/Kaggle_toxic_comments/kaggle_test.csv'\n",
        "# test_labels_filename = './gdrive/My Drive/Kaggle_toxic_comments/kaggle_test_labels.csv'\n",
        "# test_df = pd.read_csv(test_data_filename)\n",
        "# test_labels = pd.read_csv(test_labels_filename)\n",
        "# test_df = pd.merge(test_df, test_labels, on='id')\n",
        "# #get rid of -1 values\n",
        "# test_df = test_df.replace(-1, np.nan).dropna(subset=cols)\n",
        "\n",
        "# #restrict comment length\n",
        "# test_df = test_df[test_df.comment_text.str.len() <= 250]\n",
        "\n",
        "# test_df = test_df[cols]\n",
        "# #Cast to float - because scores and labels need to be concattenated in the model function, and so need to be same type\n",
        "# for i in score_column:\n",
        "#     test_df[i] = pd.to_numeric(test_df[i],downcast='float')"
      ],
      "execution_count": 0,
      "outputs": []
    },
    {
      "cell_type": "code",
      "metadata": {
        "colab_type": "code",
        "id": "i2roS1iGnUvH",
        "colab": {}
      },
      "source": [
        "# data = pd.concat([df_train,test_df])\n",
        "\n",
        "# data =  data.sample(frac = 1.0)\n",
        "\n",
        "# msk = np.random.rand(len(data)) < 0.8\n",
        "\n",
        "# train = data[msk]\n",
        "\n",
        "# temp = data[~msk]\n",
        "\n",
        "# msk2 = np.random.rand(len(temp)) <= 0.5\n",
        "\n",
        "# val = temp[msk2]\n",
        "\n",
        "# test = temp[~msk2]"
      ],
      "execution_count": 0,
      "outputs": []
    },
    {
      "cell_type": "code",
      "metadata": {
        "colab_type": "code",
        "id": "coSxH1Vgnw_H",
        "colab": {}
      },
      "source": [
        "# train.to_csv(\"train_kaggle.csv\")\n",
        "# test.to_csv(\"test_kaggle.csv\")\n",
        "# val.to_csv(\"val_kaggle.csv\")"
      ],
      "execution_count": 0,
      "outputs": []
    },
    {
      "cell_type": "code",
      "metadata": {
        "colab_type": "code",
        "id": "mUIe15uTi9Ok",
        "outputId": "c270289e-9ca7-4c1c-86ce-9a7089c29b8a",
        "colab": {
          "base_uri": "https://localhost:8080/",
          "height": 133
        }
      },
      "source": [
        "# This is a path to an uncased (all lowercase) version of BERT\n",
        "BERT_model_hub = \"https://tfhub.dev/google/bert_uncased_L-12_H-768_A-12/1\"\n",
        "tokenizer = create_tokenizer_from_hub_module(BERT_model_hub)"
      ],
      "execution_count": 17,
      "outputs": [
        {
          "output_type": "stream",
          "text": [
            "W0629 23:54:38.541633 140679577282432 deprecation_wrapper.py:119] From ./neural_process/neural_process/bert_utils.py:39: The name tf.Session is deprecated. Please use tf.compat.v1.Session instead.\n",
            "\n",
            "W0629 23:54:41.265580 140679577282432 deprecation_wrapper.py:119] From /usr/local/lib/python3.6/dist-packages/bert/tokenization.py:125: The name tf.gfile.GFile is deprecated. Please use tf.io.gfile.GFile instead.\n",
            "\n"
          ],
          "name": "stderr"
        }
      ]
    },
    {
      "cell_type": "code",
      "metadata": {
        "colab_type": "code",
        "id": "IVESPLmgl98I",
        "colab": {}
      },
      "source": [
        "# #Pre process data for bert embedding\n",
        "max_seq_length = 128\n",
        "\n",
        "import pickle\n",
        "\n",
        "# train_input_examples = create_examples(df_train.sample(100), score_column, text_col_name)\n",
        "# # # test_input_examples = create_examples(df_test, score_column, text_col_name)\n",
        "\n",
        "# train_features = convert_examples_to_features(train_input_examples, max_seq_length, tokenizer)\n",
        "# # # test_features = convert_examples_to_features(test_input_examples, max_seq_length, tokenizer)\n",
        "\n",
        "# pickle.dump(train_features, open('./gdrive/My Drive/Kaggle_toxic_comments/train_features.p', 'wb'))\n",
        "# # pickle.dump(test_features, open('./gdrive/My Drive/Kaggle_toxic_comments/test_features.p', 'wb'))\n",
        "\n",
        "# # ## Load features previously saved\n",
        "# train_features = pickle.load(open('./gdrive/My Drive/Kaggle_toxic_comments/train_features.p', 'rb'))\n",
        "# test_features = pickle.load(open('./gdrive/My Drive/Kaggle_toxic_comments/train_features.p', 'rb'))"
      ],
      "execution_count": 0,
      "outputs": []
    },
    {
      "cell_type": "code",
      "metadata": {
        "colab_type": "code",
        "id": "wOdj6CWiPYSX",
        "colab": {}
      },
      "source": [
        "# utility methods\n",
        "from collections import namedtuple\n",
        "NeuralProcessParams = namedtuple('NeuralProcessParams', ['dim_z', 'n_hidden_units_h', 'n_hidden_units_g'])\n",
        "GaussianParams = namedtuple('GaussianParams', ['mu', 'sigma'])\n",
        "\n",
        "\n",
        "def batch_mlp(input, inner_layer_dims, output_dim, variable_scope):\n",
        "  \"\"\"Apply MLP to the final axis of a 3D tensor (reusing already defined MLPs).\n",
        "  \n",
        "  Args:\n",
        "    input: input tensor of shape [B,n,d_in].\n",
        "    output_sizes: An iterable containing the output sizes of the MLP as defined \n",
        "        in `basic.Linear`.\n",
        "    variable_scope: String giving the name of the variable scope. If this is set\n",
        "        to be the same as a previously defined MLP, then the weights are reused.\n",
        "    \n",
        "  Returns:\n",
        "    tensor of shape [B,n,d_out] where d_out=output_sizes[-1]\n",
        "  \"\"\"\n",
        "  # Get the shapes of the input and reshape to parallelise across observations\n",
        "\n",
        "  output = input\n",
        "\n",
        "  \n",
        "  # Pass through MLP\n",
        "  with tf.variable_scope(variable_scope, reuse=tf.AUTO_REUSE):\n",
        "    for i, size in enumerate(inner_layer_dims):\n",
        "      output = tf.nn.relu(\n",
        "          tf.layers.dense(output, size, name=\"layer_{}\".format(i)))\n",
        "\n",
        "    # Last layer without a ReLu\n",
        "    output = tf.layers.dense(output, output_dim, name=\"layer_{}\".format(i + 1))\n",
        "\n",
        "  return output"
      ],
      "execution_count": 0,
      "outputs": []
    },
    {
      "cell_type": "code",
      "metadata": {
        "colab_type": "code",
        "id": "g_gK0D7AhoLK",
        "colab": {}
      },
      "source": [
        "# class Embedder(object):\n",
        "  \n",
        "#   def __init__(self, BERT_model_hub = \"https://tfhub.dev/google/bert_uncased_L-12_H-768_A-12/1\", trainable=True):\n",
        "#     self.BERT_model_hub = \"https://tfhub.dev/google/bert_uncased_L-12_H-768_A-12/1\"\n",
        "#     self.tokenizer = create_tokenizer_from_hub_module(BERT_model_hub)\n",
        "#     self.trainable = trainable\n",
        "    \n",
        "#   def __call__(self, input_ids, input_mask, segment_ids):\n",
        "#     embedder = hub.Module(self.BERT_model_hub,trainable=self.trainable)\n",
        "#     bert_inputs = dict(input_ids=input_ids,\n",
        "#                        input_mask=input_mask, \n",
        "#                        segment_ids=segment_ids)\n",
        "\n",
        "#     bert_outputs = embedder(inputs=bert_inputs,\n",
        "#                                signature=\"tokens\", \n",
        "#                                as_dict=True)\n",
        "    \n",
        "#   # Use \"pooled_output\" for classification tasks on an entire sentence. Use \"sequence_outputs\" for token-level output\n",
        "#     return bert_outputs[\"pooled_output\"]\n",
        "  "
      ],
      "execution_count": 0,
      "outputs": []
    },
    {
      "cell_type": "code",
      "metadata": {
        "colab_type": "code",
        "id": "2HMqLmD8PTEP",
        "colab": {}
      },
      "source": [
        "class Decoder(object):\n",
        "  \"\"\"The Decoder.\"\"\"\n",
        "\n",
        "  def __init__(self, layer_dims, num_classes):\n",
        "    self.layer_dims = layer_dims\n",
        "    self.num_classes = num_classes\n",
        "    \n",
        "  def __call__(self, input_xs_embedding, z_samples):\n",
        "  \n",
        "        # inputs dimensions\n",
        "    # z_sample has dim [n_draws, dim_z]\n",
        "    # x_star has dim [N_star, dim_x]\n",
        "    n_draws = z_samples.get_shape().as_list()[0]\n",
        "    n_xs = tf.shape(input_xs_embedding)[0]\n",
        "\n",
        "    # Repeat z samples for each x*\n",
        "    #z_samples_repeat = tf.expand_dims(z_samples, axis=1)\n",
        "\n",
        "    #z_samples_repeat = tf.expand_dims(z_samples, axis=1)\n",
        "    z_samples_repeat = tf.tile(z_samples, [1, n_xs, 1])\n",
        "\n",
        "    # Repeat x* for each z sample\n",
        "    x_star_repeat = tf.expand_dims(input_xs_embedding, axis=0)\n",
        "    x_star_repeat = tf.tile(x_star_repeat, [n_draws, 1, 1])\n",
        "\n",
        "    # Concatenate x* and z\n",
        "    inputs = tf.concat([x_star_repeat, z_samples_repeat], axis=2)\n",
        "\n",
        "    # decoder mlp\n",
        "    inner_layer_dims = self.layer_dims\n",
        "    output_dim = self.num_classes *2\n",
        "    hidden = batch_mlp(inputs, inner_layer_dims, output_dim, \"decoder\")\n",
        "\n",
        "    # Get the mean an the variance\n",
        "    mu, log_sigma = tf.split(hidden, 2, axis= -1)\n",
        "\n",
        "    # Bound the variance\n",
        "    sigma_star = 0.1 + 0.9 * tf.nn.softplus(log_sigma)\n",
        "    mu_star = tf.math.sigmoid(mu)\n",
        "\n",
        "\n",
        "    return GaussianParams(mu_star, sigma_star)\n",
        "\n",
        "\n"
      ],
      "execution_count": 0,
      "outputs": []
    },
    {
      "cell_type": "code",
      "metadata": {
        "colab_type": "code",
        "id": "L6DmGdqzaGjS",
        "colab": {}
      },
      "source": [
        "class Encoder(object):\n",
        "\n",
        "  def __init__(self, layer_dims, latent_dim):\n",
        "    self.layer_dims = layer_dims\n",
        "    self.latent_dim = latent_dim\n",
        "    \n",
        "  def __call__(self, xs, ys):\n",
        "    print(xs)\n",
        "    print(ys)\n",
        "    xys = tf.concat([xs, ys], axis=1)\n",
        "\n",
        "\n",
        "    # encoder mlp\n",
        "    inner_layer_dims = self.layer_dims[:-1]\n",
        "    output_dim = self.layer_dims[-1]\n",
        "    rs = batch_mlp(xys, inner_layer_dims, output_dim, \"encoder\")\n",
        "    \n",
        "    # aggregate rs\n",
        "    r = self._aggregate_r(rs)\n",
        "    \n",
        "    # get mu and sigma\n",
        "    z_params = self._get_z_params(r)\n",
        "    \n",
        "    # distribution\n",
        "    dist = tfd.MultivariateNormalDiag(loc=z_params.mu,\n",
        "                                          scale_diag=z_params.sigma)\n",
        "    return dist\n",
        "    \n",
        "  def _aggregate_r(self, context_rs: tf.Tensor) -> tf.Tensor:\n",
        "    \"\"\"Aggregate the output of the encoder to a single representation\n",
        "\n",
        "    Creates an aggregation (mean) operator to combine the encodings of multiple context inputs\n",
        "\n",
        "    Parameters\n",
        "    ----------\n",
        "    context_rs\n",
        "        Input encodings tensor, shape: (n_samples, dim_r)\n",
        "\n",
        "    Returns\n",
        "    -------\n",
        "        Output tensor of aggregation result\n",
        "    \"\"\"\n",
        "    mean = tf.reduce_mean(context_rs, axis=0)\n",
        "    r = tf.reshape(mean, [1, -1])\n",
        "    return r\n",
        "  \n",
        "  def _get_z_params(self, context_r: tf.Tensor) -> GaussianParams:\n",
        "    \"\"\"Map encoding to mean and covariance of the random variable Z\n",
        "\n",
        "    Creates a linear dense layer to map encoding to mu_z, and another linear mapping + a softplus activation for Sigma_z\n",
        "\n",
        "    Parameters\n",
        "    ----------\n",
        "    context_r\n",
        "        Input encoding tensor, shape: (1, dim_r)\n",
        "    params\n",
        "        Neural process parameters\n",
        "\n",
        "    Returns\n",
        "    -------\n",
        "        Output tensors of the mappings for mu_z and Sigma_z\n",
        "    \"\"\"\n",
        "    hidden = context_r\n",
        "    with tf.variable_scope(\"latent_encoder\", reuse=tf.AUTO_REUSE):\n",
        "      # First apply intermediate relu layer \n",
        "      hidden = tf.nn.relu(\n",
        "          tf.layers.dense(hidden, \n",
        "                          (self.layer_dims[-1] + self.latent_dim)/2, \n",
        "                          name=\"penultimate_layer\"))\n",
        "      \n",
        "      # Then apply further linear layers to output latent mu and log sigma\n",
        "      mu = tf.layers.dense(hidden, self.latent_dim, name=\"mean_layer\")\n",
        "      log_sigma = tf.layers.dense(hidden, self.latent_dim, name=\"std_layer\")\n",
        "      \n",
        "\n",
        "    # Compute sigma\n",
        "    sigma = 0.1 + 0.9 * tf.sigmoid(log_sigma)\n",
        "\n",
        "    return GaussianParams(mu, sigma)"
      ],
      "execution_count": 0,
      "outputs": []
    },
    {
      "cell_type": "code",
      "metadata": {
        "colab_type": "code",
        "id": "LWZZAs1haFkc",
        "colab": {}
      },
      "source": [
        "class NLP_NeuralProcess(object):\n",
        "  \n",
        "  def __init__(self,\n",
        "                  score_col, \n",
        "                  params = NeuralProcessParams(dim_z=20, \n",
        "                                                     n_hidden_units_h=[128, 128, 128], \n",
        "                                                     n_hidden_units_g=[128, 128, 128]),\n",
        "                  num_classes = 6, \n",
        "                  num_draws = 2, \n",
        "                  lr = 2e-5,\n",
        "                  batch_size = 32, \n",
        "                  num_warmup_steps=100,\n",
        "                  num_train_steps = 10**3,\n",
        "                  save_summary_steps = 100,\n",
        "                  save_checkpoints_steps = 500,\n",
        "                  output_dir = \"./test_output\",\n",
        "                  context_features = None\n",
        "                 ):\n",
        "    \n",
        "    self.params = params\n",
        "    self.encoder = Encoder(layer_dims = self.params.n_hidden_units_h, \n",
        "                           latent_dim=self.params.dim_z)\n",
        "    self.decoder = Decoder(layer_dims= self.params.n_hidden_units_g, \n",
        "                           num_classes=num_classes)\n",
        "    self.num_draws = num_draws\n",
        "    self.num_classes = num_classes\n",
        "#     self.estimator = None\n",
        "    #self.embedder = Embedder()\n",
        "    #####  \n",
        "    num_labels = len(score_col)\n",
        "    \n",
        "    \n",
        "    # Specify outpit directory and number of checkpoint steps to save\n",
        "    \n",
        "    run_config = tf.estimator.RunConfig(model_dir=output_dir,\n",
        "          save_summary_steps=save_summary_steps, save_checkpoints_steps=save_checkpoints_steps)\n",
        "    \n",
        "    model_fn = self.model_fn_builder(num_labels = num_labels, learning_rate=lr,\n",
        "      num_train_steps=num_train_steps, num_warmup_steps=num_warmup_steps)\n",
        "    \n",
        "    if context_features is not None:\n",
        "      estimator_params = {\"batch_size\": batch_size, \"context_features\": context_features}\n",
        "      self.estimator = tf.estimator.Estimator(model_fn=model_fn,config=run_config,\n",
        "                                              params=estimator_params)\n",
        "    \n",
        "    else: \n",
        "      self.estimator = tf.estimator.Estimator(model_fn=model_fn,config=run_config,\n",
        "            params={\"batch_size\": batch_size})\n",
        "    \n",
        "    \n",
        "  def create_model(self, \n",
        "                   target_input_ids, \n",
        "                   target_input_mask, \n",
        "                   target_segment_ids, \n",
        "                   target_scores=None,\n",
        "                   context_input_ids = None, \n",
        "                   context_input_mask = None, \n",
        "                   context_segment_ids= None, \n",
        "                   context_scores = None\n",
        "                   ):\n",
        "    \n",
        "    # apply embedder\n",
        "    embedder = hub.Module(BERT_model_hub,trainable=True)\n",
        "    \n",
        "    valid_context = (context_input_ids is not None) & (context_input_mask is not None) & (context_segment_ids is not None) & (context_scores is not None)\n",
        "    \n",
        "    # target processing - all scenarios\n",
        "    target_inputs = dict(input_ids=target_input_ids,\n",
        "                     input_mask=target_input_mask, \n",
        "                     segment_ids=target_segment_ids)\n",
        "    target_embeddings = embedder(inputs=target_inputs,\n",
        "                               signature=\"tokens\", \n",
        "                               as_dict=True)\n",
        "    target_xs = target_embeddings[\"pooled_output\"]\n",
        "    \n",
        "    \n",
        "    if valid_context:\n",
        "      \n",
        "      # context processing - training\n",
        "      context_inputs = dict(input_ids=context_input_ids,\n",
        "                         input_mask=context_input_mask, \n",
        "                         segment_ids=context_segment_ids)\n",
        "      context_embeddings = embedder(inputs=context_inputs,\n",
        "                                 signature=\"tokens\", \n",
        "                                 as_dict=True)\n",
        "      context_xs = context_embeddings[\"pooled_output\"]\n",
        "      context_ys = context_scores\n",
        "      # total x,y \n",
        "      x_all = tf.concat([context_xs, target_xs], axis=0)\n",
        "      \n",
        "      # get encoding params with context\n",
        "      context_z_dist = self.encoder(context_xs, context_ys)\n",
        "      # predictions with context\n",
        "      posterior_pred = self.decoder(target_xs, context_z_dist.sample(self.num_draws))\n",
        "        \n",
        "       # target scores - context training / evaluation\n",
        "      if target_scores is not None:\n",
        "        target_ys = target_scores\n",
        "        y_all = tf.concat([context_ys, target_ys], axis=0)\n",
        "        all_z_dist = self.encoder(x_all, y_all)\n",
        "        \n",
        "        # loss\n",
        "        loglike = self.loglikelihood(target_ys, posterior_pred)\n",
        "        KL_loss = self.KLqp_gaussian(all_z_dist.parameters['loc'], \n",
        "                                     all_z_dist.parameters['scale_diag'], \n",
        "                                     context_z_dist.parameters['loc'], \n",
        "                                     context_z_dist.parameters['scale_diag'])\n",
        "        loss = tf.negative(loglike) + KL_loss\n",
        "        # context and training / evaluation\n",
        "        return (loss, posterior_pred, target_ys)\n",
        "      \n",
        "      # context prediction\n",
        "      return  (None, posterior_pred, None)\n",
        "    \n",
        "    # no context\n",
        "    else:\n",
        "      x_all = target_xs \n",
        "      # get internal representation\n",
        "      mean_zero = tf.constant(np.repeat(0., params.dim_z))\n",
        "      epsilon_dist = tfd.MultivariateNormalDiag(loc= mean_zero)                            \n",
        "      epsilon = tf.expand_dims(epsilon_dist.sample(self.num_draws), axis=1)\n",
        "      epsilon = tf.cast(epsilon, tf.float32)\n",
        "      prior_predict = self.decoder(x_all, epsilon)\n",
        "      \n",
        "      # target scores - no context training / evaluation\n",
        "      if target_scores is not None:\n",
        "        target_ys = target_scores\n",
        "        loglike = self.loglikelihood(target_ys, prior_predict)\n",
        "        loss = tf.negative(loglike)\n",
        "        # no context/ training / evaluation\n",
        "        return  (loss, prior_predict, target_ys)\n",
        "   \n",
        "    \n",
        "      # no context prediction\n",
        "      return  (None, prior_predict, None)\n",
        "\n",
        "  \n",
        "  def loglikelihood(self, y_star: tf.Tensor, dist):\n",
        "    \"\"\"Log-likelihood of an output given a predicted \"\"\"\n",
        "    p_normal = tfd.MultivariateNormalDiag(loc = dist.mu, scale_diag=dist.sigma)\n",
        "    loglike = p_normal.log_prob(y_star)\n",
        "    loglike = tf.reduce_sum(loglike, axis=0)\n",
        "    loglike = tf.reduce_mean(loglike)\n",
        "    return loglike\n",
        "  \n",
        "  def KLqp_gaussian(self, mu_q: tf.Tensor, sigma_q: tf.Tensor, mu_p: tf.Tensor, sigma_p: tf.Tensor) -> tf.Tensor:\n",
        "    \"\"\"Kullback-Leibler divergence between two Gaussian distributions\n",
        "\n",
        "    Determines KL(q || p) = < log( q / p ) >_q\n",
        "\n",
        "    Parameters\n",
        "    ----------\n",
        "    mu_q\n",
        "        Mean tensor of distribution q, shape: (1, dim)\n",
        "    sigma_q\n",
        "        Variance tensor of distribution q, shape: (1, dim)\n",
        "    mu_p\n",
        "        Mean tensor of distribution p, shape: (1, dim)\n",
        "    sigma_p\n",
        "        Variance tensor of distribution p, shape: (1, dim)\n",
        "\n",
        "    Returns\n",
        "    -------\n",
        "        KL tensor, shape: (1)\n",
        "    \"\"\"\n",
        "    sigma2_q = tf.square(sigma_q) + 1e-16\n",
        "    sigma2_p = tf.square(sigma_p) + 1e-16\n",
        "    temp = sigma2_q / sigma2_p + tf.square(mu_q - mu_p) / sigma2_p - 1.0 + tf.log(sigma2_p / sigma2_q + 1e-16)\n",
        "    return 0.5 * tf.reduce_sum(temp)\n",
        "  \n",
        "  def context_target_split(self, batch_size =32):\n",
        "    btch_sz = batch_size\n",
        "    n_context = tf.random_shuffle(tf.range(1,btch_sz))[0]\n",
        "    \n",
        "    indices = tf.range(0, btch_sz)\n",
        "    context_set_indices = tf.gather(tf.random_shuffle(indices),tf.range(n_context))\n",
        "    target_set_indices = tf.gather(tf.random_shuffle(indices),tf.range(n_context, btch_sz))\n",
        "    \n",
        "    return context_set_indices, target_set_indices\n",
        "    \n",
        "  def model_fn_builder(self, num_labels, learning_rate, num_train_steps, num_warmup_steps):\n",
        "      \"\"\"Returns `model_fn` closure for TPUEstimator.\"\"\"\n",
        "      \n",
        "      \n",
        "      def model_fn(features, mode, params):  # pylint: disable=unused-argument\n",
        "          \"\"\"The `model_fn` for TPUEstimator.\"\"\"\n",
        "          \n",
        "          # run model\n",
        "          # -------------------------------------------------------------------------------------------\n",
        "          target_input_ids = None\n",
        "          target_input_mask = None\n",
        "          target_segment_ids = None \n",
        "          target_scores = None\n",
        "          \n",
        "          context_input_ids = None \n",
        "          context_input_mask = None \n",
        "          context_segment_ids = None\n",
        "          context_scores = None\n",
        "          \n",
        "          # training \n",
        "          if mode == tf.estimator.ModeKeys.TRAIN:\n",
        "            input_ids = features[\"input_ids\"]\n",
        "            input_mask = features[\"input_mask\"]\n",
        "            segment_ids = features[\"segment_ids\"]    \n",
        "            scores = features[\"scores\"]\n",
        "            \n",
        "            # context split\n",
        "            context_set_indices, target_set_indices= self.context_target_split(batch_size =32)\n",
        "            \n",
        "            target_input_ids = tf.gather(input_ids,target_set_indices)\n",
        "            target_input_mask = tf.gather(input_mask,target_set_indices)\n",
        "            target_segment_ids = tf.gather(segment_ids,target_set_indices) \n",
        "            target_scores = tf.gather(scores,target_set_indices)\n",
        "\n",
        "            context_input_ids = tf.gather(input_ids,context_set_indices) \n",
        "            context_input_mask = tf.gather(input_mask,context_set_indices) \n",
        "            context_segment_ids = tf.gather(segment_ids,context_set_indices)\n",
        "            context_scores = tf.gather(scores,context_set_indices)\n",
        "            \n",
        "            \n",
        "          elif mode == tf.estimator.ModeKeys.PREDICT:\n",
        "            print('Prediction')\n",
        "            target_input_ids = features[\"input_ids\"]\n",
        "            target_input_mask = features[\"input_mask\"]\n",
        "            target_segment_ids = features[\"segment_ids\"]    \n",
        "            target_scores = features[\"scores\"]\n",
        "            \n",
        "            try:\n",
        "              context_input_ids = features[\"supplied_context_input_ids\"][0]\n",
        "              context_input_mask = features[\"supplied_context_input_mask\"][0]\n",
        "              context_segment_ids = features[\"supplied_context_segment_ids\"][0] \n",
        "              context_scores = features[\"supplied_context_scores\"][0]\n",
        "               \n",
        "            except:\n",
        "              print(\"****No context supplied ****\")\n",
        "              context_input_ids = None\n",
        "              context_input_mask = None\n",
        "              context_segment_ids = None\n",
        "              context_scores = None\n",
        "            \n",
        "          else:\n",
        "            print('Evaluation')\n",
        "            target_input_ids = features[\"input_ids\"]\n",
        "            target_input_mask = features[\"input_mask\"]\n",
        "            target_segment_ids = features[\"segment_ids\"]    \n",
        "            target_scores = features[\"scores\"]\n",
        "\n",
        "            try:\n",
        "              context_input_ids = features[\"supplied_context_input_ids\"][0]\n",
        "              context_input_mask = features[\"supplied_context_input_mask\"][0]\n",
        "              context_segment_ids = features[\"supplied_context_segment_ids\"][0] \n",
        "              context_scores = features[\"supplied_context_scores\"][0]\n",
        "               \n",
        "            except:\n",
        "              print(\"****No context supplied ****\")\n",
        "              context_input_ids = None\n",
        "              context_input_mask = None\n",
        "              context_segment_ids = None\n",
        "              context_scores = None\n",
        "\n",
        "\n",
        "          (loss, prediction, true_y) = self.create_model(target_input_ids, \n",
        "                                                         target_input_mask, \n",
        "                                                         target_segment_ids, \n",
        "                                                         target_scores,\n",
        "                                                         context_input_ids, \n",
        "                                                         context_input_mask, \n",
        "                                                         context_segment_ids, \n",
        "                                                         context_scores)\n",
        "\n",
        "          train_op = bert.optimization.create_optimizer(loss, learning_rate, num_train_steps, num_warmup_steps, use_tpu=False)\n",
        "          ystar, _ = tf.nn.moments(prediction.mu,[0])\n",
        "          variance, _ = tf.nn.moments(tf.math.square(prediction.sigma),[0])\n",
        "          \n",
        "          # Calculate evaluation metrics\n",
        "          eval_metrics = {}\n",
        "          # AUC\n",
        "          def metric_fn(pred_scores, real_scores, trait_num):\n",
        "              auc_value = tf.metrics.auc(real_scores[:,trait_num], pred_scores[:,trait_num])\n",
        "              accuracy_value = tf.metrics.accuracy(labels = tf.round(real_scores[:,trait_num]), predictions=tf.round(pred_scores[:,trait_num]))\n",
        "              recall_value = tf.metrics.recall(labels = tf.round(real_scores[:,trait_num]), predictions=tf.round(pred_scores[:,trait_num]))\n",
        "              precision_value = tf.metrics.precision(labels = tf.round(real_scores[:,trait_num]), predictions=tf.round(pred_scores[:,trait_num]))\n",
        "              return {\"auc\"+str(trait_num): auc_value, \"accuracy\"+str(trait_num): accuracy_value, \"recall\"+str(trait_num): recall_value, \"precision\"+str(trait_num):precision_value}\n",
        "\n",
        "          labels = true_y # need to round them if true labels are not 1 or 0\n",
        "          eval_metrics_lst = [metric_fn(ystar, labels, trait_num) for trait_num in range(num_labels)]\n",
        "\n",
        "          for d in eval_metrics_lst:\n",
        "              tf.summary.scalar(list(d.keys())[0], list(d.values())[0][1])  # make available to tensorboard\n",
        "              tf.summary.scalar(list(d.keys())[1], list(d.values())[1][1])  # make available to tensorboard\n",
        "              eval_metrics.update(d)\n",
        "              \n",
        "          \n",
        "          # output from model\n",
        "          # -------------------------------------------------------------------------------------------\n",
        "\n",
        "          # training \n",
        "          if mode == tf.estimator.ModeKeys.TRAIN:\n",
        "              return tf.estimator.EstimatorSpec(mode=mode, loss=loss, train_op=train_op)\n",
        "\n",
        "          # prediction\n",
        "          elif mode == tf.estimator.ModeKeys.PREDICT:\n",
        "              return tf.estimator.EstimatorSpec(mode=mode, predictions={'prediction_mean': ystar, 'prediction_var': variance})\n",
        "\n",
        "          # evaluation\n",
        "          else:\n",
        "            return tf.estimator.EstimatorSpec(mode=mode,loss=loss, eval_metric_ops=eval_metrics)\n",
        "\n",
        "      return model_fn\n",
        "\n",
        "\n",
        "  def prepare_examples(self, df, score_column, text_col_name, supplied_context_df=None):\n",
        "      num_labels = len(score_column)\n",
        "      input_examples = create_examples(df, score_column, text_col_name)\n",
        "      input_features = convert_examples_to_features(input_examples, max_seq_length, tokenizer)\n",
        "      \n",
        "      if supplied_context_df is not None:\n",
        "        supplied_context_examples = create_examples(supplied_context_df, score_column, text_col_name)\n",
        "        supplied_context_features = convert_examples_to_features(supplied_context_examples, max_seq_length, tokenizer)\n",
        "        input_fn = input_fn_builder(\n",
        "          features=input_features, seq_length=max_seq_length, \n",
        "          num_labels = num_labels, is_training=True, drop_remainder=False,\n",
        "          supplied_context_features = supplied_context_features)\n",
        "      \n",
        "      else:\n",
        "        input_fn = input_fn_builder(\n",
        "          features=input_features, seq_length=max_seq_length, \n",
        "          num_labels = num_labels, is_training=True, drop_remainder=False)\n",
        "        \n",
        "      return input_fn\n",
        "  \n",
        "  def predict(self, \n",
        "            df, \n",
        "            score_col, \n",
        "            text_col,\n",
        "            supplied_context_df=None\n",
        "             ):\n",
        "    \n",
        "    pred_input_fn = self.prepare_examples(df, score_col, text_col, supplied_context_df)\n",
        "    preds = self.estimator.predict(input_fn=pred_input_fn)\n",
        "    \n",
        "    return preds\n",
        "  \n",
        "  def evaluate(self, \n",
        "               eval_steps,\n",
        "               df, \n",
        "               score_col, \n",
        "               text_col,\n",
        "               supplied_context_df=None):\n",
        "    \n",
        "    eval_input_fn = self.prepare_examples(df, score_col, text_col, supplied_context_df)\n",
        "    \n",
        "    result = self.estimator.evaluate(input_fn=eval_input_fn, steps=eval_steps)\n",
        "    return result\n",
        "  \n",
        "  def train(self,num_train_steps,\n",
        "            df_train, \n",
        "            score_col, \n",
        "            text_col,\n",
        "           ):\n",
        "\n",
        "    # Create an input function for training. drop_remainder = True for using TPUs.\n",
        "    train_input_fn = self.prepare_examples(df_train, score_col, text_col)\n",
        "\n",
        "    print('Beginning Training!')\n",
        "    current_time = datetime.now()\n",
        "    self.estimator.train(input_fn=train_input_fn, max_steps=num_train_steps)\n",
        "    print(\"Training took time \", datetime.now() - current_time)\n",
        "    \n",
        "  \n",
        "  def train_and_evaluate(self,\n",
        "                         df_train,\n",
        "                         df_eval,\n",
        "                         score_col, \n",
        "                         text_col,\n",
        "                         num_train_steps,\n",
        "                         eval_steps,\n",
        "                         supplied_context_df=None):\n",
        "    \n",
        "    train_input_fn = self.prepare_examples(df_train, score_col, text_col)\n",
        "    eval_input_fn = self.prepare_examples(df_eval, score_col, text_col, supplied_context_df)\n",
        "    \n",
        "    train_spec = tf.estimator.TrainSpec(input_fn=train_input_fn, max_steps=num_train_steps)\n",
        "    eval_spec = tf.estimator.EvalSpec(input_fn=eval_input_fn, steps = eval_steps)\n",
        "    \n",
        "    result = tf.estimator.train_and_evaluate(self.estimator, train_spec, eval_spec)\n",
        "    return result\n",
        "    "
      ],
      "execution_count": 0,
      "outputs": []
    },
    {
      "cell_type": "code",
      "metadata": {
        "colab_type": "code",
        "id": "Z8iSEczc6NS1",
        "colab": {}
      },
      "source": [
        "\n",
        "# tf.reset_default_graph()\n",
        "\n",
        "params = NeuralProcessParams(dim_z=1000, n_hidden_units_h=[512, 256, 128], n_hidden_units_g=[512, 256, 128])\n",
        "num_train_steps = 10*(10**3)\n",
        "\n",
        "neural_process = NLP_NeuralProcess(score_col=score_column, params = params, num_draws = 20, \n",
        "                                   num_train_steps=num_train_steps,\n",
        "                                   num_classes = len(score_column),\n",
        "                                   output_dir = output_directory,\n",
        "                                  context_features = None)"
      ],
      "execution_count": 0,
      "outputs": []
    },
    {
      "cell_type": "code",
      "metadata": {
        "id": "lFg8H0rdqjc6",
        "colab_type": "code",
        "colab": {}
      },
      "source": [
        ""
      ],
      "execution_count": 0,
      "outputs": []
    },
    {
      "cell_type": "code",
      "metadata": {
        "colab_type": "code",
        "id": "-3t1yb4RrW5y",
        "outputId": "b7a68dd9-3f81-4374-d012-baf1b74123c8",
        "colab": {
          "base_uri": "https://localhost:8080/",
          "height": 267
        }
      },
      "source": [
        "# df_test = test_df\n",
        "batch_size = 32\n",
        "eval_steps = int(len(df_val) / batch_size)\n",
        "\n",
        "neural_process.train_and_evaluate(df_train=df_train,\n",
        "                                  df_eval = df_val,\n",
        "                                  num_train_steps=num_train_steps,\n",
        "                                  eval_steps = eval_steps,\n",
        "                                  score_col= score_column, \n",
        "                                  text_col=text_col_name,)"
      ],
      "execution_count": 25,
      "outputs": [
        {
          "output_type": "error",
          "ename": "NameError",
          "evalue": "ignored",
          "traceback": [
            "\u001b[0;31m---------------------------------------------------------------------------\u001b[0m",
            "\u001b[0;31mNameError\u001b[0m                                 Traceback (most recent call last)",
            "\u001b[0;32m<ipython-input-25-d8d88b7ed73b>\u001b[0m in \u001b[0;36m<module>\u001b[0;34m()\u001b[0m\n\u001b[1;32m      1\u001b[0m \u001b[0mbatch_size\u001b[0m \u001b[0;34m=\u001b[0m \u001b[0;36m32\u001b[0m\u001b[0;34m\u001b[0m\u001b[0;34m\u001b[0m\u001b[0m\n\u001b[0;32m----> 2\u001b[0;31m \u001b[0meval_steps\u001b[0m \u001b[0;34m=\u001b[0m \u001b[0mint\u001b[0m\u001b[0;34m(\u001b[0m\u001b[0mlen\u001b[0m\u001b[0;34m(\u001b[0m\u001b[0mdf_val\u001b[0m\u001b[0;34m)\u001b[0m \u001b[0;34m/\u001b[0m \u001b[0mbatch_size\u001b[0m\u001b[0;34m)\u001b[0m\u001b[0;34m\u001b[0m\u001b[0;34m\u001b[0m\u001b[0m\n\u001b[0m\u001b[1;32m      3\u001b[0m \u001b[0;34m\u001b[0m\u001b[0m\n\u001b[1;32m      4\u001b[0m neural_process.train_and_evaluate(df_train=df_train,\n\u001b[1;32m      5\u001b[0m                                   \u001b[0mdf_eval\u001b[0m \u001b[0;34m=\u001b[0m \u001b[0mdf_val\u001b[0m\u001b[0;34m,\u001b[0m\u001b[0;34m\u001b[0m\u001b[0;34m\u001b[0m\u001b[0m\n",
            "\u001b[0;31mNameError\u001b[0m: name 'df_val' is not defined"
          ]
        }
      ]
    },
    {
      "cell_type": "code",
      "metadata": {
        "colab_type": "code",
        "id": "yKmEsQK9OziS",
        "outputId": "5c6dc762-63a2-4abe-f208-67441a6c5367",
        "colab": {
          "base_uri": "https://localhost:8080/",
          "height": 74
        }
      },
      "source": [
        "df_train[df_train.antagonize==1].loc[0,'antagonize'].dtype"
      ],
      "execution_count": 0,
      "outputs": [
        {
          "output_type": "execute_result",
          "data": {
            "text/plain": [
              "dtype('float64')"
            ]
          },
          "metadata": {
            "tags": []
          },
          "execution_count": 26
        }
      ]
    },
    {
      "cell_type": "code",
      "metadata": {
        "colab_type": "code",
        "id": "ylFqMHdtabBy",
        "colab": {}
      },
      "source": [
        "### Train:\n",
        "\n",
        "neural_process.train(df_train=df_train, \n",
        "                     score_col= score_column, \n",
        "                     text_col=text_col_name, \n",
        "                     num_train_steps=num_train_steps) "
      ],
      "execution_count": 0,
      "outputs": []
    },
    {
      "cell_type": "code",
      "metadata": {
        "colab_type": "code",
        "id": "uHP88st76N4l",
        "colab": {}
      },
      "source": [
        "df_test = test_df.sample(220)\n",
        "\n",
        "supp_context = df_train.sample(100)\n",
        "\n",
        "batch_size = 32\n",
        "eval_steps = int(len(df_test) / batch_size)\n",
        "\n",
        "# neural_process.evaluate(eval_steps,\n",
        "#                        df_test, \n",
        "#                        score_col= score_column, \n",
        "#                        text_col=text_col_name, supplied_context_df = supp_context)"
      ],
      "execution_count": 0,
      "outputs": []
    },
    {
      "cell_type": "code",
      "metadata": {
        "colab_type": "code",
        "id": "fu6bWjywkRly",
        "colab": {}
      },
      "source": [
        "! cp -r \"./gdrive/My Drive/Kaggle_toxic_comments/test_output\" \"./gdrive/My Drive/Kaggle_toxic_comments/29May\""
      ],
      "execution_count": 0,
      "outputs": []
    },
    {
      "cell_type": "code",
      "metadata": {
        "colab_type": "code",
        "id": "kYAzaj27haPc",
        "outputId": "f51a0dc8-2be4-4f5e-925e-ed67cb4a8994",
        "colab": {
          "base_uri": "https://localhost:8080/",
          "height": 391
        }
      },
      "source": [
        "!zip -r \"./gdrive/My Drive/Kaggle_toxic_comments/test_output.zip\" \"./gdrive/My Drive/Kaggle_toxic_comments/test_output\""
      ],
      "execution_count": 0,
      "outputs": [
        {
          "output_type": "stream",
          "text": [
            "updating: gdrive/My Drive/Kaggle_toxic_comments/test_output/ (stored 0%)\n",
            "updating: gdrive/My Drive/Kaggle_toxic_comments/test_output/graph.pbtxt (deflated 98%)\n",
            "updating: gdrive/My Drive/Kaggle_toxic_comments/test_output/model.ckpt-0_temp_0ba0533d97bf4341863fa0f748b3242c/ (stored 0%)\n",
            "updating: gdrive/My Drive/Kaggle_toxic_comments/test_output/events.out.tfevents.1559135119.c82db80b81be (deflated 96%)\n",
            "updating: gdrive/My Drive/Kaggle_toxic_comments/test_output/checkpoint (deflated 76%)\n",
            "updating: gdrive/My Drive/Kaggle_toxic_comments/test_output/eval/ (stored 0%)\n",
            "updating: gdrive/My Drive/Kaggle_toxic_comments/test_output/eval/events.out.tfevents.1559136093.c82db80b81be (deflated 96%)\n",
            "  adding: gdrive/My Drive/Kaggle_toxic_comments/test_output/model.ckpt-8000.data-00000-of-00001 (deflated 12%)\n",
            "  adding: gdrive/My Drive/Kaggle_toxic_comments/test_output/model.ckpt-8000.index (deflated 69%)\n",
            "  adding: gdrive/My Drive/Kaggle_toxic_comments/test_output/model.ckpt-8000.meta (deflated 96%)\n",
            "  adding: gdrive/My Drive/Kaggle_toxic_comments/test_output/model.ckpt-8500.data-00000-of-00001 (deflated 12%)\n",
            "  adding: gdrive/My Drive/Kaggle_toxic_comments/test_output/model.ckpt-8500.index (deflated 69%)\n",
            "  adding: gdrive/My Drive/Kaggle_toxic_comments/test_output/model.ckpt-8500.meta (deflated 96%)\n",
            "  adding: gdrive/My Drive/Kaggle_toxic_comments/test_output/model.ckpt-9000.data-00000-of-00001 (deflated 12%)\n",
            "  adding: gdrive/My Drive/Kaggle_toxic_comments/test_output/model.ckpt-9000.index (deflated 69%)\n",
            "  adding: gdrive/My Drive/Kaggle_toxic_comments/test_output/model.ckpt-9000.meta (deflated 96%)\n",
            "  adding: gdrive/My Drive/Kaggle_toxic_comments/test_output/model.ckpt-9500.data-00000-of-00001 (deflated 12%)\n",
            "  adding: gdrive/My Drive/Kaggle_toxic_comments/test_output/model.ckpt-9500.index (deflated 69%)\n",
            "  adding: gdrive/My Drive/Kaggle_toxic_comments/test_output/model.ckpt-9500.meta (deflated 96%)\n",
            "  adding: gdrive/My Drive/Kaggle_toxic_comments/test_output/model.ckpt-10000.data-00000-of-00001 (deflated 12%)\n",
            "  adding: gdrive/My Drive/Kaggle_toxic_comments/test_output/model.ckpt-10000.index (deflated 69%)\n",
            "  adding: gdrive/My Drive/Kaggle_toxic_comments/test_output/model.ckpt-10000.meta (deflated 96%)\n"
          ],
          "name": "stdout"
        }
      ]
    },
    {
      "cell_type": "code",
      "metadata": {
        "colab_type": "code",
        "id": "BWl2bHQAgbJP",
        "outputId": "cfaf7a67-e227-45df-a96b-210409c9fd6d",
        "colab": {
          "base_uri": "https://localhost:8080/",
          "height": 442
        }
      },
      "source": [
        "from google.colab import files\n",
        "\n",
        "files.download(\"./gdrive/My Drive/Kaggle_toxic_comments/test_output.zip\")"
      ],
      "execution_count": 0,
      "outputs": [
        {
          "output_type": "stream",
          "text": [
            "----------------------------------------\n",
            "Exception happened during processing of request from ('::ffff:127.0.0.1', 47492, 0, 0)\n",
            "Traceback (most recent call last):\n",
            "  File \"/usr/lib/python3.6/socketserver.py\", line 317, in _handle_request_noblock\n",
            "    self.process_request(request, client_address)\n",
            "  File \"/usr/lib/python3.6/socketserver.py\", line 348, in process_request\n",
            "    self.finish_request(request, client_address)\n",
            "  File \"/usr/lib/python3.6/socketserver.py\", line 361, in finish_request\n",
            "    self.RequestHandlerClass(request, client_address, self)\n",
            "  File \"/usr/lib/python3.6/socketserver.py\", line 721, in __init__\n",
            "    self.handle()\n",
            "  File \"/usr/lib/python3.6/http/server.py\", line 418, in handle\n",
            "    self.handle_one_request()\n",
            "  File \"/usr/lib/python3.6/http/server.py\", line 406, in handle_one_request\n",
            "    method()\n",
            "  File \"/usr/lib/python3.6/http/server.py\", line 639, in do_GET\n",
            "    self.copyfile(f, self.wfile)\n",
            "  File \"/usr/lib/python3.6/http/server.py\", line 800, in copyfile\n",
            "    shutil.copyfileobj(source, outputfile)\n",
            "  File \"/usr/lib/python3.6/shutil.py\", line 82, in copyfileobj\n",
            "    fdst.write(buf)\n",
            "  File \"/usr/lib/python3.6/socketserver.py\", line 800, in write\n",
            "    self._sock.sendall(b)\n",
            "ConnectionResetError: [Errno 104] Connection reset by peer\n",
            "----------------------------------------\n"
          ],
          "name": "stderr"
        }
      ]
    },
    {
      "cell_type": "code",
      "metadata": {
        "colab_type": "code",
        "id": "FX-JHgfyWvmz",
        "colab": {}
      },
      "source": [
        ""
      ],
      "execution_count": 0,
      "outputs": []
    },
    {
      "cell_type": "code",
      "metadata": {
        "colab_type": "code",
        "id": "_NqA06NHYgxh",
        "colab": {}
      },
      "source": [
        "preds = neural_process.predict(\n",
        "                       df_test[:100], \n",
        "                       score_col= score_column, \n",
        "                       text_col=text_col_name,supplied_context_df = df_test[100:150])"
      ],
      "execution_count": 0,
      "outputs": []
    },
    {
      "cell_type": "code",
      "metadata": {
        "colab_type": "code",
        "id": "kwZSmXI0YgvZ",
        "outputId": "08c8a265-6895-47ed-bc6f-cddc8f962493",
        "colab": {
          "base_uri": "https://localhost:8080/",
          "height": 1260
        }
      },
      "source": [
        "i=0\n",
        "for pred in preds:\n",
        "  i += 1\n",
        "  if i<10:\n",
        "    print(pred)\n",
        "  else:\n",
        "    break"
      ],
      "execution_count": 0,
      "outputs": [
        {
          "output_type": "stream",
          "text": [
            "INFO:tensorflow:Could not find trained model in model_dir: ./gdrive/My Drive/Kaggle_toxic_comments/test_output, running initialization to predict.\n"
          ],
          "name": "stdout"
        },
        {
          "output_type": "stream",
          "text": [
            "I0528 22:30:32.055550 140330631681920 estimator.py:604] Could not find trained model in model_dir: ./gdrive/My Drive/Kaggle_toxic_comments/test_output, running initialization to predict.\n"
          ],
          "name": "stderr"
        },
        {
          "output_type": "stream",
          "text": [
            "INFO:tensorflow:Calling model_fn.\n"
          ],
          "name": "stdout"
        },
        {
          "output_type": "stream",
          "text": [
            "I0528 22:30:32.172517 140330631681920 estimator.py:1111] Calling model_fn.\n"
          ],
          "name": "stderr"
        },
        {
          "output_type": "stream",
          "text": [
            "Prediction\n",
            "INFO:tensorflow:Saver not created because there are no variables in the graph to restore\n"
          ],
          "name": "stdout"
        },
        {
          "output_type": "stream",
          "text": [
            "I0528 22:30:35.487530 140330631681920 saver.py:1483] Saver not created because there are no variables in the graph to restore\n"
          ],
          "name": "stderr"
        },
        {
          "output_type": "stream",
          "text": [
            "INFO:tensorflow:Saver not created because there are no variables in the graph to restore\n"
          ],
          "name": "stdout"
        },
        {
          "output_type": "stream",
          "text": [
            "I0528 22:30:36.393283 140330631681920 saver.py:1483] Saver not created because there are no variables in the graph to restore\n"
          ],
          "name": "stderr"
        },
        {
          "output_type": "stream",
          "text": [
            "Tensor(\"module_apply_tokens_1/bert/pooler/dense/Tanh:0\", shape=(50, 768), dtype=float32)\n",
            "Tensor(\"strided_slice_3:0\", shape=(50, 6), dtype=float32)\n",
            "WARNING:tensorflow:From <ipython-input-9-504275df30f7>:28: dense (from tensorflow.python.layers.core) is deprecated and will be removed in a future version.\n",
            "Instructions for updating:\n",
            "Use keras.layers.dense instead.\n"
          ],
          "name": "stdout"
        },
        {
          "output_type": "stream",
          "text": [
            "W0528 22:30:36.517789 140330631681920 deprecation.py:323] From <ipython-input-9-504275df30f7>:28: dense (from tensorflow.python.layers.core) is deprecated and will be removed in a future version.\n",
            "Instructions for updating:\n",
            "Use keras.layers.dense instead.\n"
          ],
          "name": "stderr"
        },
        {
          "output_type": "stream",
          "text": [
            "Tensor(\"concat:0\", shape=(?, 768), dtype=float32)\n",
            "Tensor(\"concat_3:0\", shape=(?, 6), dtype=float32)\n",
            "WARNING:tensorflow:From /usr/local/lib/python3.6/dist-packages/tensorflow/python/training/learning_rate_decay_v2.py:321: div (from tensorflow.python.ops.math_ops) is deprecated and will be removed in a future version.\n",
            "Instructions for updating:\n",
            "Deprecated in favor of operator or tf.math.divide.\n"
          ],
          "name": "stdout"
        },
        {
          "output_type": "stream",
          "text": [
            "W0528 22:30:36.959087 140330631681920 deprecation.py:323] From /usr/local/lib/python3.6/dist-packages/tensorflow/python/training/learning_rate_decay_v2.py:321: div (from tensorflow.python.ops.math_ops) is deprecated and will be removed in a future version.\n",
            "Instructions for updating:\n",
            "Deprecated in favor of operator or tf.math.divide.\n"
          ],
          "name": "stderr"
        },
        {
          "output_type": "stream",
          "text": [
            "WARNING:tensorflow:From /usr/local/lib/python3.6/dist-packages/tensorflow/python/ops/math_ops.py:3066: to_int32 (from tensorflow.python.ops.math_ops) is deprecated and will be removed in a future version.\n",
            "Instructions for updating:\n",
            "Use tf.cast instead.\n"
          ],
          "name": "stdout"
        },
        {
          "output_type": "stream",
          "text": [
            "W0528 22:30:37.083598 140330631681920 deprecation.py:323] From /usr/local/lib/python3.6/dist-packages/tensorflow/python/ops/math_ops.py:3066: to_int32 (from tensorflow.python.ops.math_ops) is deprecated and will be removed in a future version.\n",
            "Instructions for updating:\n",
            "Use tf.cast instead.\n",
            "/usr/local/lib/python3.6/dist-packages/tensorflow/python/ops/gradients_impl.py:110: UserWarning: Converting sparse IndexedSlices to a dense Tensor of unknown shape. This may consume a large amount of memory.\n",
            "  \"Converting sparse IndexedSlices to a dense Tensor of unknown shape. \"\n"
          ],
          "name": "stderr"
        },
        {
          "output_type": "stream",
          "text": [
            "WARNING:tensorflow:From /usr/local/lib/python3.6/dist-packages/tensorflow/python/ops/metrics_impl.py:526: to_float (from tensorflow.python.ops.math_ops) is deprecated and will be removed in a future version.\n",
            "Instructions for updating:\n",
            "Use tf.cast instead.\n"
          ],
          "name": "stdout"
        },
        {
          "output_type": "stream",
          "text": [
            "W0528 22:30:50.013116 140330631681920 deprecation.py:323] From /usr/local/lib/python3.6/dist-packages/tensorflow/python/ops/metrics_impl.py:526: to_float (from tensorflow.python.ops.math_ops) is deprecated and will be removed in a future version.\n",
            "Instructions for updating:\n",
            "Use tf.cast instead.\n"
          ],
          "name": "stderr"
        },
        {
          "output_type": "stream",
          "text": [
            "INFO:tensorflow:Done calling model_fn.\n"
          ],
          "name": "stdout"
        },
        {
          "output_type": "stream",
          "text": [
            "I0528 22:30:50.772849 140330631681920 estimator.py:1113] Done calling model_fn.\n"
          ],
          "name": "stderr"
        },
        {
          "output_type": "stream",
          "text": [
            "INFO:tensorflow:Graph was finalized.\n"
          ],
          "name": "stdout"
        },
        {
          "output_type": "stream",
          "text": [
            "I0528 22:30:52.711461 140330631681920 monitored_session.py:222] Graph was finalized.\n"
          ],
          "name": "stderr"
        },
        {
          "output_type": "stream",
          "text": [
            "INFO:tensorflow:Running local_init_op.\n"
          ],
          "name": "stdout"
        },
        {
          "output_type": "stream",
          "text": [
            "I0528 22:30:58.300700 140330631681920 session_manager.py:491] Running local_init_op.\n"
          ],
          "name": "stderr"
        },
        {
          "output_type": "stream",
          "text": [
            "INFO:tensorflow:Done running local_init_op.\n"
          ],
          "name": "stdout"
        },
        {
          "output_type": "stream",
          "text": [
            "I0528 22:30:58.594700 140330631681920 session_manager.py:493] Done running local_init_op.\n"
          ],
          "name": "stderr"
        },
        {
          "output_type": "stream",
          "text": [
            "{'prediction_mean': array([0.58968437, 0.50963736, 0.39044586, 0.48339668, 0.38118672,\n",
            "       0.68578017], dtype=float32), 'prediction_var': array([0.23760812, 0.33857793, 0.46133524, 0.4781304 , 0.36333713,\n",
            "       0.52541244], dtype=float32)}\n",
            "{'prediction_mean': array([0.61491287, 0.53158444, 0.40401617, 0.5010439 , 0.36084887,\n",
            "       0.6722851 ], dtype=float32), 'prediction_var': array([0.24582544, 0.34406394, 0.42419687, 0.457196  , 0.4034973 ,\n",
            "       0.5169641 ], dtype=float32)}\n",
            "{'prediction_mean': array([0.6055819 , 0.541195  , 0.39108545, 0.5093929 , 0.37909573,\n",
            "       0.6716364 ], dtype=float32), 'prediction_var': array([0.2535335 , 0.35427654, 0.43777767, 0.47225547, 0.37682575,\n",
            "       0.4316023 ], dtype=float32)}\n",
            "{'prediction_mean': array([0.6171516 , 0.5247955 , 0.4102393 , 0.5289594 , 0.38734797,\n",
            "       0.6871959 ], dtype=float32), 'prediction_var': array([0.22779545, 0.3911062 , 0.414222  , 0.46190476, 0.33947837,\n",
            "       0.44611964], dtype=float32)}\n",
            "{'prediction_mean': array([0.59801173, 0.51222736, 0.3951928 , 0.48996457, 0.3952407 ,\n",
            "       0.6781851 ], dtype=float32), 'prediction_var': array([0.24413896, 0.32128927, 0.46695882, 0.44756022, 0.3230121 ,\n",
            "       0.55537826], dtype=float32)}\n",
            "{'prediction_mean': array([0.595419  , 0.5229403 , 0.3841215 , 0.48814982, 0.38483587,\n",
            "       0.70231044], dtype=float32), 'prediction_var': array([0.24957803, 0.35753584, 0.43337855, 0.46043387, 0.33863333,\n",
            "       0.4658741 ], dtype=float32)}\n",
            "{'prediction_mean': array([0.6430291 , 0.54333544, 0.40891185, 0.47035974, 0.39581817,\n",
            "       0.6887767 ], dtype=float32), 'prediction_var': array([0.25097373, 0.3337281 , 0.3942756 , 0.41716012, 0.34921676,\n",
            "       0.47894126], dtype=float32)}\n",
            "{'prediction_mean': array([0.6085166 , 0.5322702 , 0.40275726, 0.4932809 , 0.37684804,\n",
            "       0.6730779 ], dtype=float32), 'prediction_var': array([0.24829116, 0.31815463, 0.38745126, 0.43287912, 0.3491499 ,\n",
            "       0.4796229 ], dtype=float32)}\n",
            "{'prediction_mean': array([0.60344416, 0.5469733 , 0.38801488, 0.4804294 , 0.38690695,\n",
            "       0.66494787], dtype=float32), 'prediction_var': array([0.27485383, 0.31592324, 0.4013483 , 0.45839936, 0.32867062,\n",
            "       0.44528002], dtype=float32)}\n"
          ],
          "name": "stdout"
        }
      ]
    },
    {
      "cell_type": "code",
      "metadata": {
        "colab_type": "code",
        "id": "7hEFhEGHkrVy",
        "colab": {}
      },
      "source": [
        "test_scores = df_test[['toxic', 'severe_toxic', 'obscene', 'threat', 'insult',\n",
        "       'identity_hate']]"
      ],
      "execution_count": 0,
      "outputs": []
    },
    {
      "cell_type": "code",
      "metadata": {
        "colab_type": "code",
        "id": "Fri1X4hdkrev",
        "colab": {}
      },
      "source": [
        "uncertainty = pd.DataFrame(columns=['accuracy', 'variance'])\n",
        "pred_means = pd.DataFrame(columns = ['toxic', 'severe_toxic', 'obscene', 'threat', 'insult',\n",
        "       'identity_hate'])\n",
        "pred_variances = pd.DataFrame(columns = ['toxic', 'severe_toxic', 'obscene', 'threat', 'insult',\n",
        "       'identity_hate'])\n",
        "\n",
        "for i, pred in enumerate(preds):\n",
        "  if i<len(test_scores):\n",
        "    scores = np.array(test_scores.iloc[i])\n",
        "    #     print(scores)\n",
        "    mean_prediction = np.round(pred['prediction_mean'])\n",
        "    pred_means = pred_means.append({score_column[k]:pred['prediction_mean'][k] for k in range(len(score_column))}, ignore_index=True)\n",
        "    #     print(mean_prediction)\n",
        "    acc = scores==mean_prediction\n",
        "    variance = pred['prediction_var']\n",
        "    pred_variances = pred_variances.append({score_column[k]:variance[k] for k in range(len(score_column))}, ignore_index=True)\n",
        "    for j in range(len(scores)):\n",
        "      uncertainty = uncertainty.append({'accuracy': acc[j], 'variance': variance[j]}, ignore_index=True)\n",
        "  else:\n",
        "    break"
      ],
      "execution_count": 0,
      "outputs": []
    },
    {
      "cell_type": "code",
      "metadata": {
        "colab_type": "code",
        "id": "gc3034n5pYtd",
        "outputId": "9da3ada9-da4d-428e-a0c8-4029957be10f",
        "colab": {
          "base_uri": "https://localhost:8080/",
          "height": 92
        }
      },
      "source": [
        "print(uncertainty[uncertainty.accuracy==True]['variance'].mean())\n",
        "print(uncertainty[uncertainty.accuracy==False]['variance'].mean())"
      ],
      "execution_count": 0,
      "outputs": [
        {
          "output_type": "stream",
          "text": [
            "0.03968876489706338\n",
            "0.2590321116743508\n"
          ],
          "name": "stdout"
        }
      ]
    },
    {
      "cell_type": "markdown",
      "metadata": {
        "colab_type": "text",
        "id": "h5PsPzmyH6sA"
      },
      "source": [
        ""
      ]
    },
    {
      "cell_type": "code",
      "metadata": {
        "colab_type": "code",
        "id": "RJvlFgZ9j_r6",
        "colab": {}
      },
      "source": [
        "def total_accuaracy(pred_means, test_scores):\n",
        "  preds = np.round(pred_means)\n",
        "  comparison = preds == test_scores\n",
        "  correct_guesses = np.reshape(comparison.values,-1)\n",
        "  return np.sum(correct_guesses) / len(correct_guesses)"
      ],
      "execution_count": 0,
      "outputs": []
    },
    {
      "cell_type": "code",
      "metadata": {
        "colab_type": "code",
        "id": "cPZACnkUGrr5",
        "colab": {}
      },
      "source": [
        "def class_accuaracy(pred_means, test_scores):\n",
        "  preds = np.round(pred_means)\n",
        "  comparison = preds == test_scores\n",
        "  correct_guesses = comparison.values\n",
        "  return correct_guesses.sum(axis=0)/ len(correct_guesses)\n"
      ],
      "execution_count": 0,
      "outputs": []
    },
    {
      "cell_type": "code",
      "metadata": {
        "colab_type": "code",
        "id": "-xVcqWkdHT-s",
        "outputId": "c268f1f9-b375-4ab2-e2a8-21ddb71989e7",
        "colab": {
          "base_uri": "https://localhost:8080/",
          "height": 92
        }
      },
      "source": [
        "print(total_accuaracy(pred_means, test_scores.reset_index(drop=True)))\n",
        "print(class_accuaracy(pred_means, test_scores.reset_index(drop=True)))"
      ],
      "execution_count": 0,
      "outputs": [
        {
          "output_type": "stream",
          "text": [
            "0.8877807269185054\n",
            "[0.71103783 0.97731843 0.83179174 0.98662163 0.83903054 0.98088421]\n"
          ],
          "name": "stdout"
        }
      ]
    },
    {
      "cell_type": "code",
      "metadata": {
        "colab_type": "code",
        "id": "wjZUS-Ergg00",
        "outputId": "93ab92bc-8a92-4c7e-f0e8-d2df97e87ebb",
        "colab": {
          "base_uri": "https://localhost:8080/",
          "height": 553
        }
      },
      "source": [
        "def subset_accuracy(att):\n",
        "  print(\"accuracy on \"+att+ \" comments:\")\n",
        "  print(class_accuaracy(pred_means.iloc[np.where(test_scores[att] == 1)].reset_index(drop=True),\n",
        "                        test_scores.iloc[np.where(test_scores[att] == 1)].reset_index(drop=True)))\n",
        "\n",
        "  print(\"proportion of \"+att+ \" comments:\")\n",
        "  print(len(test_scores[test_scores[att] ==1])/len(test_scores))\n",
        "  print()\n",
        "\n",
        "for att in score_column:\n",
        "  subset_accuracy(att)"
      ],
      "execution_count": 0,
      "outputs": [
        {
          "output_type": "stream",
          "text": [
            "accuracy on toxic comments:\n",
            "[0.22029045 0.93495602 0.42667212 0.95868276 0.46430763 0.88668439]\n",
            "proportion of toxic comments:\n",
            "0.13107590015818119\n",
            "\n",
            "accuracy on severe_toxic comments:\n",
            "[0.19650655 0.         0.09606987 0.89519651 0.18340611 0.65938865]\n",
            "proportion of severe_toxic comments:\n",
            "0.006139574787527816\n",
            "\n",
            "accuracy on obscene comments:\n",
            "[0.22695035 0.9047619  0.11043566 0.95812226 0.31273219 0.86018237]\n",
            "proportion of obscene comments:\n",
            "0.0793855063138422\n",
            "\n",
            "accuracy on threat comments:\n",
            "[0.23353293 0.83233533 0.40718563 0.01796407 0.38922156 0.79041916]\n",
            "proportion of threat comments:\n",
            "0.004477331831952599\n",
            "\n",
            "accuracy on insult comments:\n",
            "[0.23107715 0.90829694 0.27620087 0.95487627 0.10953421 0.82860262]\n",
            "proportion of insult comments:\n",
            "0.07367489745033379\n",
            "\n",
            "accuracy on identity_hate comments:\n",
            "[0.22504537 0.83666062 0.33212341 0.9292196  0.21778584 0.00181488]\n",
            "proportion of identity_hate comments:\n",
            "0.014772514008418456\n",
            "\n"
          ],
          "name": "stdout"
        }
      ]
    },
    {
      "cell_type": "code",
      "metadata": {
        "colab_type": "code",
        "id": "m2flPKNig2zn",
        "outputId": "0eb97fbe-d5d2-4676-db24-4bc7b7663b35",
        "colab": {
          "base_uri": "https://localhost:8080/",
          "height": 74
        }
      },
      "source": [
        "len(test_scores[test_scores.severe_toxic==1])"
      ],
      "execution_count": 0,
      "outputs": [
        {
          "output_type": "execute_result",
          "data": {
            "text/plain": [
              "229"
            ]
          },
          "metadata": {
            "tags": []
          },
          "execution_count": 137
        }
      ]
    },
    {
      "cell_type": "code",
      "metadata": {
        "colab_type": "code",
        "id": "NZ1zjhdxZByn",
        "colab": {}
      },
      "source": [
        "at_least_one = (test_scores.toxic==1) | (test_scores.severe_toxic==1) | \\\n",
        "               (test_scores.obscene==1) | (test_scores.threat==1) | \\\n",
        "               (test_scores.insult==1) | (test_scores.identity_hate==1)"
      ],
      "execution_count": 0,
      "outputs": []
    },
    {
      "cell_type": "code",
      "metadata": {
        "colab_type": "code",
        "id": "2VzhiqkLZB2h",
        "colab": {}
      },
      "source": [
        "print(uncertainty[uncertainty.accuracy==True]['variance'].mean())\n",
        "print(uncertainty[uncertainty.accuracy==False]['variance'].mean())"
      ],
      "execution_count": 0,
      "outputs": []
    },
    {
      "cell_type": "code",
      "metadata": {
        "colab_type": "code",
        "id": "75VhsEk5ZB5E",
        "outputId": "d1d7411d-4cdc-43de-c697-c41c82472cfa",
        "colab": {
          "base_uri": "https://localhost:8080/",
          "height": 74
        }
      },
      "source": [
        ""
      ],
      "execution_count": 0,
      "outputs": [
        {
          "output_type": "execute_result",
          "data": {
            "text/plain": [
              "37299"
            ]
          },
          "metadata": {
            "tags": []
          },
          "execution_count": 31
        }
      ]
    },
    {
      "cell_type": "code",
      "metadata": {
        "colab_type": "code",
        "id": "wXgIhm8zujWn",
        "outputId": "4e9d86f8-5349-47a8-f0d2-ee399497879e",
        "colab": {
          "base_uri": "https://localhost:8080/",
          "height": 92
        }
      },
      "source": [
        "try: \n",
        "  print(\"this\")\n",
        "  True/\"this\"\n",
        "except:\n",
        "  print(\"didnt work\")"
      ],
      "execution_count": 0,
      "outputs": [
        {
          "output_type": "stream",
          "text": [
            "this\n",
            "didnt work\n"
          ],
          "name": "stdout"
        }
      ]
    },
    {
      "cell_type": "code",
      "metadata": {
        "colab_type": "code",
        "id": "iWn5PHX-4Tdt",
        "colab": {}
      },
      "source": [
        ""
      ],
      "execution_count": 0,
      "outputs": []
    }
  ]
}