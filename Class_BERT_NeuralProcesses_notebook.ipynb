{
  "nbformat": 4,
  "nbformat_minor": 0,
  "metadata": {
    "colab": {
      "name": "Class_BERT_NeuralProcesses_notebook.ipynb",
      "version": "0.3.2",
      "provenance": [],
      "collapsed_sections": [],
      "include_colab_link": true
    },
    "language_info": {
      "codemirror_mode": {
        "name": "ipython",
        "version": 3
      },
      "file_extension": ".py",
      "mimetype": "text/x-python",
      "name": "python",
      "nbconvert_exporter": "python",
      "pygments_lexer": "ipython3",
      "version": "3.6.8"
    },
    "kernelspec": {
      "name": "python3",
      "display_name": "Python 3"
    },
    "accelerator": "GPU"
  },
  "cells": [
    {
      "cell_type": "markdown",
      "metadata": {
        "id": "view-in-github",
        "colab_type": "text"
      },
      "source": [
        "<a href=\"https://colab.research.google.com/github/JTT94/nlp_neural_process/blob/master/Class_BERT_NeuralProcesses_notebook.ipynb\" target=\"_parent\"><img src=\"https://colab.research.google.com/assets/colab-badge.svg\" alt=\"Open In Colab\"/></a>"
      ]
    },
    {
      "cell_type": "code",
      "metadata": {
        "colab_type": "code",
        "id": "SZKAwmizhzHo",
        "outputId": "e44323e9-ae22-46fc-d331-ff89867f1c87",
        "colab": {
          "base_uri": "https://localhost:8080/",
          "height": 185
        }
      },
      "source": [
        "import tensorflow as tf\n",
        "import pandas as pd\n",
        "import tensorflow_hub as hub\n",
        "import os\n",
        "import re\n",
        "\n",
        "from keras import backend as K\n",
        "import numpy as np\n",
        "import string\n",
        "from datetime import datetime \n",
        "import tensorflow_probability as tfp\n",
        "from tensorflow_probability import distributions as tfd"
      ],
      "execution_count": 1,
      "outputs": [
        {
          "output_type": "stream",
          "text": [
            "WARNING: Logging before flag parsing goes to stderr.\n",
            "W0525 18:47:09.992784 139837062494080 __init__.py:56] Some hub symbols are not available because TensorFlow version is less than 1.14\n",
            "Using TensorFlow backend.\n"
          ],
          "name": "stderr"
        },
        {
          "output_type": "stream",
          "text": [
            "\n",
            "WARNING: The TensorFlow contrib module will not be included in TensorFlow 2.0.\n",
            "For more information, please see:\n",
            "  * https://github.com/tensorflow/community/blob/master/rfcs/20180907-contrib-sunset.md\n",
            "  * https://github.com/tensorflow/addons\n",
            "If you depend on functionality not listed there, please file an issue.\n",
            "\n"
          ],
          "name": "stdout"
        }
      ]
    },
    {
      "cell_type": "code",
      "metadata": {
        "colab_type": "code",
        "id": "pgB8X8dti3qc",
        "outputId": "a34c17b6-8f39-4b82-ed1d-1022c11b2b98",
        "colab": {
          "base_uri": "https://localhost:8080/",
          "height": 118
        }
      },
      "source": [
        "!pip install bert-tensorflow\n",
        "import bert\n",
        "from bert import run_classifier\n",
        "from bert import optimization\n",
        "from bert import tokenization\n"
      ],
      "execution_count": 2,
      "outputs": [
        {
          "output_type": "stream",
          "text": [
            "Collecting bert-tensorflow\n",
            "\u001b[?25l  Downloading https://files.pythonhosted.org/packages/a6/66/7eb4e8b6ea35b7cc54c322c816f976167a43019750279a8473d355800a93/bert_tensorflow-1.0.1-py2.py3-none-any.whl (67kB)\n",
            "\u001b[K     |████████████████████████████████| 71kB 26.5MB/s \n",
            "\u001b[?25hRequirement already satisfied: six in /usr/local/lib/python3.6/dist-packages (from bert-tensorflow) (1.12.0)\n",
            "Installing collected packages: bert-tensorflow\n",
            "Successfully installed bert-tensorflow-1.0.1\n"
          ],
          "name": "stdout"
        }
      ]
    },
    {
      "cell_type": "code",
      "metadata": {
        "id": "ZCJDPOgQOsqJ",
        "colab_type": "code",
        "colab": {}
      },
      "source": [
        "# initialiase tensorboard \n",
        "# from https://stackoverflow.com/questions/47818822/can-i-use-tensorboard-with-google-colab\n",
        "\n",
        "\n",
        "# Get TensorBoard running in the background. \n",
        "LOG_DIR = './test_output'\n",
        "get_ipython().system_raw(\n",
        "    'tensorboard --logdir {} --host 0.0.0.0 --port 6006 &'\n",
        "    .format(LOG_DIR)\n",
        ")"
      ],
      "execution_count": 0,
      "outputs": []
    },
    {
      "cell_type": "code",
      "metadata": {
        "id": "5sZ3Bl48oaxU",
        "colab_type": "code",
        "outputId": "346a2ce7-c4c6-43f3-9513-c48e7717d96b",
        "colab": {
          "base_uri": "https://localhost:8080/",
          "height": 236
        }
      },
      "source": [
        "# # #Download and unzip ngrok. \n",
        "!test -e ngrok-stable-linux-amd64.zip || wget https://bin.equinox.io/c/4VmDzA7iaHb/ngrok-stable-linux-amd64.zip\n",
        "!test -e ngrok || unzip ngrok-stable-linux-amd64.zip\n"
      ],
      "execution_count": 4,
      "outputs": [
        {
          "output_type": "stream",
          "text": [
            "--2019-05-25 18:47:19--  https://bin.equinox.io/c/4VmDzA7iaHb/ngrok-stable-linux-amd64.zip\n",
            "Resolving bin.equinox.io (bin.equinox.io)... 52.203.102.189, 3.92.108.98, 52.72.245.79, ...\n",
            "Connecting to bin.equinox.io (bin.equinox.io)|52.203.102.189|:443... connected.\n",
            "HTTP request sent, awaiting response... 200 OK\n",
            "Length: 16648024 (16M) [application/octet-stream]\n",
            "Saving to: ‘ngrok-stable-linux-amd64.zip’\n",
            "\n",
            "ngrok-stable-linux- 100%[===================>]  15.88M  6.09MB/s    in 2.6s    \n",
            "\n",
            "2019-05-25 18:47:23 (6.09 MB/s) - ‘ngrok-stable-linux-amd64.zip’ saved [16648024/16648024]\n",
            "\n",
            "Archive:  ngrok-stable-linux-amd64.zip\n",
            "  inflating: ngrok                   \n"
          ],
          "name": "stdout"
        }
      ]
    },
    {
      "cell_type": "code",
      "metadata": {
        "id": "mLp9PmAzoWhE",
        "colab_type": "code",
        "colab": {}
      },
      "source": [
        "# #Launch ngrok background process...\n",
        "get_ipython().system_raw('./ngrok http 6006 &')"
      ],
      "execution_count": 0,
      "outputs": []
    },
    {
      "cell_type": "code",
      "metadata": {
        "id": "eL1A1ibjOwnL",
        "colab_type": "code",
        "outputId": "cb38f189-b860-48e2-91ab-120fbd8e5ac0",
        "colab": {
          "base_uri": "https://localhost:8080/",
          "height": 34
        }
      },
      "source": [
        "! curl -s http://localhost:4040/api/tunnels | python3 -c \\\n",
        "    \"import sys, json; print(json.load(sys.stdin)['tunnels'][0]['public_url'])\""
      ],
      "execution_count": 6,
      "outputs": [
        {
          "output_type": "stream",
          "text": [
            "https://5134a1c7.ngrok.io\n"
          ],
          "name": "stdout"
        }
      ]
    },
    {
      "cell_type": "code",
      "metadata": {
        "id": "bweIS72l5WS5",
        "colab_type": "code",
        "outputId": "a4c1ede8-371e-4c7d-f899-c35f65553cf1",
        "colab": {
          "base_uri": "https://localhost:8080/",
          "height": 135
        }
      },
      "source": [
        "import os, sys\n",
        "sys.path.append('../') # add personal code dir to path for import\n",
        "\n",
        "\n",
        "!test -d neural_process || git clone https://github.com/JTT94/nlp_neural_process.git neural_process\n",
        "sys.path.append('./neural_process/')\n",
        "\n",
        "import random\n",
        "from neural_process import split_context_target, NeuralProcessParams\n",
        "from neural_process.network import *\n",
        "from neural_process.loss import *\n",
        "from neural_process.predict import *\n",
        "from neural_process.process import *\n",
        "\n",
        "from neural_process.tf_model_builder_AUC import *\n",
        "from neural_process.bert_utils import *"
      ],
      "execution_count": 7,
      "outputs": [
        {
          "output_type": "stream",
          "text": [
            "Cloning into 'neural_process'...\n",
            "remote: Enumerating objects: 107, done.\u001b[K\n",
            "remote: Counting objects: 100% (107/107), done.\u001b[K\n",
            "remote: Compressing objects: 100% (46/46), done.\u001b[K\n",
            "remote: Total 107 (delta 64), reused 97 (delta 59), pack-reused 0\u001b[K\n",
            "Receiving objects: 100% (107/107), 673.87 KiB | 741.00 KiB/s, done.\n",
            "Resolving deltas: 100% (64/64), done.\n"
          ],
          "name": "stdout"
        }
      ]
    },
    {
      "cell_type": "code",
      "metadata": {
        "colab_type": "code",
        "id": "69MNF4fEi5Ly",
        "outputId": "f3521b97-5e24-4c78-ac2f-5fa93e71a113",
        "colab": {
          "base_uri": "https://localhost:8080/",
          "height": 34
        }
      },
      "source": [
        "# Initialize session\n",
        "sess = tf.Session()\n",
        "K.set_session(sess)\n",
        "K.tensorflow_backend._get_available_gpus()\n"
      ],
      "execution_count": 8,
      "outputs": [
        {
          "output_type": "execute_result",
          "data": {
            "text/plain": [
              "['/job:localhost/replica:0/task:0/device:GPU:0']"
            ]
          },
          "metadata": {
            "tags": []
          },
          "execution_count": 8
        }
      ]
    },
    {
      "cell_type": "code",
      "metadata": {
        "id": "jDvh4JVNQFck",
        "colab_type": "code",
        "outputId": "433e338b-fffa-4454-e344-4b82b8df450e",
        "colab": {
          "base_uri": "https://localhost:8080/",
          "height": 121
        }
      },
      "source": [
        "from google.colab import drive\n",
        "drive.mount('/content/gdrive')"
      ],
      "execution_count": 9,
      "outputs": [
        {
          "output_type": "stream",
          "text": [
            "Go to this URL in a browser: https://accounts.google.com/o/oauth2/auth?client_id=947318989803-6bn6qk8qdgf4n4g3pfee6491hc0brc4i.apps.googleusercontent.com&redirect_uri=urn%3Aietf%3Awg%3Aoauth%3A2.0%3Aoob&scope=email%20https%3A%2F%2Fwww.googleapis.com%2Fauth%2Fdocs.test%20https%3A%2F%2Fwww.googleapis.com%2Fauth%2Fdrive%20https%3A%2F%2Fwww.googleapis.com%2Fauth%2Fdrive.photos.readonly%20https%3A%2F%2Fwww.googleapis.com%2Fauth%2Fpeopleapi.readonly&response_type=code\n",
            "\n",
            "Enter your authorization code:\n",
            "··········\n",
            "Mounted at /content/gdrive\n"
          ],
          "name": "stdout"
        }
      ]
    },
    {
      "cell_type": "code",
      "metadata": {
        "colab_type": "code",
        "id": "Cc1rwgOZi9F1",
        "colab": {}
      },
      "source": [
        "## For kaggle dataset\n",
        "filename = './gdrive/My Drive/Data/train.csv'\n",
        "df = pd.read_csv(filename)\n",
        "cols = ['comment_text','toxic', 'severe_toxic', 'obscene', 'threat', 'insult', 'identity_hate']\n",
        "df = df[cols]\n",
        "\n",
        "score_column = ['toxic', 'severe_toxic', 'obscene', 'threat', 'insult', 'identity_hate'] \n",
        "text_col_name = 'comment_text'\n",
        "\n",
        "#Cast to float - because scores and labels need to be concattenated in the model function, and so need to be same type\n",
        "for i in score_column:\n",
        "  df[i] = pd.to_numeric(df[i],downcast='float')"
      ],
      "execution_count": 0,
      "outputs": []
    },
    {
      "cell_type": "code",
      "metadata": {
        "colab_type": "code",
        "id": "p_JIbqhY55L_",
        "outputId": "f484d15f-90f5-42ec-8057-044299dba637",
        "colab": {
          "base_uri": "https://localhost:8080/",
          "height": 118
        }
      },
      "source": [
        "# Restrict comment length\n",
        "df = df[df.comment_text.str.len() <= 250]\n",
        "df['num_toxic_atts'] = df[cols[1:]].apply(lambda x: np.sum(x), axis = 1)\n",
        "\n",
        "df_toxic = df[df.num_toxic_atts  > 0]\n",
        "# print(len(df_toxic))\n",
        "df_healthy_sample = df[df.num_toxic_atts == 0][:len(df_toxic)]\n",
        "print(len(df_healthy_sample))\n",
        "df_healthy_remaining = df[df.num_toxic_atts == 0][len(df_toxic):]\n",
        "print(len(df_healthy_remaining))\n",
        "\n",
        "df_overrep = pd.concat([df_toxic, df_healthy_sample]).sample(frac=1.0)\n",
        "print(len(df_overrep))\n",
        "train_propn = 0.8\n",
        "\n",
        "ratio = len(df_toxic)/(len(df_healthy_sample)+len(df_healthy_remaining))\n",
        "print(ratio)\n",
        "\n",
        "df_train = df_overrep[:int(len(df_overrep)*train_propn)]\n",
        "print(len(df_train))\n",
        "\n",
        "#construct a test set with similar proportion/imbalance in toxic - nontoxic data to the real data set\n",
        "df_test = pd.concat([df_overrep[int(len(df_overrep)*train_propn):], df_healthy_remaining[:int((1-0.8)*(len(df_healthy_remaining)-len(df_train)))]])\n",
        "\n",
        "print(0.5*len(df_overrep[int(len(df_overrep)*train_propn):]) / len(df_test))\n",
        "# df_train.head(50)"
      ],
      "execution_count": 11,
      "outputs": [
        {
          "output_type": "stream",
          "text": [
            "11640\n",
            "67417\n",
            "23280\n",
            "0.14723553891496008\n",
            "18624\n",
            "0.16150964340224783\n"
          ],
          "name": "stdout"
        }
      ]
    },
    {
      "cell_type": "code",
      "metadata": {
        "colab_type": "code",
        "id": "mUIe15uTi9Ok",
        "outputId": "deb2e980-bc89-4968-bf83-8f5a63cefd47",
        "colab": {
          "base_uri": "https://localhost:8080/",
          "height": 172
        }
      },
      "source": [
        "# This is a path to an uncased (all lowercase) version of BERT\n",
        "BERT_model_hub = \"https://tfhub.dev/google/bert_uncased_L-12_H-768_A-12/1\"\n",
        "tokenizer = create_tokenizer_from_hub_module(BERT_model_hub)"
      ],
      "execution_count": 12,
      "outputs": [
        {
          "output_type": "stream",
          "text": [
            "WARNING:tensorflow:From /usr/local/lib/python3.6/dist-packages/tensorflow/python/ops/control_flow_ops.py:3632: colocate_with (from tensorflow.python.framework.ops) is deprecated and will be removed in a future version.\n",
            "Instructions for updating:\n",
            "Colocations handled automatically by placer.\n"
          ],
          "name": "stdout"
        },
        {
          "output_type": "stream",
          "text": [
            "W0525 18:48:24.144909 139837062494080 deprecation.py:323] From /usr/local/lib/python3.6/dist-packages/tensorflow/python/ops/control_flow_ops.py:3632: colocate_with (from tensorflow.python.framework.ops) is deprecated and will be removed in a future version.\n",
            "Instructions for updating:\n",
            "Colocations handled automatically by placer.\n"
          ],
          "name": "stderr"
        },
        {
          "output_type": "stream",
          "text": [
            "INFO:tensorflow:Saver not created because there are no variables in the graph to restore\n"
          ],
          "name": "stdout"
        },
        {
          "output_type": "stream",
          "text": [
            "I0525 18:48:26.237844 139837062494080 saver.py:1483] Saver not created because there are no variables in the graph to restore\n"
          ],
          "name": "stderr"
        }
      ]
    },
    {
      "cell_type": "code",
      "metadata": {
        "id": "jECyqGRfyht4",
        "colab_type": "code",
        "colab": {}
      },
      "source": [
        ""
      ],
      "execution_count": 0,
      "outputs": []
    },
    {
      "cell_type": "code",
      "metadata": {
        "colab_type": "code",
        "id": "IVESPLmgl98I",
        "colab": {}
      },
      "source": [
        "# #Pre process data for bert embedding\n",
        "\n",
        "max_seq_length = 128\n",
        "\n",
        "import pickle\n",
        "\n",
        "train_input_examples = create_examples(df_train, score_column, text_col_name)\n",
        "test_input_examples = create_examples(df_test, score_column, text_col_name)\n",
        "\n",
        "train_features = convert_examples_to_features(train_input_examples, max_seq_length, tokenizer)\n",
        "test_features = convert_examples_to_features(test_input_examples, max_seq_length, tokenizer)\n",
        "\n",
        "pickle.dump(train_features, open('./gdrive/My Drive/Data/train_features.p', 'wb'))\n",
        "pickle.dump(test_features, open('./gdrive/My Drive/Data/test_features.p', 'wb'))\n",
        "\n",
        "# # ## Load features previously saved\n",
        "# train_features = pickle.load(open('./gdrive/My Drive/Kaggle_toxic_comments/train_features.p', 'rb'))\n",
        "# test_features = pickle.load(open('./gdrive/My Drive/Kaggle_toxic_comments/train_features.p', 'rb'))"
      ],
      "execution_count": 0,
      "outputs": []
    },
    {
      "cell_type": "code",
      "metadata": {
        "id": "wOdj6CWiPYSX",
        "colab_type": "code",
        "colab": {}
      },
      "source": [
        "# utility methods\n",
        "from collections import namedtuple\n",
        "NeuralProcessParams = namedtuple('NeuralProcessParams', ['dim_z', 'n_hidden_units_h', 'n_hidden_units_g'])\n",
        "GaussianParams = namedtuple('GaussianParams', ['mu', 'sigma'])\n",
        "\n",
        "\n",
        "def batch_mlp(input, inner_layer_dims, output_dim, variable_scope):\n",
        "  \"\"\"Apply MLP to the final axis of a 3D tensor (reusing already defined MLPs).\n",
        "  \n",
        "  Args:\n",
        "    input: input tensor of shape [B,n,d_in].\n",
        "    output_sizes: An iterable containing the output sizes of the MLP as defined \n",
        "        in `basic.Linear`.\n",
        "    variable_scope: String giving the name of the variable scope. If this is set\n",
        "        to be the same as a previously defined MLP, then the weights are reused.\n",
        "    \n",
        "  Returns:\n",
        "    tensor of shape [B,n,d_out] where d_out=output_sizes[-1]\n",
        "  \"\"\"\n",
        "  # Get the shapes of the input and reshape to parallelise across observations\n",
        "\n",
        "  output = input\n",
        "\n",
        "  \n",
        "  # Pass through MLP\n",
        "  with tf.variable_scope(variable_scope, reuse=tf.AUTO_REUSE):\n",
        "    for i, size in enumerate(inner_layer_dims):\n",
        "      output = tf.nn.relu(\n",
        "          tf.layers.dense(output, size, name=\"layer_{}\".format(i)))\n",
        "\n",
        "    # Last layer without a ReLu\n",
        "    output = tf.layers.dense(output, output_dim, name=\"layer_{}\".format(i + 1))\n",
        "\n",
        "  return output"
      ],
      "execution_count": 0,
      "outputs": []
    },
    {
      "cell_type": "code",
      "metadata": {
        "id": "g_gK0D7AhoLK",
        "colab_type": "code",
        "colab": {}
      },
      "source": [
        "class Embedder(object):\n",
        "  \n",
        "  def __init__(self, BERT_model_hub = \"https://tfhub.dev/google/bert_uncased_L-12_H-768_A-12/1\", trainable=True):\n",
        "    self.BERT_model_hub = \"https://tfhub.dev/google/bert_uncased_L-12_H-768_A-12/1\"\n",
        "    self.tokenizer = create_tokenizer_from_hub_module(BERT_model_hub)\n",
        "    self.trainable = trainable\n",
        "    \n",
        "  def __call__(self, input_ids, input_mask, segment_ids):\n",
        "    embedder = hub.Module(self.BERT_model_hub,trainable=self.trainable)\n",
        "    bert_inputs = dict(input_ids=input_ids,\n",
        "                       input_mask=input_mask, \n",
        "                       segment_ids=segment_ids)\n",
        "\n",
        "    bert_outputs = embedder(inputs=bert_inputs,\n",
        "                               signature=\"tokens\", \n",
        "                               as_dict=True)\n",
        "    \n",
        "  # Use \"pooled_output\" for classification tasks on an entire sentence. Use \"sequence_outputs\" for token-level output\n",
        "    return bert_outputs[\"pooled_output\"]\n",
        "  "
      ],
      "execution_count": 0,
      "outputs": []
    },
    {
      "cell_type": "code",
      "metadata": {
        "id": "2HMqLmD8PTEP",
        "colab_type": "code",
        "colab": {}
      },
      "source": [
        "class Decoder(object):\n",
        "  \"\"\"The Decoder.\"\"\"\n",
        "\n",
        "  def __init__(self, layer_dims, num_classes):\n",
        "    self.layer_dims = layer_dims\n",
        "    self.num_classes = num_classes\n",
        "    \n",
        "  def __call__(self, input_xs_embedding, z_samples):\n",
        "  \n",
        "        # inputs dimensions\n",
        "    # z_sample has dim [n_draws, dim_z]\n",
        "    # x_star has dim [N_star, dim_x]\n",
        "    n_draws = z_samples.get_shape().as_list()[0]\n",
        "    n_xs = tf.shape(input_xs_embedding)[0]\n",
        "\n",
        "    # Repeat z samples for each x*\n",
        "    #z_samples_repeat = tf.expand_dims(z_samples, axis=1)\n",
        "\n",
        "    #z_samples_repeat = tf.expand_dims(z_samples, axis=1)\n",
        "    z_samples_repeat = tf.tile(z_samples, [1, n_xs, 1])\n",
        "\n",
        "    # Repeat x* for each z sample\n",
        "    x_star_repeat = tf.expand_dims(input_xs_embedding, axis=0)\n",
        "    x_star_repeat = tf.tile(x_star_repeat, [n_draws, 1, 1])\n",
        "\n",
        "    # Concatenate x* and z\n",
        "    inputs = tf.concat([x_star_repeat, z_samples_repeat], axis=2)\n",
        "\n",
        "    # decoder mlp\n",
        "    inner_layer_dims = self.layer_dims\n",
        "    output_dim = self.num_classes *2\n",
        "    hidden = batch_mlp(inputs, inner_layer_dims, output_dim, \"decoder\")\n",
        "\n",
        "    # Get the mean an the variance\n",
        "    mu, log_sigma = tf.split(hidden, 2, axis= -1)\n",
        "\n",
        "    # Bound the variance\n",
        "    sigma_star = 0.1 + 0.9 * tf.nn.softplus(log_sigma)\n",
        "    mu_star = tf.math.sigmoid(mu)\n",
        "\n",
        "\n",
        "    return GaussianParams(mu_star, sigma_star)\n",
        "\n",
        "\n"
      ],
      "execution_count": 0,
      "outputs": []
    },
    {
      "cell_type": "code",
      "metadata": {
        "id": "L6DmGdqzaGjS",
        "colab_type": "code",
        "colab": {}
      },
      "source": [
        "class Encoder(object):\n",
        "\n",
        "  def __init__(self, layer_dims, latent_dim):\n",
        "    self.layer_dims = layer_dims\n",
        "    self.latent_dim = latent_dim\n",
        "    \n",
        "  def __call__(self, xs, ys):\n",
        "    print(xs)\n",
        "    print(ys)\n",
        "    xys = tf.concat([xs, ys], axis=1)\n",
        "\n",
        "\n",
        "    # encoder mlp\n",
        "    inner_layer_dims = self.layer_dims[:-1]\n",
        "    output_dim = self.layer_dims[-1]\n",
        "    rs = batch_mlp(xys, inner_layer_dims, output_dim, \"encoder\")\n",
        "    \n",
        "    # aggregate rs\n",
        "    r = self._aggregate_r(rs)\n",
        "    \n",
        "    # get mu and sigma\n",
        "    z_params = self._get_z_params(r)\n",
        "    \n",
        "    # distribution\n",
        "    dist = tfd.MultivariateNormalDiag(loc=z_params.mu,\n",
        "                                          scale_diag=z_params.sigma)\n",
        "    return dist\n",
        "    \n",
        "  def _aggregate_r(self, context_rs: tf.Tensor) -> tf.Tensor:\n",
        "    \"\"\"Aggregate the output of the encoder to a single representation\n",
        "\n",
        "    Creates an aggregation (mean) operator to combine the encodings of multiple context inputs\n",
        "\n",
        "    Parameters\n",
        "    ----------\n",
        "    context_rs\n",
        "        Input encodings tensor, shape: (n_samples, dim_r)\n",
        "\n",
        "    Returns\n",
        "    -------\n",
        "        Output tensor of aggregation result\n",
        "    \"\"\"\n",
        "    mean = tf.reduce_mean(context_rs, axis=0)\n",
        "    r = tf.reshape(mean, [1, -1])\n",
        "    return r\n",
        "  \n",
        "  def _get_z_params(self, context_r: tf.Tensor) -> GaussianParams:\n",
        "    \"\"\"Map encoding to mean and covariance of the random variable Z\n",
        "\n",
        "    Creates a linear dense layer to map encoding to mu_z, and another linear mapping + a softplus activation for Sigma_z\n",
        "\n",
        "    Parameters\n",
        "    ----------\n",
        "    context_r\n",
        "        Input encoding tensor, shape: (1, dim_r)\n",
        "    params\n",
        "        Neural process parameters\n",
        "\n",
        "    Returns\n",
        "    -------\n",
        "        Output tensors of the mappings for mu_z and Sigma_z\n",
        "    \"\"\"\n",
        "    hidden = context_r\n",
        "    with tf.variable_scope(\"latent_encoder\", reuse=tf.AUTO_REUSE):\n",
        "      # First apply intermediate relu layer \n",
        "      hidden = tf.nn.relu(\n",
        "          tf.layers.dense(hidden, \n",
        "                          (self.layer_dims[-1] + self.latent_dim)/2, \n",
        "                          name=\"penultimate_layer\"))\n",
        "      \n",
        "      # Then apply further linear layers to output latent mu and log sigma\n",
        "      mu = tf.layers.dense(hidden, self.latent_dim, name=\"mean_layer\")\n",
        "      log_sigma = tf.layers.dense(hidden, self.latent_dim, name=\"std_layer\")\n",
        "      \n",
        "\n",
        "    # Compute sigma\n",
        "    sigma = 0.1 + 0.9 * tf.sigmoid(log_sigma)\n",
        "\n",
        "    return GaussianParams(mu, sigma)"
      ],
      "execution_count": 0,
      "outputs": []
    },
    {
      "cell_type": "code",
      "metadata": {
        "id": "4qfD5rECp7s2",
        "colab_type": "code",
        "colab": {
          "base_uri": "https://localhost:8080/",
          "height": 34
        },
        "outputId": "cb62a989-350c-44e7-c5ed-34f93ab9a7a7"
      },
      "source": [
        "test =dict()\n",
        "'test' in test"
      ],
      "execution_count": 18,
      "outputs": [
        {
          "output_type": "execute_result",
          "data": {
            "text/plain": [
              "False"
            ]
          },
          "metadata": {
            "tags": []
          },
          "execution_count": 18
        }
      ]
    },
    {
      "cell_type": "code",
      "metadata": {
        "id": "LWZZAs1haFkc",
        "colab_type": "code",
        "colab": {}
      },
      "source": [
        "params = NeuralProcessParams(dim_z=20, n_hidden_units_h=[128, 128, 128], n_hidden_units_g=[128, 128, 128])\n",
        "\n",
        "class NLP_NeuralProcess(object):\n",
        "  \n",
        "  def __init__(self, \n",
        "                  params = NeuralProcessParams(dim_z=20, \n",
        "                                                     n_hidden_units_h=[128, 128, 128], \n",
        "                                                     n_hidden_units_g=[128, 128, 128]),\n",
        "                  num_classes = 6, \n",
        "                  num_draws = 2\n",
        "                 ):\n",
        "    \n",
        "    self.params = params\n",
        "    self.encoder = Encoder(layer_dims = self.params.n_hidden_units_h, \n",
        "                           latent_dim=self.params.dim_z)\n",
        "    self.decoder = Decoder(layer_dims= self.params.n_hidden_units_g, \n",
        "                           num_classes=num_classes)\n",
        "    self.num_draws = num_draws\n",
        "    self.estimator = None\n",
        "    #self.embedder = Embedder()\n",
        "    \n",
        "  def create_model(self, \n",
        "                   target_input_ids, \n",
        "                   target_input_mask, \n",
        "                   target_segment_ids, \n",
        "                   target_scores=None,\n",
        "                   context_input_ids = None, \n",
        "                   context_input_mask = None, \n",
        "                   context_segment_ids= None, \n",
        "                   context_scores = None\n",
        "                   ):\n",
        "    \n",
        "    # apply embedder\n",
        "    embedder = hub.Module(BERT_model_hub,trainable=True)\n",
        "    \n",
        "    valid_context = (context_input_ids is not None) & (context_input_mask is not None) & (context_segment_ids is not None) & (context_scores is not None)\n",
        "    \n",
        "    # target processing - all scenarios\n",
        "    target_inputs = dict(input_ids=target_input_ids,\n",
        "                     input_mask=target_input_mask, \n",
        "                     segment_ids=target_segment_ids)\n",
        "    target_embeddings = embedder(inputs=target_inputs,\n",
        "                               signature=\"tokens\", \n",
        "                               as_dict=True)\n",
        "    target_xs = target_embeddings[\"pooled_output\"]\n",
        "    \n",
        "    \n",
        "    if valid_context:\n",
        "      \n",
        "      # context processing - training\n",
        "      context_inputs = dict(input_ids=context_input_ids,\n",
        "                         input_mask=context_input_mask, \n",
        "                         segment_ids=context_segment_ids)\n",
        "      context_embeddings = embedder(inputs=context_inputs,\n",
        "                                 signature=\"tokens\", \n",
        "                                 as_dict=True)\n",
        "      context_xs = context_embeddings[\"pooled_output\"]\n",
        "      context_ys = context_scores\n",
        "      # total x,y \n",
        "      x_all = tf.concat([context_xs, target_xs], axis=0)\n",
        "      \n",
        "      # get encoding params with context\n",
        "      context_z_dist = self.encoder(context_xs, context_ys)\n",
        "      # predictions with context\n",
        "      posterior_pred = self.decoder(target_xs, context_z_dist.sample(self.num_draws))\n",
        "        \n",
        "       # target scores - context training / evaluation\n",
        "      if target_scores is not None:\n",
        "        target_ys = target_scores\n",
        "        y_all = tf.concat([context_ys, target_ys], axis=0)\n",
        "        all_z_dist = self.encoder(x_all, y_all)\n",
        "        \n",
        "        # loss\n",
        "        loglike = self.loglikelihood(target_ys, posterior_pred)\n",
        "        KL_loss = self.KLqp_gaussian(all_z_dist.parameters['loc'], \n",
        "                                     all_z_dist.parameters['scale_diag'], \n",
        "                                     context_z_dist.parameters['loc'], \n",
        "                                     context_z_dist.parameters['scale_diag'])\n",
        "        loss = tf.negative(loglike) + KL_loss\n",
        "        # context and training / evaluation\n",
        "        return (loss, posterior_pred, y_all)\n",
        "      \n",
        "      # context prediction\n",
        "      return  (None, posterior_pred, None)\n",
        "    \n",
        "    # no context\n",
        "    else:\n",
        "      x_all = target_xs \n",
        "      # get internal representation\n",
        "      mean_zero = tf.constant(np.repeat(0., params.dim_z))\n",
        "      epsilon_dist = tfd.MultivariateNormalDiag(loc= mean_zero)                            \n",
        "      epsilon = tf.expand_dims(epsilon_dist.sample(self.num_draws), axis=1)\n",
        "      epsilon = tf.cast(epsilon, tf.float32)\n",
        "      prior_predict = self.decoder(x_all, epsilon)\n",
        "      \n",
        "      # target scores - no context training / evaluation\n",
        "      if target_scores is not None:\n",
        "        target_ys = target_scores\n",
        "        loglike = self.loglikelihood(target_ys, prior_predict)\n",
        "        loss = tf.negative(loglike)\n",
        "        # no context/ training / evaluation\n",
        "        return  (loss, prior_predict, target_ys)\n",
        "   \n",
        "    \n",
        "      # no context prediction\n",
        "      return  (None, prior_predict, None)\n",
        "\n",
        "  \n",
        "  def loglikelihood(self, y_star: tf.Tensor, dist):\n",
        "    \"\"\"Log-likelihood of an output given a predicted \"\"\"\n",
        "    p_normal = tfd.MultivariateNormalDiag(loc = dist.mu, scale_diag=dist.sigma)\n",
        "    loglike = p_normal.log_prob(y_star)\n",
        "    loglike = tf.reduce_sum(loglike, axis=0)\n",
        "    loglike = tf.reduce_mean(loglike)\n",
        "    return loglike\n",
        "  \n",
        "  def KLqp_gaussian(self, mu_q: tf.Tensor, sigma_q: tf.Tensor, mu_p: tf.Tensor, sigma_p: tf.Tensor) -> tf.Tensor:\n",
        "    \"\"\"Kullback-Leibler divergence between two Gaussian distributions\n",
        "\n",
        "    Determines KL(q || p) = < log( q / p ) >_q\n",
        "\n",
        "    Parameters\n",
        "    ----------\n",
        "    mu_q\n",
        "        Mean tensor of distribution q, shape: (1, dim)\n",
        "    sigma_q\n",
        "        Variance tensor of distribution q, shape: (1, dim)\n",
        "    mu_p\n",
        "        Mean tensor of distribution p, shape: (1, dim)\n",
        "    sigma_p\n",
        "        Variance tensor of distribution p, shape: (1, dim)\n",
        "\n",
        "    Returns\n",
        "    -------\n",
        "        KL tensor, shape: (1)\n",
        "    \"\"\"\n",
        "    sigma2_q = tf.square(sigma_q) + 1e-16\n",
        "    sigma2_p = tf.square(sigma_p) + 1e-16\n",
        "    temp = sigma2_q / sigma2_p + tf.square(mu_q - mu_p) / sigma2_p - 1.0 + tf.log(sigma2_p / sigma2_q + 1e-16)\n",
        "    return 0.5 * tf.reduce_sum(temp)\n",
        "  \n",
        "  def context_target_split(self, batch_size =32):\n",
        "    btch_sz = batch_size\n",
        "    n_context = tf.random_shuffle(tf.range(1,btch_sz))[0]\n",
        "    \n",
        "    indices = tf.range(0, btch_sz)\n",
        "    context_set_indices = tf.gather(tf.random_shuffle(indices),tf.range(n_context))\n",
        "    target_set_indices = tf.gather(tf.random_shuffle(indices),tf.range(n_context, btch_sz))\n",
        "    \n",
        "    return context_set_indices, target_set_indices\n",
        "    \n",
        "  def model_fn_builder(self, num_labels, learning_rate, num_train_steps, num_warmup_steps):\n",
        "      \"\"\"Returns `model_fn` closure for TPUEstimator.\"\"\"\n",
        "      \n",
        "      \n",
        "      def model_fn(features, mode, params):  # pylint: disable=unused-argument\n",
        "          \"\"\"The `model_fn` for TPUEstimator.\"\"\"\n",
        "          \n",
        "          # run model\n",
        "          # -------------------------------------------------------------------------------------------\n",
        "          target_input_ids = None\n",
        "          target_input_mask = None\n",
        "          target_segment_ids = None \n",
        "          target_scores = None\n",
        "          \n",
        "          context_input_ids = None \n",
        "          context_input_mask = None \n",
        "          context_segment_ids = None\n",
        "          context_scores = None\n",
        "          \n",
        "          # training \n",
        "          if mode == tf.estimator.ModeKeys.TRAIN:\n",
        "            input_ids = features[\"input_ids\"]\n",
        "            input_mask = features[\"input_mask\"]\n",
        "            segment_ids = features[\"segment_ids\"]    \n",
        "            scores = features[\"scores\"]\n",
        "            \n",
        "            # context split\n",
        "            context_set_indices, target_set_indices= self.context_target_split(batch_size =32)\n",
        "            \n",
        "            target_input_ids = tf.gather(input_ids,target_set_indices)\n",
        "            target_input_mask = tf.gather(input_mask,target_set_indices)\n",
        "            target_segment_ids = tf.gather(segment_ids,target_set_indices) \n",
        "            target_scores = tf.gather(scores,target_set_indices)\n",
        "\n",
        "            context_input_ids = tf.gather(input_ids,context_set_indices) \n",
        "            context_input_mask = tf.gather(input_mask,context_set_indices) \n",
        "            context_segment_ids = tf.gather(segment_ids,context_set_indices)\n",
        "            context_scores = tf.gather(scores,context_set_indices)\n",
        "            \n",
        "            \n",
        "          elif mode == tf.estimator.ModeKeys.PREDICT:\n",
        "            print('Prediction')\n",
        "            input_ids = features[\"input_ids\"]\n",
        "            input_mask = features[\"input_mask\"]\n",
        "            segment_ids = features[\"segment_ids\"]    \n",
        "            scores = features[\"scores\"]\n",
        "            \n",
        "            \n",
        "            target_input_ids = input_ids\n",
        "            target_input_mask = input_mask\n",
        "            target_segment_ids = segment_ids \n",
        "            target_scores = scores\n",
        "\n",
        "            context_input_ids = None\n",
        "            context_input_mask = None\n",
        "            context_segment_ids = None\n",
        "            context_scores = None\n",
        "            \n",
        "          else:\n",
        "            print('Evaluation')\n",
        "            input_ids = features[\"input_ids\"]\n",
        "            input_mask = features[\"input_mask\"]\n",
        "            segment_ids = features[\"segment_ids\"]    \n",
        "            scores = features[\"scores\"]\n",
        "            \n",
        "            \n",
        "            target_input_ids = input_ids\n",
        "            target_input_mask = input_mask\n",
        "            target_segment_ids = segment_ids \n",
        "            target_scores = scores\n",
        "\n",
        "            context_input_ids = None\n",
        "            context_input_mask = None\n",
        "            context_segment_ids = None\n",
        "            context_scores = None\n",
        "\n",
        "\n",
        "          (loss, prediction, true_y) = self.create_model(target_input_ids, \n",
        "                                                         target_input_mask, \n",
        "                                                         target_segment_ids, \n",
        "                                                         target_scores,\n",
        "                                                         context_input_ids, \n",
        "                                                         context_input_mask, \n",
        "                                                         context_segment_ids, \n",
        "                                                         context_scores)\n",
        "\n",
        "          train_op = bert.optimization.create_optimizer(loss, learning_rate, num_train_steps, num_warmup_steps, use_tpu=False)\n",
        "          ystar, variance = tf.nn.moments(prediction.mu,[0])\n",
        "          \n",
        "          \n",
        "          # output from model\n",
        "          # -------------------------------------------------------------------------------------------\n",
        "\n",
        "          # training \n",
        "          if mode == tf.estimator.ModeKeys.TRAIN:\n",
        "              return tf.estimator.EstimatorSpec(mode=mode, loss=loss, train_op=train_op)\n",
        "\n",
        "          # prediction\n",
        "          elif mode == tf.estimator.ModeKeys.PREDICT:\n",
        "              return tf.estimator.EstimatorSpec(mode=mode, predictions={'prediction_mean': prior_ystar, 'prediction_var': prior_variance})\n",
        "\n",
        "          # evaluation\n",
        "          else:\n",
        "            # Calculate evaluation metrics.\n",
        "            eval_metrics = {}\n",
        "\n",
        "            # AUC\n",
        "            def metric_fn(pred_scores, real_scores, trait_num):\n",
        "                auc_value = tf.metrics.auc(real_scores[:,trait_num], pred_scores[:,trait_num])\n",
        "                accuracy_value = tf.metrics.accuracy(labels = tf.round(real_scores[:,trait_num]), predictions=tf.round(pred_scores[:,trait_num]))\n",
        "                return {\"auc\"+str(trait_num): auc_value, \"accuracy\"+str(trait_num): accuracy_value}\n",
        "\n",
        "            labels = true_y # need to round them if true labels are not 1 or 0\n",
        "            eval_metrics_lst = [metric_fn(prior_ystar, labels, trait_num) for trait_num in range(num_labels)]\n",
        "\n",
        "            for d in eval_metrics_lst:\n",
        "                tf.summary.scalar(list(d.keys())[0], list(d.values())[0][1]) # make available to tensorboard\n",
        "                eval_metrics.update(d)\n",
        "            return tf.estimator.EstimatorSpec(mode=mode,loss=loss, eval_metric_ops=eval_metrics)\n",
        "\n",
        "      return model_fn\n",
        "  \n",
        "  def prepare_examples(self, df_train, score_column, text_col_name):\n",
        "      num_labels = len(score_column)\n",
        "      train_input_examples = create_examples(df_train, score_column, text_col_name)\n",
        "      train_features = convert_examples_to_features(train_input_examples, max_seq_length, tokenizer)\n",
        "      train_input_fn = input_fn_builder(\n",
        "        features=train_features, seq_length=max_seq_length, \n",
        "        num_labels = num_labels, is_training=True, drop_remainder=False)\n",
        "      return train_input_fn\n",
        "  \n",
        "  def predict(self, \n",
        "            df_train, \n",
        "            score_col, \n",
        "            text_col\n",
        "             ):\n",
        "    \n",
        "    test_input_fn = self.prepare_examples(df_train, score_col, text_col)\n",
        "    preds = self.estimator.predict(input_fn=test_input_fn)\n",
        "    \n",
        "    return preds\n",
        "  \n",
        "  def evaluate(self, \n",
        "               eval_steps,\n",
        "               df_train, \n",
        "               score_col, \n",
        "               text_col):\n",
        "    num_labels = len(score_col)\n",
        "    eval_input_fn = self.prepare_examples(df_train, score_col, text_col)\n",
        "    \n",
        "    result = self.estimator.evaluate(input_fn=eval_input_fn, steps=eval_steps)\n",
        "    return result\n",
        "  \n",
        "  def train(self, num_train_steps, \n",
        "            df_train, \n",
        "            score_col, \n",
        "            text_col,\n",
        "            batch_size = 32, \n",
        "            lr = 2e-5, \n",
        "            num_warmup_steps=100,\n",
        "            save_summary_steps = 100,\n",
        "            save_checkpoints_steps = 500,\n",
        "            output_dir = \"./test_output\"):\n",
        "\n",
        "    #####  \n",
        "    num_labels = len(score_col)\n",
        "    \n",
        "    # Specify outpit directory and number of checkpoint steps to save\n",
        "    run_config = tf.estimator.RunConfig(model_dir=output_dir,\n",
        "        save_summary_steps=save_summary_steps, save_checkpoints_steps=save_checkpoints_steps)\n",
        "\n",
        "    #####\n",
        "\n",
        "\n",
        "    model_fn = self.model_fn_builder(num_labels = num_labels, learning_rate=lr,\n",
        "      num_train_steps=num_train_steps, num_warmup_steps=num_warmup_steps)\n",
        "\n",
        "    self.estimator = tf.estimator.Estimator(model_fn=model_fn,config=run_config,\n",
        "      params={\"batch_size\": batch_size})\n",
        "\n",
        "    #####\n",
        "\n",
        "    # Create an input function for training. drop_remainder = True for using TPUs.\n",
        "    train_input_fn = self.prepare_examples(df_train, score_col, text_col)\n",
        "\n",
        "    #####\n",
        "\n",
        "    print('Beginning Training!')\n",
        "    current_time = datetime.now()\n",
        "    self.estimator.train(input_fn=train_input_fn, max_steps=num_train_steps)\n",
        "    print(\"Training took time \", datetime.now() - current_time)"
      ],
      "execution_count": 0,
      "outputs": []
    },
    {
      "cell_type": "code",
      "metadata": {
        "id": "Z8iSEczc6NS1",
        "colab_type": "code",
        "outputId": "970c809e-a3ea-47b5-c0d2-3a1b1be57ca6",
        "colab": {
          "base_uri": "https://localhost:8080/",
          "height": 1066
        }
      },
      "source": [
        "\n",
        "tf.reset_default_graph()\n",
        "\n",
        "score_column = ['toxic', 'severe_toxic', 'obscene', 'threat', 'insult', 'identity_hate'] \n",
        "text_col_name = 'comment_text'\n",
        "\n",
        "neural_process = NLP_NeuralProcess()\n",
        "neural_process.train(df_train=df_train, \n",
        "                     score_col= score_column, \n",
        "                     text_col=text_col_name, \n",
        "                     num_train_steps=10**3, \n",
        "                     num_warmup_steps=5)"
      ],
      "execution_count": 0,
      "outputs": [
        {
          "output_type": "stream",
          "text": [
            "INFO:tensorflow:Using config: {'_model_dir': './test_output', '_tf_random_seed': None, '_save_summary_steps': 100, '_save_checkpoints_steps': 500, '_save_checkpoints_secs': None, '_session_config': allow_soft_placement: true\n",
            "graph_options {\n",
            "  rewrite_options {\n",
            "    meta_optimizer_iterations: ONE\n",
            "  }\n",
            "}\n",
            ", '_keep_checkpoint_max': 5, '_keep_checkpoint_every_n_hours': 10000, '_log_step_count_steps': 100, '_train_distribute': None, '_device_fn': None, '_protocol': None, '_eval_distribute': None, '_experimental_distribute': None, '_service': None, '_cluster_spec': <tensorflow.python.training.server_lib.ClusterSpec object at 0x7f29910cba90>, '_task_type': 'worker', '_task_id': 0, '_global_id_in_cluster': 0, '_master': '', '_evaluation_master': '', '_is_chief': True, '_num_ps_replicas': 0, '_num_worker_replicas': 1}\n"
          ],
          "name": "stdout"
        },
        {
          "output_type": "stream",
          "text": [
            "I0525 19:14:10.933789 139837062494080 estimator.py:201] Using config: {'_model_dir': './test_output', '_tf_random_seed': None, '_save_summary_steps': 100, '_save_checkpoints_steps': 500, '_save_checkpoints_secs': None, '_session_config': allow_soft_placement: true\n",
            "graph_options {\n",
            "  rewrite_options {\n",
            "    meta_optimizer_iterations: ONE\n",
            "  }\n",
            "}\n",
            ", '_keep_checkpoint_max': 5, '_keep_checkpoint_every_n_hours': 10000, '_log_step_count_steps': 100, '_train_distribute': None, '_device_fn': None, '_protocol': None, '_eval_distribute': None, '_experimental_distribute': None, '_service': None, '_cluster_spec': <tensorflow.python.training.server_lib.ClusterSpec object at 0x7f29910cba90>, '_task_type': 'worker', '_task_id': 0, '_global_id_in_cluster': 0, '_master': '', '_evaluation_master': '', '_is_chief': True, '_num_ps_replicas': 0, '_num_worker_replicas': 1}\n"
          ],
          "name": "stderr"
        },
        {
          "output_type": "stream",
          "text": [
            "Beginning Training!\n",
            "INFO:tensorflow:Calling model_fn.\n"
          ],
          "name": "stdout"
        },
        {
          "output_type": "stream",
          "text": [
            "I0525 19:14:33.321984 139837062494080 estimator.py:1111] Calling model_fn.\n"
          ],
          "name": "stderr"
        },
        {
          "output_type": "stream",
          "text": [
            "INFO:tensorflow:Saver not created because there are no variables in the graph to restore\n"
          ],
          "name": "stdout"
        },
        {
          "output_type": "stream",
          "text": [
            "I0525 19:14:35.689695 139837062494080 saver.py:1483] Saver not created because there are no variables in the graph to restore\n"
          ],
          "name": "stderr"
        },
        {
          "output_type": "stream",
          "text": [
            "INFO:tensorflow:Saver not created because there are no variables in the graph to restore\n"
          ],
          "name": "stdout"
        },
        {
          "output_type": "stream",
          "text": [
            "I0525 19:14:37.422665 139837062494080 saver.py:1483] Saver not created because there are no variables in the graph to restore\n"
          ],
          "name": "stderr"
        },
        {
          "output_type": "stream",
          "text": [
            "Tensor(\"module_apply_tokens_1/bert/pooler/dense/Tanh:0\", shape=(?, 768), dtype=float32)\n",
            "Tensor(\"GatherV2_9:0\", shape=(?, 6), dtype=float32)\n",
            "Tensor(\"concat:0\", shape=(?, 768), dtype=float32)\n",
            "Tensor(\"concat_3:0\", shape=(?, 6), dtype=float32)\n"
          ],
          "name": "stdout"
        },
        {
          "output_type": "stream",
          "text": [
            "/usr/local/lib/python3.6/dist-packages/tensorflow/python/ops/gradients_impl.py:110: UserWarning: Converting sparse IndexedSlices to a dense Tensor of unknown shape. This may consume a large amount of memory.\n",
            "  \"Converting sparse IndexedSlices to a dense Tensor of unknown shape. \"\n"
          ],
          "name": "stderr"
        },
        {
          "output_type": "stream",
          "text": [
            "INFO:tensorflow:Done calling model_fn.\n"
          ],
          "name": "stdout"
        },
        {
          "output_type": "stream",
          "text": [
            "I0525 19:14:51.556448 139837062494080 estimator.py:1113] Done calling model_fn.\n"
          ],
          "name": "stderr"
        },
        {
          "output_type": "stream",
          "text": [
            "INFO:tensorflow:Create CheckpointSaverHook.\n"
          ],
          "name": "stdout"
        },
        {
          "output_type": "stream",
          "text": [
            "I0525 19:14:51.564458 139837062494080 basic_session_run_hooks.py:527] Create CheckpointSaverHook.\n"
          ],
          "name": "stderr"
        },
        {
          "output_type": "stream",
          "text": [
            "INFO:tensorflow:Graph was finalized.\n"
          ],
          "name": "stdout"
        },
        {
          "output_type": "stream",
          "text": [
            "I0525 19:14:53.365118 139837062494080 monitored_session.py:222] Graph was finalized.\n"
          ],
          "name": "stderr"
        },
        {
          "output_type": "stream",
          "text": [
            "INFO:tensorflow:Restoring parameters from ./test_output/model.ckpt-100\n"
          ],
          "name": "stdout"
        },
        {
          "output_type": "stream",
          "text": [
            "I0525 19:14:53.379348 139837062494080 saver.py:1270] Restoring parameters from ./test_output/model.ckpt-100\n"
          ],
          "name": "stderr"
        },
        {
          "output_type": "stream",
          "text": [
            "INFO:tensorflow:Running local_init_op.\n"
          ],
          "name": "stdout"
        },
        {
          "output_type": "stream",
          "text": [
            "I0525 19:14:56.202371 139837062494080 session_manager.py:491] Running local_init_op.\n"
          ],
          "name": "stderr"
        },
        {
          "output_type": "stream",
          "text": [
            "INFO:tensorflow:Done running local_init_op.\n"
          ],
          "name": "stdout"
        },
        {
          "output_type": "stream",
          "text": [
            "I0525 19:14:56.515214 139837062494080 session_manager.py:493] Done running local_init_op.\n"
          ],
          "name": "stderr"
        },
        {
          "output_type": "stream",
          "text": [
            "INFO:tensorflow:Saving checkpoints for 100 into ./test_output/model.ckpt.\n"
          ],
          "name": "stdout"
        },
        {
          "output_type": "stream",
          "text": [
            "I0525 19:15:14.274794 139837062494080 basic_session_run_hooks.py:594] Saving checkpoints for 100 into ./test_output/model.ckpt.\n"
          ],
          "name": "stderr"
        },
        {
          "output_type": "stream",
          "text": [
            "INFO:tensorflow:loss = -2.9521985, step = 100\n"
          ],
          "name": "stdout"
        },
        {
          "output_type": "stream",
          "text": [
            "I0525 19:15:34.417469 139837062494080 basic_session_run_hooks.py:249] loss = -2.9521985, step = 100\n"
          ],
          "name": "stderr"
        },
        {
          "output_type": "stream",
          "text": [
            "INFO:tensorflow:global_step/sec: 0.933013\n"
          ],
          "name": "stdout"
        },
        {
          "output_type": "stream",
          "text": [
            "I0525 19:17:21.596404 139837062494080 basic_session_run_hooks.py:680] global_step/sec: 0.933013\n"
          ],
          "name": "stderr"
        },
        {
          "output_type": "stream",
          "text": [
            "INFO:tensorflow:loss = -7.8169255, step = 200 (107.181 sec)\n"
          ],
          "name": "stdout"
        },
        {
          "output_type": "stream",
          "text": [
            "I0525 19:17:21.598693 139837062494080 basic_session_run_hooks.py:247] loss = -7.8169255, step = 200 (107.181 sec)\n"
          ],
          "name": "stderr"
        },
        {
          "output_type": "stream",
          "text": [
            "INFO:tensorflow:global_step/sec: 1.1633\n"
          ],
          "name": "stdout"
        },
        {
          "output_type": "stream",
          "text": [
            "I0525 19:18:47.558443 139837062494080 basic_session_run_hooks.py:680] global_step/sec: 1.1633\n"
          ],
          "name": "stderr"
        },
        {
          "output_type": "stream",
          "text": [
            "INFO:tensorflow:loss = -6.9259486, step = 300 (85.963 sec)\n"
          ],
          "name": "stdout"
        },
        {
          "output_type": "stream",
          "text": [
            "I0525 19:18:47.561502 139837062494080 basic_session_run_hooks.py:247] loss = -6.9259486, step = 300 (85.963 sec)\n"
          ],
          "name": "stderr"
        },
        {
          "output_type": "stream",
          "text": [
            "INFO:tensorflow:global_step/sec: 1.16613\n"
          ],
          "name": "stdout"
        },
        {
          "output_type": "stream",
          "text": [
            "I0525 19:20:13.312349 139837062494080 basic_session_run_hooks.py:680] global_step/sec: 1.16613\n"
          ],
          "name": "stderr"
        },
        {
          "output_type": "stream",
          "text": [
            "INFO:tensorflow:loss = -9.028726, step = 400 (85.757 sec)\n"
          ],
          "name": "stdout"
        },
        {
          "output_type": "stream",
          "text": [
            "I0525 19:20:13.318729 139837062494080 basic_session_run_hooks.py:247] loss = -9.028726, step = 400 (85.757 sec)\n"
          ],
          "name": "stderr"
        },
        {
          "output_type": "stream",
          "text": [
            "INFO:tensorflow:global_step/sec: 1.1695\n"
          ],
          "name": "stdout"
        },
        {
          "output_type": "stream",
          "text": [
            "I0525 19:21:38.819308 139837062494080 basic_session_run_hooks.py:680] global_step/sec: 1.1695\n"
          ],
          "name": "stderr"
        },
        {
          "output_type": "stream",
          "text": [
            "INFO:tensorflow:loss = -11.053857, step = 500 (85.507 sec)\n"
          ],
          "name": "stdout"
        },
        {
          "output_type": "stream",
          "text": [
            "I0525 19:21:38.825673 139837062494080 basic_session_run_hooks.py:247] loss = -11.053857, step = 500 (85.507 sec)\n"
          ],
          "name": "stderr"
        },
        {
          "output_type": "stream",
          "text": [
            "INFO:tensorflow:Saving checkpoints for 600 into ./test_output/model.ckpt.\n"
          ],
          "name": "stdout"
        },
        {
          "output_type": "stream",
          "text": [
            "I0525 19:23:03.699277 139837062494080 basic_session_run_hooks.py:594] Saving checkpoints for 600 into ./test_output/model.ckpt.\n"
          ],
          "name": "stderr"
        }
      ]
    },
    {
      "cell_type": "code",
      "metadata": {
        "id": "uHP88st76N4l",
        "colab_type": "code",
        "colab": {}
      },
      "source": [
        "neural_process.evaluate(10**2,\n",
        "                       df_train.reset_index().loc[:2,], \n",
        "                       score_col= score_column, \n",
        "                       text_col=text_col_name)"
      ],
      "execution_count": 0,
      "outputs": []
    },
    {
      "cell_type": "code",
      "metadata": {
        "id": "xLEcj7wqNSEg",
        "colab_type": "code",
        "colab": {}
      },
      "source": [
        "num_labels = len(score_column)\n",
        "df = df_train.reset_index().loc[:2,].copy()\n",
        "train_input_examples = create_examples(df, score_column, text_col_name)\n",
        "train_features = convert_examples_to_features(train_input_examples, max_seq_length, tokenizer)"
      ],
      "execution_count": 0,
      "outputs": []
    },
    {
      "cell_type": "code",
      "metadata": {
        "id": "X3OnR4EuRlh1",
        "colab_type": "code",
        "colab": {}
      },
      "source": [
        "df"
      ],
      "execution_count": 0,
      "outputs": []
    },
    {
      "cell_type": "code",
      "metadata": {
        "id": "YLaPs0prSCG2",
        "colab_type": "code",
        "colab": {}
      },
      "source": [
        "train_features"
      ],
      "execution_count": 0,
      "outputs": []
    },
    {
      "cell_type": "code",
      "metadata": {
        "id": "B32wPoYDN22n",
        "colab_type": "code",
        "colab": {}
      },
      "source": [
        "train_input_fn = input_fn_builder(\n",
        "        features=train_features, seq_length=max_seq_length, \n",
        "        num_labels = num_labels, is_training=False, drop_remainder=False)"
      ],
      "execution_count": 0,
      "outputs": []
    },
    {
      "cell_type": "code",
      "metadata": {
        "id": "-mfPBRIqMyCc",
        "colab_type": "code",
        "colab": {}
      },
      "source": [
        "preds = neural_process.estimator.predict(train_input_fn)\n",
        "for pred in preds:\n",
        "  print(pred)"
      ],
      "execution_count": 0,
      "outputs": []
    },
    {
      "cell_type": "code",
      "metadata": {
        "id": "N1juNA1wx_iN",
        "colab_type": "code",
        "colab": {}
      },
      "source": [
        "predictions = neural_process.predict(df_train.reset_index().loc[:2,], \n",
        "                       score_col= score_column, \n",
        "                       text_col=text_col_name)"
      ],
      "execution_count": 0,
      "outputs": []
    },
    {
      "cell_type": "code",
      "metadata": {
        "id": "b0kL1xBXHyfo",
        "colab_type": "code",
        "colab": {}
      },
      "source": [
        "df_train"
      ],
      "execution_count": 0,
      "outputs": []
    },
    {
      "cell_type": "code",
      "metadata": {
        "id": "6-MygIs9HgpF",
        "colab_type": "code",
        "colab": {}
      },
      "source": [
        "df_train.reset_index().loc[:2,]"
      ],
      "execution_count": 0,
      "outputs": []
    },
    {
      "cell_type": "code",
      "metadata": {
        "id": "5g4SEAmxHA-l",
        "colab_type": "code",
        "colab": {}
      },
      "source": [
        "for pred in predictions:\n",
        "  print(pred)"
      ],
      "execution_count": 0,
      "outputs": []
    },
    {
      "cell_type": "code",
      "metadata": {
        "id": "nfFbJFGBkW-8",
        "colab_type": "code",
        "colab": {}
      },
      "source": [
        "! cp -r ./test_output \"./gdrive/My Drive/Data/\""
      ],
      "execution_count": 0,
      "outputs": []
    },
    {
      "cell_type": "code",
      "metadata": {
        "id": "M5B_xCGcxazj",
        "colab_type": "code",
        "colab": {}
      },
      "source": [
        "print(\"***** Eval results *****\")\n",
        "for key in sorted(result.keys()):\n",
        "  print('  {} = {}'.format(key, str(result[key])))\n",
        "      "
      ],
      "execution_count": 0,
      "outputs": []
    },
    {
      "cell_type": "code",
      "metadata": {
        "id": "3OrESQAVOcT9",
        "colab_type": "code",
        "colab": {}
      },
      "source": [
        "predict_features = test_features[:100]"
      ],
      "execution_count": 0,
      "outputs": []
    },
    {
      "cell_type": "code",
      "metadata": {
        "colab_type": "code",
        "id": "3LbhkBuhn83S",
        "colab": {}
      },
      "source": [
        "test_input_fn = input_fn_builder(\n",
        "    features=predict_features, seq_length=max_seq_length, \n",
        "    num_labels = num_labels, is_training=False, drop_remainder=False)"
      ],
      "execution_count": 0,
      "outputs": []
    },
    {
      "cell_type": "code",
      "metadata": {
        "id": "DW94Qp_XXB4J",
        "colab_type": "code",
        "colab": {}
      },
      "source": [
        "test_scores = np.array([predict_features[i].score for i, val in enumerate(predict_features)])\n",
        "\n",
        "preds = estimator.predict(input_fn=test_input_fn)\n",
        "preds_vals = list(preds)\n",
        "pred_means = np.array([val['prediction_mean'] for key, val in enumerate(preds_vals)])"
      ],
      "execution_count": 0,
      "outputs": []
    },
    {
      "cell_type": "markdown",
      "metadata": {
        "id": "h5PsPzmyH6sA",
        "colab_type": "text"
      },
      "source": [
        ""
      ]
    },
    {
      "cell_type": "code",
      "metadata": {
        "id": "RJvlFgZ9j_r6",
        "colab_type": "code",
        "colab": {}
      },
      "source": [
        "def total_accuaracy(pred_means, test_scores):\n",
        "  preds = np.round(pred_means)\n",
        "  correct_guesses = np.reshape(preds == test_scores,-1)\n",
        "  return np.sum(correct_guesses) / len(correct_guesses)"
      ],
      "execution_count": 0,
      "outputs": []
    },
    {
      "cell_type": "code",
      "metadata": {
        "id": "cPZACnkUGrr5",
        "colab_type": "code",
        "colab": {}
      },
      "source": [
        "def class_accuaracy(pred_means, test_scores):\n",
        "  preds = np.round(pred_means)\n",
        "  correct_guesses = preds == test_scores\n",
        "  return correct_guesses.sum(axis=0)/ len(correct_guesses)\n"
      ],
      "execution_count": 0,
      "outputs": []
    },
    {
      "cell_type": "code",
      "metadata": {
        "id": "-xVcqWkdHT-s",
        "colab_type": "code",
        "colab": {}
      },
      "source": [
        "print(total_accuaracy(pred_means, test_scores))\n",
        "print(class_accuaracy(pred_means, test_scores))"
      ],
      "execution_count": 0,
      "outputs": []
    },
    {
      "cell_type": "code",
      "metadata": {
        "id": "wjZUS-Ergg00",
        "colab_type": "code",
        "colab": {}
      },
      "source": [
        "preds_vals"
      ],
      "execution_count": 0,
      "outputs": []
    },
    {
      "cell_type": "code",
      "metadata": {
        "id": "m2flPKNig2zn",
        "colab_type": "code",
        "colab": {}
      },
      "source": [
        "test_scores"
      ],
      "execution_count": 0,
      "outputs": []
    }
  ]
}